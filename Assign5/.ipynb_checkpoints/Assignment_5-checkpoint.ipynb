{
 "cells": [
  {
   "cell_type": "markdown",
   "metadata": {
    "id": "KS8_b7ZzQrOQ"
   },
   "source": [
    "# Grade: /100 pts\n",
    "\n",
    "# Assignment 05: Model Selection & Cross Validation\n",
    "\n",
    "### Follow These Instructions\n",
    "\n",
    "Once you are finished, ensure to complete the following steps.\n",
    "\n",
    "1.  Restart your kernel by clicking 'Kernel' > 'Restart & Run All'.\n",
    "\n",
    "2.  Fix any errors which result from this.\n",
    "\n",
    "3.  Repeat steps 1. and 2. until your notebook runs without errors.\n",
    "\n",
    "4.  Submit your completed notebook to OWL by the deadline.\n",
    "\n",
    "\n",
    "\n",
    "#### In this assignment, we will work on the bank loan data. The task is to build a model given the information of clients to predict whether the clients default or not. The data file is `loan_Data.csv`.  The target variable is `loanDefault`, which can be Fully Paid or Charged Off. The data includes some information about the payment behavior and customer characteristics such as job and purpose acquiring the current loan. You could view the description of the variables in `loan_param.xlsx`.\n",
    "\n",
    "\n",
    "\n",
    "---"
   ]
  },
  {
   "cell_type": "markdown",
   "metadata": {},
   "source": [
    "### Global Toolbox"
   ]
  },
  {
   "cell_type": "code",
   "execution_count": 1,
   "metadata": {
    "id": "hV01UYGeQrOS"
   },
   "outputs": [],
   "source": [
    "import pandas as pd\n",
    "import numpy as np\n",
    "import matplotlib.pyplot as plt\n",
    "import seaborn as sns\n",
    "from sklearn.model_selection import train_test_split,StratifiedKFold\n",
    "from sklearn.linear_model import LogisticRegression\n",
    "from sklearn.pipeline import Pipeline\n",
    "from sklearn.preprocessing import StandardScaler\n",
    "from sklearn.metrics import roc_curve, auc, roc_auc_score\n",
    "\n",
    "\n",
    "pd.set_option('display.max_columns', 500)\n",
    "%matplotlib inline\n",
    "plt.style.use('ggplot')\n"
   ]
  },
  {
   "cell_type": "markdown",
   "metadata": {
    "id": "P8OR-sYkQrOU"
   },
   "source": [
    "_____"
   ]
  },
  {
   "cell_type": "markdown",
   "metadata": {
    "id": "735oycK-QrOU"
   },
   "source": [
    "## Question 1: /10 pts\n",
    "\n",
    "#### 1.1 Load the data `loan_Data.csv` and display the last 10 rows. How many features and how many obersvations are there in the dataset?"
   ]
  },
  {
   "cell_type": "code",
   "execution_count": 2,
   "metadata": {
    "colab": {
     "base_uri": "https://localhost:8080/",
     "height": 339
    },
    "executionInfo": {
     "elapsed": 9,
     "status": "ok",
     "timestamp": 1645217225791,
     "user": {
      "displayName": "Sherly Paola Alfonso Sanchez",
      "photoUrl": "https://lh3.googleusercontent.com/a-/AOh14GijrV5WVdbIJAyqF5INLE4mArbounb3tab5kiCFIw=s64",
      "userId": "17112094500915447092"
     },
     "user_tz": 300
    },
    "id": "4yBYxJe2QrOU",
    "outputId": "a9e8cfac-cea2-483f-d128-5a55c6abb45a"
   },
   "outputs": [
    {
     "data": {
      "text/html": [
       "<div>\n",
       "<style scoped>\n",
       "    .dataframe tbody tr th:only-of-type {\n",
       "        vertical-align: middle;\n",
       "    }\n",
       "\n",
       "    .dataframe tbody tr th {\n",
       "        vertical-align: top;\n",
       "    }\n",
       "\n",
       "    .dataframe thead th {\n",
       "        text-align: right;\n",
       "    }\n",
       "</style>\n",
       "<table border=\"1\" class=\"dataframe\">\n",
       "  <thead>\n",
       "    <tr style=\"text-align: right;\">\n",
       "      <th></th>\n",
       "      <th>loanAmnt</th>\n",
       "      <th>annualInc</th>\n",
       "      <th>application_type</th>\n",
       "      <th>int_rate</th>\n",
       "      <th>revol_bal</th>\n",
       "      <th>revol_util</th>\n",
       "      <th>dti</th>\n",
       "      <th>emp_length</th>\n",
       "      <th>grade</th>\n",
       "      <th>homeOwnership</th>\n",
       "      <th>installment</th>\n",
       "      <th>job</th>\n",
       "      <th>loanDefault</th>\n",
       "      <th>mortAcc</th>\n",
       "      <th>pub_rec_bankruptcies</th>\n",
       "      <th>purpose</th>\n",
       "      <th>term</th>\n",
       "      <th>Year</th>\n",
       "    </tr>\n",
       "  </thead>\n",
       "  <tbody>\n",
       "    <tr>\n",
       "      <th>990</th>\n",
       "      <td>3900.0</td>\n",
       "      <td>38100.0</td>\n",
       "      <td>INDIVIDUAL</td>\n",
       "      <td>7.90</td>\n",
       "      <td>10936.0</td>\n",
       "      <td>91.9</td>\n",
       "      <td>15.06</td>\n",
       "      <td>6</td>\n",
       "      <td>A</td>\n",
       "      <td>MORTGAGE</td>\n",
       "      <td>122.04</td>\n",
       "      <td>University of North Carolina</td>\n",
       "      <td>Fully Paid</td>\n",
       "      <td>6</td>\n",
       "      <td>0</td>\n",
       "      <td>credit_card</td>\n",
       "      <td>36</td>\n",
       "      <td>2011</td>\n",
       "    </tr>\n",
       "    <tr>\n",
       "      <th>991</th>\n",
       "      <td>12000.0</td>\n",
       "      <td>70000.0</td>\n",
       "      <td>INDIVIDUAL</td>\n",
       "      <td>6.62</td>\n",
       "      <td>22219.0</td>\n",
       "      <td>60.1</td>\n",
       "      <td>28.58</td>\n",
       "      <td>10</td>\n",
       "      <td>A</td>\n",
       "      <td>MORTGAGE</td>\n",
       "      <td>368.45</td>\n",
       "      <td>school dist. 21</td>\n",
       "      <td>Fully Paid</td>\n",
       "      <td>12</td>\n",
       "      <td>0</td>\n",
       "      <td>debt_consolidation</td>\n",
       "      <td>36</td>\n",
       "      <td>2012</td>\n",
       "    </tr>\n",
       "    <tr>\n",
       "      <th>992</th>\n",
       "      <td>3125.0</td>\n",
       "      <td>70000.0</td>\n",
       "      <td>INDIVIDUAL</td>\n",
       "      <td>11.44</td>\n",
       "      <td>2875.0</td>\n",
       "      <td>58.0</td>\n",
       "      <td>2.64</td>\n",
       "      <td>10</td>\n",
       "      <td>B</td>\n",
       "      <td>MORTGAGE</td>\n",
       "      <td>102.97</td>\n",
       "      <td>Carrier</td>\n",
       "      <td>Fully Paid</td>\n",
       "      <td>5</td>\n",
       "      <td>1</td>\n",
       "      <td>credit_card</td>\n",
       "      <td>36</td>\n",
       "      <td>2015</td>\n",
       "    </tr>\n",
       "    <tr>\n",
       "      <th>993</th>\n",
       "      <td>30375.0</td>\n",
       "      <td>150000.0</td>\n",
       "      <td>INDIVIDUAL</td>\n",
       "      <td>14.31</td>\n",
       "      <td>55242.0</td>\n",
       "      <td>70.8</td>\n",
       "      <td>24.79</td>\n",
       "      <td>1</td>\n",
       "      <td>C</td>\n",
       "      <td>RENT</td>\n",
       "      <td>1042.73</td>\n",
       "      <td>Vice President</td>\n",
       "      <td>Fully Paid</td>\n",
       "      <td>11</td>\n",
       "      <td>0</td>\n",
       "      <td>debt_consolidation</td>\n",
       "      <td>36</td>\n",
       "      <td>2015</td>\n",
       "    </tr>\n",
       "    <tr>\n",
       "      <th>994</th>\n",
       "      <td>35000.0</td>\n",
       "      <td>135000.0</td>\n",
       "      <td>INDIVIDUAL</td>\n",
       "      <td>11.99</td>\n",
       "      <td>30620.0</td>\n",
       "      <td>56.0</td>\n",
       "      <td>18.80</td>\n",
       "      <td>1</td>\n",
       "      <td>C</td>\n",
       "      <td>MORTGAGE</td>\n",
       "      <td>778.38</td>\n",
       "      <td>Registered Nurse</td>\n",
       "      <td>Fully Paid</td>\n",
       "      <td>19</td>\n",
       "      <td>0</td>\n",
       "      <td>debt_consolidation</td>\n",
       "      <td>60</td>\n",
       "      <td>2015</td>\n",
       "    </tr>\n",
       "    <tr>\n",
       "      <th>995</th>\n",
       "      <td>10000.0</td>\n",
       "      <td>40000.0</td>\n",
       "      <td>INDIVIDUAL</td>\n",
       "      <td>17.86</td>\n",
       "      <td>9023.0</td>\n",
       "      <td>52.5</td>\n",
       "      <td>26.07</td>\n",
       "      <td>5</td>\n",
       "      <td>D</td>\n",
       "      <td>MORTGAGE</td>\n",
       "      <td>253.18</td>\n",
       "      <td>property manager</td>\n",
       "      <td>Charged Off</td>\n",
       "      <td>11</td>\n",
       "      <td>0</td>\n",
       "      <td>credit_card</td>\n",
       "      <td>60</td>\n",
       "      <td>2015</td>\n",
       "    </tr>\n",
       "    <tr>\n",
       "      <th>996</th>\n",
       "      <td>9000.0</td>\n",
       "      <td>96000.0</td>\n",
       "      <td>INDIVIDUAL</td>\n",
       "      <td>6.49</td>\n",
       "      <td>17017.0</td>\n",
       "      <td>30.4</td>\n",
       "      <td>8.91</td>\n",
       "      <td>1</td>\n",
       "      <td>A</td>\n",
       "      <td>RENT</td>\n",
       "      <td>275.81</td>\n",
       "      <td>Communications Manager</td>\n",
       "      <td>Fully Paid</td>\n",
       "      <td>16</td>\n",
       "      <td>0</td>\n",
       "      <td>credit_card</td>\n",
       "      <td>36</td>\n",
       "      <td>2014</td>\n",
       "    </tr>\n",
       "    <tr>\n",
       "      <th>997</th>\n",
       "      <td>5600.0</td>\n",
       "      <td>65000.0</td>\n",
       "      <td>INDIVIDUAL</td>\n",
       "      <td>8.90</td>\n",
       "      <td>21409.0</td>\n",
       "      <td>92.7</td>\n",
       "      <td>12.09</td>\n",
       "      <td>4</td>\n",
       "      <td>A</td>\n",
       "      <td>MORTGAGE</td>\n",
       "      <td>177.82</td>\n",
       "      <td>Grasmere Place</td>\n",
       "      <td>Fully Paid</td>\n",
       "      <td>11</td>\n",
       "      <td>0</td>\n",
       "      <td>vacation</td>\n",
       "      <td>36</td>\n",
       "      <td>2012</td>\n",
       "    </tr>\n",
       "    <tr>\n",
       "      <th>998</th>\n",
       "      <td>25000.0</td>\n",
       "      <td>79980.0</td>\n",
       "      <td>INDIVIDUAL</td>\n",
       "      <td>19.72</td>\n",
       "      <td>9706.0</td>\n",
       "      <td>69.8</td>\n",
       "      <td>17.73</td>\n",
       "      <td>2</td>\n",
       "      <td>D</td>\n",
       "      <td>RENT</td>\n",
       "      <td>658.46</td>\n",
       "      <td>bed bath &amp; beyond</td>\n",
       "      <td>Fully Paid</td>\n",
       "      <td>9</td>\n",
       "      <td>0</td>\n",
       "      <td>debt_consolidation</td>\n",
       "      <td>60</td>\n",
       "      <td>2012</td>\n",
       "    </tr>\n",
       "    <tr>\n",
       "      <th>999</th>\n",
       "      <td>15000.0</td>\n",
       "      <td>63000.0</td>\n",
       "      <td>INDIVIDUAL</td>\n",
       "      <td>11.99</td>\n",
       "      <td>15493.0</td>\n",
       "      <td>69.5</td>\n",
       "      <td>17.57</td>\n",
       "      <td>2</td>\n",
       "      <td>B</td>\n",
       "      <td>RENT</td>\n",
       "      <td>498.15</td>\n",
       "      <td>Account Manager</td>\n",
       "      <td>Fully Paid</td>\n",
       "      <td>28</td>\n",
       "      <td>0</td>\n",
       "      <td>credit_card</td>\n",
       "      <td>36</td>\n",
       "      <td>2014</td>\n",
       "    </tr>\n",
       "  </tbody>\n",
       "</table>\n",
       "</div>"
      ],
      "text/plain": [
       "     loanAmnt  annualInc application_type  int_rate  revol_bal  revol_util  \\\n",
       "990    3900.0    38100.0       INDIVIDUAL      7.90    10936.0        91.9   \n",
       "991   12000.0    70000.0       INDIVIDUAL      6.62    22219.0        60.1   \n",
       "992    3125.0    70000.0       INDIVIDUAL     11.44     2875.0        58.0   \n",
       "993   30375.0   150000.0       INDIVIDUAL     14.31    55242.0        70.8   \n",
       "994   35000.0   135000.0       INDIVIDUAL     11.99    30620.0        56.0   \n",
       "995   10000.0    40000.0       INDIVIDUAL     17.86     9023.0        52.5   \n",
       "996    9000.0    96000.0       INDIVIDUAL      6.49    17017.0        30.4   \n",
       "997    5600.0    65000.0       INDIVIDUAL      8.90    21409.0        92.7   \n",
       "998   25000.0    79980.0       INDIVIDUAL     19.72     9706.0        69.8   \n",
       "999   15000.0    63000.0       INDIVIDUAL     11.99    15493.0        69.5   \n",
       "\n",
       "       dti  emp_length grade homeOwnership  installment  \\\n",
       "990  15.06           6     A      MORTGAGE       122.04   \n",
       "991  28.58          10     A      MORTGAGE       368.45   \n",
       "992   2.64          10     B      MORTGAGE       102.97   \n",
       "993  24.79           1     C          RENT      1042.73   \n",
       "994  18.80           1     C      MORTGAGE       778.38   \n",
       "995  26.07           5     D      MORTGAGE       253.18   \n",
       "996   8.91           1     A          RENT       275.81   \n",
       "997  12.09           4     A      MORTGAGE       177.82   \n",
       "998  17.73           2     D          RENT       658.46   \n",
       "999  17.57           2     B          RENT       498.15   \n",
       "\n",
       "                              job  loanDefault  mortAcc  pub_rec_bankruptcies  \\\n",
       "990  University of North Carolina   Fully Paid        6                     0   \n",
       "991               school dist. 21   Fully Paid       12                     0   \n",
       "992                       Carrier   Fully Paid        5                     1   \n",
       "993                Vice President   Fully Paid       11                     0   \n",
       "994              Registered Nurse   Fully Paid       19                     0   \n",
       "995             property manager   Charged Off       11                     0   \n",
       "996        Communications Manager   Fully Paid       16                     0   \n",
       "997                Grasmere Place   Fully Paid       11                     0   \n",
       "998             bed bath & beyond   Fully Paid        9                     0   \n",
       "999               Account Manager   Fully Paid       28                     0   \n",
       "\n",
       "                purpose  term  Year  \n",
       "990         credit_card    36  2011  \n",
       "991  debt_consolidation    36  2012  \n",
       "992         credit_card    36  2015  \n",
       "993  debt_consolidation    36  2015  \n",
       "994  debt_consolidation    60  2015  \n",
       "995         credit_card    60  2015  \n",
       "996         credit_card    36  2014  \n",
       "997            vacation    36  2012  \n",
       "998  debt_consolidation    60  2012  \n",
       "999         credit_card    36  2014  "
      ]
     },
     "execution_count": 2,
     "metadata": {},
     "output_type": "execute_result"
    }
   ],
   "source": [
    "# Load the data and display\n",
    "\n",
    "# 2 pt\n",
    "\n",
    "df = pd.read_csv('loan_Data.csv', delimiter=';')\n",
    "\n",
    "df.tail(10)"
   ]
  },
  {
   "cell_type": "markdown",
   "metadata": {},
   "source": [
    "**Written Answer** [2 pt]: \n",
    "\n",
    "There are 1000 observations in the dataset."
   ]
  },
  {
   "cell_type": "markdown",
   "metadata": {},
   "source": [
    "#### 1.2 Create a bar graph to visualize the count of `Charged Off` and `Fully Paid`. Calculate the percentage of `Charged off`, which is the percentage of default."
   ]
  },
  {
   "cell_type": "code",
   "execution_count": 3,
   "metadata": {},
   "outputs": [
    {
     "data": {
      "text/plain": [
       "<Axes: xlabel='loanDefault'>"
      ]
     },
     "execution_count": 3,
     "metadata": {},
     "output_type": "execute_result"
    },
    {
     "data": {
      "image/png": "[encoded data removed]",
      "text/plain": [
       "<Figure size 640x480 with 1 Axes>"
      ]
     },
     "metadata": {},
     "output_type": "display_data"
    }
   ],
   "source": [
    "# Plot\n",
    "\n",
    "df['loanDefault'].value_counts().plot(kind='bar')\n",
    "\n",
    "# 2pts"
   ]
  },
  {
   "cell_type": "code",
   "execution_count": 4,
   "metadata": {},
   "outputs": [
    {
     "data": {
      "text/plain": [
       "0.179"
      ]
     },
     "execution_count": 4,
     "metadata": {},
     "output_type": "execute_result"
    }
   ],
   "source": [
    "# Calculate the percentage\n",
    "\n",
    "p = df['loanDefault'].value_counts()[1] / len(df['loanDefault'])\n",
    "p"
   ]
  },
  {
   "cell_type": "markdown",
   "metadata": {
    "id": "hG4NT8m-QrOX"
   },
   "source": [
    "**Written Answer** [2 pt]: \n",
    "\n",
    "The percentage is 17.9%."
   ]
  },
  {
   "cell_type": "markdown",
   "metadata": {},
   "source": [
    "#### 1.3 Change the values of the column `loanDefault` to 1 if the loan is `Charged Off` and 0 if it is `Fully Paid`. "
   ]
  },
  {
   "cell_type": "code",
   "execution_count": 5,
   "metadata": {},
   "outputs": [
    {
     "data": {
      "text/html": [
       "<div>\n",
       "<style scoped>\n",
       "    .dataframe tbody tr th:only-of-type {\n",
       "        vertical-align: middle;\n",
       "    }\n",
       "\n",
       "    .dataframe tbody tr th {\n",
       "        vertical-align: top;\n",
       "    }\n",
       "\n",
       "    .dataframe thead th {\n",
       "        text-align: right;\n",
       "    }\n",
       "</style>\n",
       "<table border=\"1\" class=\"dataframe\">\n",
       "  <thead>\n",
       "    <tr style=\"text-align: right;\">\n",
       "      <th></th>\n",
       "      <th>loanAmnt</th>\n",
       "      <th>annualInc</th>\n",
       "      <th>application_type</th>\n",
       "      <th>int_rate</th>\n",
       "      <th>revol_bal</th>\n",
       "      <th>revol_util</th>\n",
       "      <th>dti</th>\n",
       "      <th>emp_length</th>\n",
       "      <th>grade</th>\n",
       "      <th>homeOwnership</th>\n",
       "      <th>installment</th>\n",
       "      <th>job</th>\n",
       "      <th>loanDefault</th>\n",
       "      <th>mortAcc</th>\n",
       "      <th>pub_rec_bankruptcies</th>\n",
       "      <th>purpose</th>\n",
       "      <th>term</th>\n",
       "      <th>Year</th>\n",
       "    </tr>\n",
       "  </thead>\n",
       "  <tbody>\n",
       "    <tr>\n",
       "      <th>995</th>\n",
       "      <td>10000.0</td>\n",
       "      <td>40000.0</td>\n",
       "      <td>INDIVIDUAL</td>\n",
       "      <td>17.86</td>\n",
       "      <td>9023.0</td>\n",
       "      <td>52.5</td>\n",
       "      <td>26.07</td>\n",
       "      <td>5</td>\n",
       "      <td>D</td>\n",
       "      <td>MORTGAGE</td>\n",
       "      <td>253.18</td>\n",
       "      <td>property manager</td>\n",
       "      <td>1</td>\n",
       "      <td>11</td>\n",
       "      <td>0</td>\n",
       "      <td>credit_card</td>\n",
       "      <td>60</td>\n",
       "      <td>2015</td>\n",
       "    </tr>\n",
       "    <tr>\n",
       "      <th>996</th>\n",
       "      <td>9000.0</td>\n",
       "      <td>96000.0</td>\n",
       "      <td>INDIVIDUAL</td>\n",
       "      <td>6.49</td>\n",
       "      <td>17017.0</td>\n",
       "      <td>30.4</td>\n",
       "      <td>8.91</td>\n",
       "      <td>1</td>\n",
       "      <td>A</td>\n",
       "      <td>RENT</td>\n",
       "      <td>275.81</td>\n",
       "      <td>Communications Manager</td>\n",
       "      <td>0</td>\n",
       "      <td>16</td>\n",
       "      <td>0</td>\n",
       "      <td>credit_card</td>\n",
       "      <td>36</td>\n",
       "      <td>2014</td>\n",
       "    </tr>\n",
       "    <tr>\n",
       "      <th>997</th>\n",
       "      <td>5600.0</td>\n",
       "      <td>65000.0</td>\n",
       "      <td>INDIVIDUAL</td>\n",
       "      <td>8.90</td>\n",
       "      <td>21409.0</td>\n",
       "      <td>92.7</td>\n",
       "      <td>12.09</td>\n",
       "      <td>4</td>\n",
       "      <td>A</td>\n",
       "      <td>MORTGAGE</td>\n",
       "      <td>177.82</td>\n",
       "      <td>Grasmere Place</td>\n",
       "      <td>0</td>\n",
       "      <td>11</td>\n",
       "      <td>0</td>\n",
       "      <td>vacation</td>\n",
       "      <td>36</td>\n",
       "      <td>2012</td>\n",
       "    </tr>\n",
       "    <tr>\n",
       "      <th>998</th>\n",
       "      <td>25000.0</td>\n",
       "      <td>79980.0</td>\n",
       "      <td>INDIVIDUAL</td>\n",
       "      <td>19.72</td>\n",
       "      <td>9706.0</td>\n",
       "      <td>69.8</td>\n",
       "      <td>17.73</td>\n",
       "      <td>2</td>\n",
       "      <td>D</td>\n",
       "      <td>RENT</td>\n",
       "      <td>658.46</td>\n",
       "      <td>bed bath &amp; beyond</td>\n",
       "      <td>0</td>\n",
       "      <td>9</td>\n",
       "      <td>0</td>\n",
       "      <td>debt_consolidation</td>\n",
       "      <td>60</td>\n",
       "      <td>2012</td>\n",
       "    </tr>\n",
       "    <tr>\n",
       "      <th>999</th>\n",
       "      <td>15000.0</td>\n",
       "      <td>63000.0</td>\n",
       "      <td>INDIVIDUAL</td>\n",
       "      <td>11.99</td>\n",
       "      <td>15493.0</td>\n",
       "      <td>69.5</td>\n",
       "      <td>17.57</td>\n",
       "      <td>2</td>\n",
       "      <td>B</td>\n",
       "      <td>RENT</td>\n",
       "      <td>498.15</td>\n",
       "      <td>Account Manager</td>\n",
       "      <td>0</td>\n",
       "      <td>28</td>\n",
       "      <td>0</td>\n",
       "      <td>credit_card</td>\n",
       "      <td>36</td>\n",
       "      <td>2014</td>\n",
       "    </tr>\n",
       "  </tbody>\n",
       "</table>\n",
       "</div>"
      ],
      "text/plain": [
       "     loanAmnt  annualInc application_type  int_rate  revol_bal  revol_util  \\\n",
       "995   10000.0    40000.0       INDIVIDUAL     17.86     9023.0        52.5   \n",
       "996    9000.0    96000.0       INDIVIDUAL      6.49    17017.0        30.4   \n",
       "997    5600.0    65000.0       INDIVIDUAL      8.90    21409.0        92.7   \n",
       "998   25000.0    79980.0       INDIVIDUAL     19.72     9706.0        69.8   \n",
       "999   15000.0    63000.0       INDIVIDUAL     11.99    15493.0        69.5   \n",
       "\n",
       "       dti  emp_length grade homeOwnership  installment  \\\n",
       "995  26.07           5     D      MORTGAGE       253.18   \n",
       "996   8.91           1     A          RENT       275.81   \n",
       "997  12.09           4     A      MORTGAGE       177.82   \n",
       "998  17.73           2     D          RENT       658.46   \n",
       "999  17.57           2     B          RENT       498.15   \n",
       "\n",
       "                        job  loanDefault  mortAcc  pub_rec_bankruptcies  \\\n",
       "995       property manager             1       11                     0   \n",
       "996  Communications Manager            0       16                     0   \n",
       "997          Grasmere Place            0       11                     0   \n",
       "998       bed bath & beyond            0        9                     0   \n",
       "999         Account Manager            0       28                     0   \n",
       "\n",
       "                purpose  term  Year  \n",
       "995         credit_card    60  2015  \n",
       "996         credit_card    36  2014  \n",
       "997            vacation    36  2012  \n",
       "998  debt_consolidation    60  2012  \n",
       "999         credit_card    36  2014  "
      ]
     },
     "execution_count": 5,
     "metadata": {},
     "output_type": "execute_result"
    }
   ],
   "source": [
    "# Change the values\n",
    "\n",
    "df['loanDefault'] = df['loanDefault'].replace(['Fully Paid', 'Charged Off'], [0,1])\n",
    "\n",
    "df.tail(5)\n",
    "\n",
    "# 2 pts"
   ]
  },
  {
   "cell_type": "markdown",
   "metadata": {
    "id": "qaSULCSLQrOX"
   },
   "source": [
    "_____________"
   ]
  },
  {
   "cell_type": "markdown",
   "metadata": {
    "id": "cEyHXZNTQrOY"
   },
   "source": [
    "## Question 2: /16 pts \n",
    "Here we are interested in if the distribution of income is different between clients who defaulted and those who did not default on their loans."
   ]
  },
  {
   "cell_type": "markdown",
   "metadata": {
    "id": "qORx0OvmQrOY"
   },
   "source": [
    "#### 2.1 First create the histogram of the annual income `annualInc` for all the clients. Do not forget to label the axes."
   ]
  },
  {
   "cell_type": "code",
   "execution_count": 6,
   "metadata": {
    "colab": {
     "base_uri": "https://localhost:8080/",
     "height": 316
    },
    "executionInfo": {
     "elapsed": 879,
     "status": "ok",
     "timestamp": 1645217226975,
     "user": {
      "displayName": "Sherly Paola Alfonso Sanchez",
      "photoUrl": "https://lh3.googleusercontent.com/a-/AOh14GijrV5WVdbIJAyqF5INLE4mArbounb3tab5kiCFIw=s64",
      "userId": "17112094500915447092"
     },
     "user_tz": 300
    },
    "id": "Z2zMeeG1QrOY",
    "outputId": "1403d721-703b-4449-eadd-758578209928"
   },
   "outputs": [
    {
     "data": {
      "text/plain": [
       "<Axes: xlabel='Income ($)', ylabel='Frequency'>"
      ]
     },
     "execution_count": 6,
     "metadata": {},
     "output_type": "execute_result"
    },
    {
     "data": {
      "image/png": "[encoded data removed]",
      "text/plain": [
       "<Figure size 640x480 with 1 Axes>"
      ]
     },
     "metadata": {},
     "output_type": "display_data"
    }
   ],
   "source": [
    "# Plot the distribution\n",
    "\n",
    "df['annualInc'].plot(kind='hist', xlabel='Income ($)', yticks=range(0, 501, 50))\n",
    "\n",
    "# 2 pts"
   ]
  },
  {
   "cell_type": "markdown",
   "metadata": {
    "id": "xjGqsJkHQrOY"
   },
   "source": [
    "What do you notice about the distribution of the annual income variable? What transformation would you suggest for it?"
   ]
  },
  {
   "cell_type": "markdown",
   "metadata": {
    "id": "2kNAFum8QrOY"
   },
   "source": [
    "**Witten Answer**[2 pts]: \n",
    "\n",
    "The distribution is heavily positively skewed - much more observations fall in the lower income range than fall in the higher income range. To fix this, I'd use a log transformation, like we used on the last assignment."
   ]
  },
  {
   "cell_type": "markdown",
   "metadata": {
    "id": "wDMDroMXQrOZ"
   },
   "source": [
    "#### 2.2  Apply the transformation (*i.e.*, based on your answer to the previous question) to annual income and plot the histogram of the transformed version. Update (*i.e.*, overwrite) the original entry values of `annualInc` with the transformed ones."
   ]
  },
  {
   "cell_type": "code",
   "execution_count": 7,
   "metadata": {},
   "outputs": [
    {
     "data": {
      "text/plain": [
       "<Axes: xlabel='Log Income (Log $)', ylabel='Frequency'>"
      ]
     },
     "execution_count": 7,
     "metadata": {},
     "output_type": "execute_result"
    },
    {
     "data": {
      "image/png": "[encoded data removed]",
      "text/plain": [
       "<Figure size 640x480 with 1 Axes>"
      ]
     },
     "metadata": {},
     "output_type": "display_data"
    }
   ],
   "source": [
    "# Apply transformation and plot distribution\n",
    "\n",
    "log_incomes = np.log(df['annualInc'])\n",
    "\n",
    "log_incomes.plot(kind='hist', xlabel='Log Income (Log $)', yticks=range(0, 501, 50))\n",
    "\n",
    "\n",
    "# 4 pts"
   ]
  },
  {
   "cell_type": "code",
   "execution_count": 8,
   "metadata": {},
   "outputs": [],
   "source": [
    "# Overwrite\n",
    "\n",
    "df['annualInc'] = log_incomes\n",
    "\n",
    "# 2 pts"
   ]
  },
  {
   "cell_type": "markdown",
   "metadata": {},
   "source": [
    "#### 2.3 Plot the histograms of annual income for clients who defaulted and clients who did not default. Compare to see if there is any noticeable difference. Comment qualitatively."
   ]
  },
  {
   "cell_type": "code",
   "execution_count": 9,
   "metadata": {
    "colab": {
     "base_uri": "https://localhost:8080/",
     "height": 317
    },
    "executionInfo": {
     "elapsed": 1336,
     "status": "ok",
     "timestamp": 1645217228306,
     "user": {
      "displayName": "Sherly Paola Alfonso Sanchez",
      "photoUrl": "https://lh3.googleusercontent.com/a-/AOh14GijrV5WVdbIJAyqF5INLE4mArbounb3tab5kiCFIw=s64",
      "userId": "17112094500915447092"
     },
     "user_tz": 300
    },
    "id": "mlOGGi_aQrOZ",
    "outputId": "456c800a-c4c9-4425-9350-4f89d79a94f7",
    "scrolled": true
   },
   "outputs": [
    {
     "data": {
      "text/plain": [
       "<matplotlib.legend.Legend at 0x20d796fe370>"
      ]
     },
     "execution_count": 9,
     "metadata": {},
     "output_type": "execute_result"
    },
    {
     "data": {
      "image/png": "[encoded data removed]",
      "text/plain": [
       "<Figure size 640x480 with 1 Axes>"
      ]
     },
     "metadata": {},
     "output_type": "display_data"
    }
   ],
   "source": [
    "# Plot two distributions overlaid (use the alpha argument to create contrast in overlay plots)\n",
    "\n",
    "fig, ax = plt.subplots()\n",
    "\n",
    "defaults = df.loc[df['loanDefault'] == 1]\n",
    "paids = df.loc[df['loanDefault'] == 0]\n",
    "\n",
    "defaults['annualInc'].plot(kind='hist', xlabel='Log Income ($)', yticks=range(0, 301, 50), alpha=0.6, ax=ax)\n",
    "paids['annualInc'].plot(kind='hist', xlabel='Log Income ($)', yticks=range(0, 301, 50), alpha=0.6, ax=ax)\n",
    "\n",
    "ax.legend(['Defaulted', 'Paid'])\n",
    "\n",
    "# 4 pts"
   ]
  },
  {
   "cell_type": "markdown",
   "metadata": {
    "id": "-OvcyJNjQrOa"
   },
   "source": [
    "**Written Answer** [2pts]:  \n",
    "\n",
    "The shape of the distributions are more or less the same, although the distribution for those that defaulted is much flatter. Still, there is a peak between the log income of 11.0 and 11.5 for both, both distributions are still slightly positively skewed, etc."
   ]
  },
  {
   "cell_type": "markdown",
   "metadata": {
    "id": "xlUWhfmKQrOb"
   },
   "source": [
    "___________"
   ]
  },
  {
   "cell_type": "markdown",
   "metadata": {
    "id": "GMFFFTPgQrOb"
   },
   "source": [
    "## Question 3: /14 pts\n",
    "\n",
    "Let's build a model and use the annual income to predict the default outcome."
   ]
  },
  {
   "cell_type": "markdown",
   "metadata": {
    "id": "6hLtcB81QrOc"
   },
   "source": [
    "#### 3.1 Create a model pipline to include preprocessing step using `StandardScaler` and a basic logistic regression model (with default penalization and use `solver='lbfgs'`, `max_iter=10000` and `random_state=0`)"
   ]
  },
  {
   "cell_type": "code",
   "execution_count": 10,
   "metadata": {
    "id": "VJ7YxoTHQrOc"
   },
   "outputs": [],
   "source": [
    "# Create a model pipline\n",
    "\n",
    "model = Pipeline(\n",
    "[('Preprocessing', StandardScaler()),\n",
    "  ('Regression', LogisticRegression(solver = 'lbfgs', max_iter=10000, random_state = 0))]\n",
    ")\n",
    "\n",
    "# 2 pt"
   ]
  },
  {
   "cell_type": "markdown",
   "metadata": {},
   "source": [
    "#### 3.2 Use a 80/20 train-test split of the data and remember to set `random_state=0`. Fit the model and then evaluate this model plotting the ROC curve and reporting the AUC value. "
   ]
  },
  {
   "cell_type": "code",
   "execution_count": 11,
   "metadata": {},
   "outputs": [],
   "source": [
    "# Get the X and y\n",
    "\n",
    "X = np.array(df['annualInc']).reshape(-1, 1)\n",
    "y = df['loanDefault']\n",
    "\n",
    "\n",
    "# Split the train and test\n",
    "\n",
    "Xtrain, Xtest, ytrain, ytest = train_test_split(X, y, test_size = 0.20, random_state=0)\n",
    "\n",
    "# Fit the model\n",
    "\n",
    "fitted = model.fit(Xtrain, ytrain)\n",
    "\n",
    "# 4 pts"
   ]
  },
  {
   "cell_type": "code",
   "execution_count": 12,
   "metadata": {},
   "outputs": [
    {
     "name": "stdout",
     "output_type": "stream",
     "text": [
      "0.584\n"
     ]
    },
    {
     "data": {
      "image/png": "[encoded data removed]",
      "text/plain": [
       "<Figure size 640x480 with 1 Axes>"
      ]
     },
     "metadata": {},
     "output_type": "display_data"
    }
   ],
   "source": [
    "# Use predict_proba to get the probability of default\n",
    "\n",
    "probs = model.predict_proba(Xtest)\n",
    "\n",
    "\n",
    "# 2 pts\n",
    "\n",
    "# Plot the ROC curve and report AUC\n",
    "\n",
    "fpr1, tpr1, _ = roc_curve(ytest, probs[:,1], pos_label=model.classes_[1]) \n",
    "\n",
    "ax =sns.lineplot(x=fpr1,y=tpr1)\n",
    "ax.set_xlabel(\"FP Rate\")\n",
    "ax.set_ylabel(\"TP Rate\")\n",
    "\n",
    "print(auc(fpr1,tpr1).round(3))\n",
    "\n",
    "# 4 pts"
   ]
  },
  {
   "cell_type": "markdown",
   "metadata": {
    "id": "z5AtryUjQrOd"
   },
   "source": [
    "Is income itself alone good enough to predict the default outcome?\n"
   ]
  },
  {
   "cell_type": "markdown",
   "metadata": {
    "id": "PMwV6zYIQrOe"
   },
   "source": [
    "**Written Answer** [2 pt] \n",
    "\n",
    "No, income itself is not a good enough predictor of default outcome. The AUC should be close to 1, and it is far from it. Moreover, the ROC curve should be much less linear."
   ]
  },
  {
   "cell_type": "markdown",
   "metadata": {
    "id": "_4H1s8aXQrOe"
   },
   "source": [
    "____________"
   ]
  },
  {
   "cell_type": "markdown",
   "metadata": {
    "id": "RNfdL2r1QrOe"
   },
   "source": [
    "## Question 4: /34\n",
    "\n",
    "Here, let's use cross-validation to find how each numeric feature performs to predict the default status.\n"
   ]
  },
  {
   "cell_type": "markdown",
   "metadata": {
    "id": "DhFdgljUQrOe"
   },
   "source": [
    "#### 4.1: Let's write our own function instead of using `cross_val_score` to get the cross-validation AUC score. First, create a function `AUC_calculation` with inputs `(model, X, y, index_train, index_test)`  which calculates the AUC of the model trained on `index_train` and tested on `index_test`. Here we assume that X and y are pandas dataframe."
   ]
  },
  {
   "cell_type": "code",
   "execution_count": 13,
   "metadata": {
    "id": "bewwPK00QrOf"
   },
   "outputs": [],
   "source": [
    "def AUC_calculation(model, X, y, index_train, index_test):\n",
    "    # Define Xtrain, ytrain, Xtest, ytest \n",
    "    \n",
    "    if (X.shape == (1000,)):\n",
    "        Xtrain = np.array([X.iloc[i] for i in index_train]).reshape(-1,1)\n",
    "        Xtest = np.array([X.iloc[i] for i in index_test]).reshape(-1,1)\n",
    "\n",
    "    else:\n",
    "        Xtrain = np.array([X.iloc[i] for i in index_train])\n",
    "        Xtest = np.array([X.iloc[i] for i in index_test])\n",
    "\n",
    "    ytrain = np.array([y.iloc[i] for i in index_train])\n",
    "    ytest = np.array([y.iloc[i] for i in index_test])\n",
    "\n",
    "    # Fit the model\n",
    "    \n",
    "    fitted = model.fit(Xtrain, ytrain)\n",
    "    \n",
    "    # Calculate the auc score\n",
    "    \n",
    "    probs = model.predict_proba(Xtest)\n",
    "    \n",
    "    fpr1, tpr1, _ = roc_curve(ytest, probs[:,1], pos_label=model.classes_[1]) \n",
    "    \n",
    "    score_auc = auc(fpr1,tpr1).round(3)\n",
    "    return score_auc\n",
    "# 6 pts"
   ]
  },
  {
   "cell_type": "markdown",
   "metadata": {
    "id": "swFFeY9JQrOf"
   },
   "source": [
    "#### 4.2: Create a function named `AUC_cross_validation` which has as input (model, X, y, n_fold) and does a `StratifiedKFold` cross validation with n_fold and its output should be a list with the AUC for each fold. This function will call the above function `AUC_calculation`."
   ]
  },
  {
   "cell_type": "code",
   "execution_count": 14,
   "metadata": {
    "id": "90HeM0BBQrOf"
   },
   "outputs": [],
   "source": [
    "def AUC_cross_validation(model, X, y, n_fold):\n",
    "    # Create the stratified folds\n",
    "    \n",
    "    skf = StratifiedKFold(n_splits = n_fold)\n",
    " \n",
    "    # Loop over folds and compute the AUC score for each fold\n",
    "    \n",
    "    split = skf.split(X,y)\n",
    "    \n",
    "    list_auc = []\n",
    "    \n",
    "    for i, (index_train, index_test) in enumerate(split):\n",
    "        list_auc.append(AUC_calculation(model, X, y, index_train, index_test))\n",
    "    \n",
    "    return list_auc\n",
    "# 6 pts "
   ]
  },
  {
   "cell_type": "markdown",
   "metadata": {
    "id": "JYOq26FRQrOf"
   },
   "source": [
    "#### 4.3 Now we are ready to estimate and compare through cross validation the performance of all the *simple models* that only use one numeric predictor as input. Here we will apply logarithm transformation for the `loanAmnt` and replace it. We will also exclude `Year` and `installment`."
   ]
  },
  {
   "cell_type": "code",
   "execution_count": 15,
   "metadata": {
    "colab": {
     "base_uri": "https://localhost:8080/",
     "height": 206
    },
    "executionInfo": {
     "elapsed": 3,
     "status": "ok",
     "timestamp": 1645217229690,
     "user": {
      "displayName": "Sherly Paola Alfonso Sanchez",
      "photoUrl": "https://lh3.googleusercontent.com/a-/AOh14GijrV5WVdbIJAyqF5INLE4mArbounb3tab5kiCFIw=s64",
      "userId": "17112094500915447092"
     },
     "user_tz": 300
    },
    "id": "8biTXRo5QrOf",
    "outputId": "2c604f33-aaf3-49fe-e82b-6118a237349d"
   },
   "outputs": [
    {
     "data": {
      "text/html": [
       "<div>\n",
       "<style scoped>\n",
       "    .dataframe tbody tr th:only-of-type {\n",
       "        vertical-align: middle;\n",
       "    }\n",
       "\n",
       "    .dataframe tbody tr th {\n",
       "        vertical-align: top;\n",
       "    }\n",
       "\n",
       "    .dataframe thead th {\n",
       "        text-align: right;\n",
       "    }\n",
       "</style>\n",
       "<table border=\"1\" class=\"dataframe\">\n",
       "  <thead>\n",
       "    <tr style=\"text-align: right;\">\n",
       "      <th></th>\n",
       "      <th>loanAmnt</th>\n",
       "      <th>annualInc</th>\n",
       "      <th>int_rate</th>\n",
       "      <th>revol_bal</th>\n",
       "      <th>revol_util</th>\n",
       "      <th>dti</th>\n",
       "      <th>emp_length</th>\n",
       "      <th>loanDefault</th>\n",
       "      <th>mortAcc</th>\n",
       "      <th>pub_rec_bankruptcies</th>\n",
       "      <th>term</th>\n",
       "    </tr>\n",
       "  </thead>\n",
       "  <tbody>\n",
       "    <tr>\n",
       "      <th>0</th>\n",
       "      <td>9.210340</td>\n",
       "      <td>11.669929</td>\n",
       "      <td>11.44</td>\n",
       "      <td>36369.0</td>\n",
       "      <td>41.8</td>\n",
       "      <td>26.24</td>\n",
       "      <td>10</td>\n",
       "      <td>0</td>\n",
       "      <td>16</td>\n",
       "      <td>0</td>\n",
       "      <td>36</td>\n",
       "    </tr>\n",
       "    <tr>\n",
       "      <th>1</th>\n",
       "      <td>8.987197</td>\n",
       "      <td>11.082143</td>\n",
       "      <td>11.99</td>\n",
       "      <td>20131.0</td>\n",
       "      <td>53.3</td>\n",
       "      <td>22.05</td>\n",
       "      <td>4</td>\n",
       "      <td>0</td>\n",
       "      <td>17</td>\n",
       "      <td>0</td>\n",
       "      <td>36</td>\n",
       "    </tr>\n",
       "    <tr>\n",
       "      <th>2</th>\n",
       "      <td>9.655026</td>\n",
       "      <td>10.670280</td>\n",
       "      <td>10.49</td>\n",
       "      <td>11987.0</td>\n",
       "      <td>92.2</td>\n",
       "      <td>12.79</td>\n",
       "      <td>1</td>\n",
       "      <td>0</td>\n",
       "      <td>13</td>\n",
       "      <td>0</td>\n",
       "      <td>36</td>\n",
       "    </tr>\n",
       "    <tr>\n",
       "      <th>3</th>\n",
       "      <td>8.881836</td>\n",
       "      <td>10.896739</td>\n",
       "      <td>6.49</td>\n",
       "      <td>5472.0</td>\n",
       "      <td>21.5</td>\n",
       "      <td>2.60</td>\n",
       "      <td>6</td>\n",
       "      <td>0</td>\n",
       "      <td>6</td>\n",
       "      <td>0</td>\n",
       "      <td>36</td>\n",
       "    </tr>\n",
       "    <tr>\n",
       "      <th>4</th>\n",
       "      <td>10.101313</td>\n",
       "      <td>10.915088</td>\n",
       "      <td>17.27</td>\n",
       "      <td>24584.0</td>\n",
       "      <td>69.8</td>\n",
       "      <td>33.95</td>\n",
       "      <td>9</td>\n",
       "      <td>1</td>\n",
       "      <td>13</td>\n",
       "      <td>0</td>\n",
       "      <td>60</td>\n",
       "    </tr>\n",
       "  </tbody>\n",
       "</table>\n",
       "</div>"
      ],
      "text/plain": [
       "    loanAmnt  annualInc  int_rate  revol_bal  revol_util    dti  emp_length  \\\n",
       "0   9.210340  11.669929     11.44    36369.0        41.8  26.24          10   \n",
       "1   8.987197  11.082143     11.99    20131.0        53.3  22.05           4   \n",
       "2   9.655026  10.670280     10.49    11987.0        92.2  12.79           1   \n",
       "3   8.881836  10.896739      6.49     5472.0        21.5   2.60           6   \n",
       "4  10.101313  10.915088     17.27    24584.0        69.8  33.95           9   \n",
       "\n",
       "   loanDefault  mortAcc  pub_rec_bankruptcies  term  \n",
       "0            0       16                     0    36  \n",
       "1            0       17                     0    36  \n",
       "2            0       13                     0    36  \n",
       "3            0        6                     0    36  \n",
       "4            1       13                     0    60  "
      ]
     },
     "execution_count": 15,
     "metadata": {},
     "output_type": "execute_result"
    }
   ],
   "source": [
    "# Extract only the numeric features\n",
    "feau_num = ['int32', 'int64', 'float64']\n",
    "data_num = pd.DataFrame(df.select_dtypes(include=feau_num))\n",
    "\n",
    "\n",
    "# Log transform \n",
    "\n",
    "log_amount = np.log(df['loanAmnt'])\n",
    "data_num['loanAmnt'] = log_amount\n",
    "\n",
    "# Drop\n",
    "\n",
    "data_num = data_num.drop(['Year', 'installment'], axis=1)\n",
    "\n",
    "\n",
    "data_num.head()\n",
    "# 2pts"
   ]
  },
  {
   "cell_type": "markdown",
   "metadata": {
    "id": "gV9fTCLGQrOg"
   },
   "source": [
    "#### 4.4: Use the function `AUC_cross_validation` and the model from Q3.1 to compute cross-validation estimates of the AUC for each single numeric feature model, and use a pandas dataframe (named `AUC_models`) to store the AUC value for each fold and each of the models (use `n_fold=10`).\n",
    "\n",
    "The column names of `AUC_models` have to be in the form `Simple-[numeric predictor variable]`, *e.g.*, `simple-int_rate`."
   ]
  },
  {
   "cell_type": "code",
   "execution_count": 16,
   "metadata": {
    "id": "GGFsF5d8QrOg"
   },
   "outputs": [],
   "source": [
    "# Construct AUC_models dataframe\n",
    "AUC_models = pd.DataFrame(columns = ['Simple-' + c for c in data_num.drop('loanDefault', axis=1).columns])\n",
    "\n",
    "# Run cross-validation for each feature\n",
    "\n",
    "\n",
    "for feature in AUC_models.columns:\n",
    "    X = data_num[feature[7:]] # Use characters 7 onward to cut off the 'Simple-'\n",
    "    y = data_num['loanDefault']\n",
    "    \n",
    "    aucs = AUC_cross_validation(model, X, y, 10)\n",
    "\n",
    "    AUC_models[feature] = aucs\n",
    "    \n",
    " \n",
    "# 8 pts"
   ]
  },
  {
   "cell_type": "code",
   "execution_count": 17,
   "metadata": {
    "colab": {
     "base_uri": "https://localhost:8080/",
     "height": 424
    },
    "executionInfo": {
     "elapsed": 4,
     "status": "ok",
     "timestamp": 1645217233490,
     "user": {
      "displayName": "Sherly Paola Alfonso Sanchez",
      "photoUrl": "https://lh3.googleusercontent.com/a-/AOh14GijrV5WVdbIJAyqF5INLE4mArbounb3tab5kiCFIw=s64",
      "userId": "17112094500915447092"
     },
     "user_tz": 300
    },
    "id": "idnPJrUjQrOg",
    "outputId": "838c0f2e-5dca-4cb0-dfdc-6fde2164153d"
   },
   "outputs": [
    {
     "data": {
      "text/html": [
       "<div>\n",
       "<style scoped>\n",
       "    .dataframe tbody tr th:only-of-type {\n",
       "        vertical-align: middle;\n",
       "    }\n",
       "\n",
       "    .dataframe tbody tr th {\n",
       "        vertical-align: top;\n",
       "    }\n",
       "\n",
       "    .dataframe thead th {\n",
       "        text-align: right;\n",
       "    }\n",
       "</style>\n",
       "<table border=\"1\" class=\"dataframe\">\n",
       "  <thead>\n",
       "    <tr style=\"text-align: right;\">\n",
       "      <th></th>\n",
       "      <th>Simple-loanAmnt</th>\n",
       "      <th>Simple-annualInc</th>\n",
       "      <th>Simple-int_rate</th>\n",
       "      <th>Simple-revol_bal</th>\n",
       "      <th>Simple-revol_util</th>\n",
       "      <th>Simple-dti</th>\n",
       "      <th>Simple-emp_length</th>\n",
       "      <th>Simple-mortAcc</th>\n",
       "      <th>Simple-pub_rec_bankruptcies</th>\n",
       "      <th>Simple-term</th>\n",
       "    </tr>\n",
       "  </thead>\n",
       "  <tbody>\n",
       "    <tr>\n",
       "      <th>0</th>\n",
       "      <td>0.431</td>\n",
       "      <td>0.681</td>\n",
       "      <td>0.723</td>\n",
       "      <td>0.549</td>\n",
       "      <td>0.566</td>\n",
       "      <td>0.569</td>\n",
       "      <td>0.499</td>\n",
       "      <td>0.636</td>\n",
       "      <td>0.499</td>\n",
       "      <td>0.597</td>\n",
       "    </tr>\n",
       "    <tr>\n",
       "      <th>1</th>\n",
       "      <td>0.624</td>\n",
       "      <td>0.434</td>\n",
       "      <td>0.797</td>\n",
       "      <td>0.566</td>\n",
       "      <td>0.522</td>\n",
       "      <td>0.541</td>\n",
       "      <td>0.649</td>\n",
       "      <td>0.454</td>\n",
       "      <td>0.482</td>\n",
       "      <td>0.646</td>\n",
       "    </tr>\n",
       "    <tr>\n",
       "      <th>2</th>\n",
       "      <td>0.442</td>\n",
       "      <td>0.697</td>\n",
       "      <td>0.611</td>\n",
       "      <td>0.583</td>\n",
       "      <td>0.510</td>\n",
       "      <td>0.498</td>\n",
       "      <td>0.442</td>\n",
       "      <td>0.566</td>\n",
       "      <td>0.532</td>\n",
       "      <td>0.547</td>\n",
       "    </tr>\n",
       "    <tr>\n",
       "      <th>3</th>\n",
       "      <td>0.563</td>\n",
       "      <td>0.631</td>\n",
       "      <td>0.651</td>\n",
       "      <td>0.575</td>\n",
       "      <td>0.422</td>\n",
       "      <td>0.645</td>\n",
       "      <td>0.520</td>\n",
       "      <td>0.489</td>\n",
       "      <td>0.567</td>\n",
       "      <td>0.597</td>\n",
       "    </tr>\n",
       "    <tr>\n",
       "      <th>4</th>\n",
       "      <td>0.440</td>\n",
       "      <td>0.552</td>\n",
       "      <td>0.522</td>\n",
       "      <td>0.484</td>\n",
       "      <td>0.474</td>\n",
       "      <td>0.531</td>\n",
       "      <td>0.562</td>\n",
       "      <td>0.506</td>\n",
       "      <td>0.520</td>\n",
       "      <td>0.514</td>\n",
       "    </tr>\n",
       "    <tr>\n",
       "      <th>5</th>\n",
       "      <td>0.523</td>\n",
       "      <td>0.450</td>\n",
       "      <td>0.746</td>\n",
       "      <td>0.593</td>\n",
       "      <td>0.507</td>\n",
       "      <td>0.527</td>\n",
       "      <td>0.533</td>\n",
       "      <td>0.509</td>\n",
       "      <td>0.488</td>\n",
       "      <td>0.507</td>\n",
       "    </tr>\n",
       "    <tr>\n",
       "      <th>6</th>\n",
       "      <td>0.524</td>\n",
       "      <td>0.640</td>\n",
       "      <td>0.766</td>\n",
       "      <td>0.595</td>\n",
       "      <td>0.651</td>\n",
       "      <td>0.564</td>\n",
       "      <td>0.540</td>\n",
       "      <td>0.578</td>\n",
       "      <td>0.507</td>\n",
       "      <td>0.637</td>\n",
       "    </tr>\n",
       "    <tr>\n",
       "      <th>7</th>\n",
       "      <td>0.630</td>\n",
       "      <td>0.483</td>\n",
       "      <td>0.762</td>\n",
       "      <td>0.438</td>\n",
       "      <td>0.556</td>\n",
       "      <td>0.523</td>\n",
       "      <td>0.431</td>\n",
       "      <td>0.465</td>\n",
       "      <td>0.519</td>\n",
       "      <td>0.742</td>\n",
       "    </tr>\n",
       "    <tr>\n",
       "      <th>8</th>\n",
       "      <td>0.461</td>\n",
       "      <td>0.622</td>\n",
       "      <td>0.608</td>\n",
       "      <td>0.521</td>\n",
       "      <td>0.594</td>\n",
       "      <td>0.604</td>\n",
       "      <td>0.562</td>\n",
       "      <td>0.543</td>\n",
       "      <td>0.555</td>\n",
       "      <td>0.581</td>\n",
       "    </tr>\n",
       "    <tr>\n",
       "      <th>9</th>\n",
       "      <td>0.486</td>\n",
       "      <td>0.526</td>\n",
       "      <td>0.441</td>\n",
       "      <td>0.532</td>\n",
       "      <td>0.387</td>\n",
       "      <td>0.589</td>\n",
       "      <td>0.599</td>\n",
       "      <td>0.466</td>\n",
       "      <td>0.470</td>\n",
       "      <td>0.529</td>\n",
       "    </tr>\n",
       "  </tbody>\n",
       "</table>\n",
       "</div>"
      ],
      "text/plain": [
       "   Simple-loanAmnt  Simple-annualInc  Simple-int_rate  Simple-revol_bal  \\\n",
       "0            0.431             0.681            0.723             0.549   \n",
       "1            0.624             0.434            0.797             0.566   \n",
       "2            0.442             0.697            0.611             0.583   \n",
       "3            0.563             0.631            0.651             0.575   \n",
       "4            0.440             0.552            0.522             0.484   \n",
       "5            0.523             0.450            0.746             0.593   \n",
       "6            0.524             0.640            0.766             0.595   \n",
       "7            0.630             0.483            0.762             0.438   \n",
       "8            0.461             0.622            0.608             0.521   \n",
       "9            0.486             0.526            0.441             0.532   \n",
       "\n",
       "   Simple-revol_util  Simple-dti  Simple-emp_length  Simple-mortAcc  \\\n",
       "0              0.566       0.569              0.499           0.636   \n",
       "1              0.522       0.541              0.649           0.454   \n",
       "2              0.510       0.498              0.442           0.566   \n",
       "3              0.422       0.645              0.520           0.489   \n",
       "4              0.474       0.531              0.562           0.506   \n",
       "5              0.507       0.527              0.533           0.509   \n",
       "6              0.651       0.564              0.540           0.578   \n",
       "7              0.556       0.523              0.431           0.465   \n",
       "8              0.594       0.604              0.562           0.543   \n",
       "9              0.387       0.589              0.599           0.466   \n",
       "\n",
       "   Simple-pub_rec_bankruptcies  Simple-term  \n",
       "0                        0.499        0.597  \n",
       "1                        0.482        0.646  \n",
       "2                        0.532        0.547  \n",
       "3                        0.567        0.597  \n",
       "4                        0.520        0.514  \n",
       "5                        0.488        0.507  \n",
       "6                        0.507        0.637  \n",
       "7                        0.519        0.742  \n",
       "8                        0.555        0.581  \n",
       "9                        0.470        0.529  "
      ]
     },
     "execution_count": 17,
     "metadata": {},
     "output_type": "execute_result"
    }
   ],
   "source": [
    "# Print AUC_models dataframe. The shape should be 10 x number of features\n",
    "AUC_models\n"
   ]
  },
  {
   "cell_type": "markdown",
   "metadata": {
    "id": "0mfBTLfnQrOh"
   },
   "source": [
    "#### 4.5: Let's use a `sns.boxplot`` (without presenting outliers) to show the distribution of the AUC scores for each feature."
   ]
  },
  {
   "cell_type": "code",
   "execution_count": 18,
   "metadata": {
    "colab": {
     "base_uri": "https://localhost:8080/",
     "height": 708
    },
    "executionInfo": {
     "elapsed": 1143,
     "status": "ok",
     "timestamp": 1645217234818,
     "user": {
      "displayName": "Sherly Paola Alfonso Sanchez",
      "photoUrl": "https://lh3.googleusercontent.com/a-/AOh14GijrV5WVdbIJAyqF5INLE4mArbounb3tab5kiCFIw=s64",
      "userId": "17112094500915447092"
     },
     "user_tz": 300
    },
    "id": "Jv_oWBViQrOh",
    "outputId": "c094f62f-6ad3-4506-a0ed-ca0675621fd8"
   },
   "outputs": [
    {
     "data": {
      "image/png": "[encoded data removed]",
      "text/plain": [
       "<Figure size 640x480 with 1 Axes>"
      ]
     },
     "metadata": {},
     "output_type": "display_data"
    }
   ],
   "source": [
    "# Hint: use data=pd.melt(AUC_models) in boxplot\n",
    "\n",
    "ax = sns.boxplot(data=pd.melt(AUC_models), x='variable', y='value')\n",
    "\n",
    "ax.tick_params(axis='x', rotation=90)\n",
    "\n",
    "#5 pts\n"
   ]
  },
  {
   "cell_type": "markdown",
   "metadata": {},
   "source": [
    "What is the feature that yields the best performance?"
   ]
  },
  {
   "cell_type": "markdown",
   "metadata": {},
   "source": [
    "**Written Answer** [1 pt]: \n",
    "\n",
    "The best performer is int_rate."
   ]
  },
  {
   "cell_type": "markdown",
   "metadata": {
    "id": "8Rze33nJQrOh"
   },
   "source": [
    "#### 4.6: Now let's use a model including all the numeric features for training. Again use 10-fold cross-validation to determine if this new model has better performance. Add the results to the previous AUC_models dataframe and visualize again using boxplots."
   ]
  },
  {
   "cell_type": "code",
   "execution_count": 19,
   "metadata": {
    "colab": {
     "base_uri": "https://localhost:8080/",
     "height": 424
    },
    "executionInfo": {
     "elapsed": 2873,
     "status": "ok",
     "timestamp": 1645217237689,
     "user": {
      "displayName": "Sherly Paola Alfonso Sanchez",
      "photoUrl": "https://lh3.googleusercontent.com/a-/AOh14GijrV5WVdbIJAyqF5INLE4mArbounb3tab5kiCFIw=s64",
      "userId": "17112094500915447092"
     },
     "user_tz": 300
    },
    "id": "MHGVcfPKQrOh",
    "outputId": "72ec6068-28df-4145-f67a-156f7ce9ad5c"
   },
   "outputs": [
    {
     "data": {
      "text/html": [
       "<div>\n",
       "<style scoped>\n",
       "    .dataframe tbody tr th:only-of-type {\n",
       "        vertical-align: middle;\n",
       "    }\n",
       "\n",
       "    .dataframe tbody tr th {\n",
       "        vertical-align: top;\n",
       "    }\n",
       "\n",
       "    .dataframe thead th {\n",
       "        text-align: right;\n",
       "    }\n",
       "</style>\n",
       "<table border=\"1\" class=\"dataframe\">\n",
       "  <thead>\n",
       "    <tr style=\"text-align: right;\">\n",
       "      <th></th>\n",
       "      <th>Simple-loanAmnt</th>\n",
       "      <th>Simple-annualInc</th>\n",
       "      <th>Simple-int_rate</th>\n",
       "      <th>Simple-revol_bal</th>\n",
       "      <th>Simple-revol_util</th>\n",
       "      <th>Simple-dti</th>\n",
       "      <th>Simple-emp_length</th>\n",
       "      <th>Simple-mortAcc</th>\n",
       "      <th>Simple-pub_rec_bankruptcies</th>\n",
       "      <th>Simple-term</th>\n",
       "      <th>All_numeric</th>\n",
       "    </tr>\n",
       "  </thead>\n",
       "  <tbody>\n",
       "    <tr>\n",
       "      <th>0</th>\n",
       "      <td>0.431</td>\n",
       "      <td>0.681</td>\n",
       "      <td>0.723</td>\n",
       "      <td>0.549</td>\n",
       "      <td>0.566</td>\n",
       "      <td>0.569</td>\n",
       "      <td>0.499</td>\n",
       "      <td>0.636</td>\n",
       "      <td>0.499</td>\n",
       "      <td>0.597</td>\n",
       "      <td>0.767</td>\n",
       "    </tr>\n",
       "    <tr>\n",
       "      <th>1</th>\n",
       "      <td>0.624</td>\n",
       "      <td>0.434</td>\n",
       "      <td>0.797</td>\n",
       "      <td>0.566</td>\n",
       "      <td>0.522</td>\n",
       "      <td>0.541</td>\n",
       "      <td>0.649</td>\n",
       "      <td>0.454</td>\n",
       "      <td>0.482</td>\n",
       "      <td>0.646</td>\n",
       "      <td>0.749</td>\n",
       "    </tr>\n",
       "    <tr>\n",
       "      <th>2</th>\n",
       "      <td>0.442</td>\n",
       "      <td>0.697</td>\n",
       "      <td>0.611</td>\n",
       "      <td>0.583</td>\n",
       "      <td>0.510</td>\n",
       "      <td>0.498</td>\n",
       "      <td>0.442</td>\n",
       "      <td>0.566</td>\n",
       "      <td>0.532</td>\n",
       "      <td>0.547</td>\n",
       "      <td>0.648</td>\n",
       "    </tr>\n",
       "    <tr>\n",
       "      <th>3</th>\n",
       "      <td>0.563</td>\n",
       "      <td>0.631</td>\n",
       "      <td>0.651</td>\n",
       "      <td>0.575</td>\n",
       "      <td>0.422</td>\n",
       "      <td>0.645</td>\n",
       "      <td>0.520</td>\n",
       "      <td>0.489</td>\n",
       "      <td>0.567</td>\n",
       "      <td>0.597</td>\n",
       "      <td>0.687</td>\n",
       "    </tr>\n",
       "    <tr>\n",
       "      <th>4</th>\n",
       "      <td>0.440</td>\n",
       "      <td>0.552</td>\n",
       "      <td>0.522</td>\n",
       "      <td>0.484</td>\n",
       "      <td>0.474</td>\n",
       "      <td>0.531</td>\n",
       "      <td>0.562</td>\n",
       "      <td>0.506</td>\n",
       "      <td>0.520</td>\n",
       "      <td>0.514</td>\n",
       "      <td>0.540</td>\n",
       "    </tr>\n",
       "    <tr>\n",
       "      <th>5</th>\n",
       "      <td>0.523</td>\n",
       "      <td>0.450</td>\n",
       "      <td>0.746</td>\n",
       "      <td>0.593</td>\n",
       "      <td>0.507</td>\n",
       "      <td>0.527</td>\n",
       "      <td>0.533</td>\n",
       "      <td>0.509</td>\n",
       "      <td>0.488</td>\n",
       "      <td>0.507</td>\n",
       "      <td>0.681</td>\n",
       "    </tr>\n",
       "    <tr>\n",
       "      <th>6</th>\n",
       "      <td>0.524</td>\n",
       "      <td>0.640</td>\n",
       "      <td>0.766</td>\n",
       "      <td>0.595</td>\n",
       "      <td>0.651</td>\n",
       "      <td>0.564</td>\n",
       "      <td>0.540</td>\n",
       "      <td>0.578</td>\n",
       "      <td>0.507</td>\n",
       "      <td>0.637</td>\n",
       "      <td>0.753</td>\n",
       "    </tr>\n",
       "    <tr>\n",
       "      <th>7</th>\n",
       "      <td>0.630</td>\n",
       "      <td>0.483</td>\n",
       "      <td>0.762</td>\n",
       "      <td>0.438</td>\n",
       "      <td>0.556</td>\n",
       "      <td>0.523</td>\n",
       "      <td>0.431</td>\n",
       "      <td>0.465</td>\n",
       "      <td>0.519</td>\n",
       "      <td>0.742</td>\n",
       "      <td>0.666</td>\n",
       "    </tr>\n",
       "    <tr>\n",
       "      <th>8</th>\n",
       "      <td>0.461</td>\n",
       "      <td>0.622</td>\n",
       "      <td>0.608</td>\n",
       "      <td>0.521</td>\n",
       "      <td>0.594</td>\n",
       "      <td>0.604</td>\n",
       "      <td>0.562</td>\n",
       "      <td>0.543</td>\n",
       "      <td>0.555</td>\n",
       "      <td>0.581</td>\n",
       "      <td>0.692</td>\n",
       "    </tr>\n",
       "    <tr>\n",
       "      <th>9</th>\n",
       "      <td>0.486</td>\n",
       "      <td>0.526</td>\n",
       "      <td>0.441</td>\n",
       "      <td>0.532</td>\n",
       "      <td>0.387</td>\n",
       "      <td>0.589</td>\n",
       "      <td>0.599</td>\n",
       "      <td>0.466</td>\n",
       "      <td>0.470</td>\n",
       "      <td>0.529</td>\n",
       "      <td>0.516</td>\n",
       "    </tr>\n",
       "  </tbody>\n",
       "</table>\n",
       "</div>"
      ],
      "text/plain": [
       "   Simple-loanAmnt  Simple-annualInc  Simple-int_rate  Simple-revol_bal  \\\n",
       "0            0.431             0.681            0.723             0.549   \n",
       "1            0.624             0.434            0.797             0.566   \n",
       "2            0.442             0.697            0.611             0.583   \n",
       "3            0.563             0.631            0.651             0.575   \n",
       "4            0.440             0.552            0.522             0.484   \n",
       "5            0.523             0.450            0.746             0.593   \n",
       "6            0.524             0.640            0.766             0.595   \n",
       "7            0.630             0.483            0.762             0.438   \n",
       "8            0.461             0.622            0.608             0.521   \n",
       "9            0.486             0.526            0.441             0.532   \n",
       "\n",
       "   Simple-revol_util  Simple-dti  Simple-emp_length  Simple-mortAcc  \\\n",
       "0              0.566       0.569              0.499           0.636   \n",
       "1              0.522       0.541              0.649           0.454   \n",
       "2              0.510       0.498              0.442           0.566   \n",
       "3              0.422       0.645              0.520           0.489   \n",
       "4              0.474       0.531              0.562           0.506   \n",
       "5              0.507       0.527              0.533           0.509   \n",
       "6              0.651       0.564              0.540           0.578   \n",
       "7              0.556       0.523              0.431           0.465   \n",
       "8              0.594       0.604              0.562           0.543   \n",
       "9              0.387       0.589              0.599           0.466   \n",
       "\n",
       "   Simple-pub_rec_bankruptcies  Simple-term  All_numeric  \n",
       "0                        0.499        0.597        0.767  \n",
       "1                        0.482        0.646        0.749  \n",
       "2                        0.532        0.547        0.648  \n",
       "3                        0.567        0.597        0.687  \n",
       "4                        0.520        0.514        0.540  \n",
       "5                        0.488        0.507        0.681  \n",
       "6                        0.507        0.637        0.753  \n",
       "7                        0.519        0.742        0.666  \n",
       "8                        0.555        0.581        0.692  \n",
       "9                        0.470        0.529        0.516  "
      ]
     },
     "execution_count": 19,
     "metadata": {},
     "output_type": "execute_result"
    }
   ],
   "source": [
    "# Get the X and y\n",
    "\n",
    "X = data_num.drop('loanDefault', axis = 1)\n",
    "y = data_num['loanDefault']\n",
    "\n",
    "# Calculate the auc scores using cross validation\n",
    "\n",
    "aucs = AUC_cross_validation(model, X, y, 10)\n",
    "\n",
    "# 4 pts \n",
    "\n",
    "# Include the auc scores in the AUC_models DataFrame in the column 'All_numeric'\n",
    "AUC_models['All_numeric'] = aucs\n",
    "\n",
    "# Print the new data frame \n",
    "AUC_models\n"
   ]
  },
  {
   "cell_type": "code",
   "execution_count": 20,
   "metadata": {
    "colab": {
     "base_uri": "https://localhost:8080/",
     "height": 708
    },
    "executionInfo": {
     "elapsed": 1119,
     "status": "ok",
     "timestamp": 1645217238805,
     "user": {
      "displayName": "Sherly Paola Alfonso Sanchez",
      "photoUrl": "https://lh3.googleusercontent.com/a-/AOh14GijrV5WVdbIJAyqF5INLE4mArbounb3tab5kiCFIw=s64",
      "userId": "17112094500915447092"
     },
     "user_tz": 300
    },
    "id": "eFNrEvJ7QrOi",
    "outputId": "ec5e9690-788c-4510-b89d-3619f0b10ff6"
   },
   "outputs": [
    {
     "data": {
      "image/png": "[encoded data removed]",
      "text/plain": [
       "<Figure size 640x480 with 1 Axes>"
      ]
     },
     "metadata": {},
     "output_type": "display_data"
    }
   ],
   "source": [
    "# Plot \n",
    "\n",
    "ax = sns.boxplot(data=pd.melt(AUC_models), x='variable', y='value')\n",
    "\n",
    "ax.tick_params(axis='x', rotation=90)\n",
    "\n",
    "# 2 pts"
   ]
  },
  {
   "cell_type": "markdown",
   "metadata": {
    "id": "Pn8cPzsiQrOi"
   },
   "source": [
    "_____________"
   ]
  },
  {
   "cell_type": "markdown",
   "metadata": {
    "id": "KEK9WRo5QrOi"
   },
   "source": [
    "### Question 5: /10 pts\n",
    "\n",
    "#### 5.1 Let's also include the categorical variable `grade` to the model (in addition to all the all the numeric features). And, again, add the results to the `AUC_models` dataframe."
   ]
  },
  {
   "cell_type": "code",
   "execution_count": 21,
   "metadata": {
    "id": "_T2G7kcAQrOi"
   },
   "outputs": [
    {
     "data": {
      "text/html": [
       "<div>\n",
       "<style scoped>\n",
       "    .dataframe tbody tr th:only-of-type {\n",
       "        vertical-align: middle;\n",
       "    }\n",
       "\n",
       "    .dataframe tbody tr th {\n",
       "        vertical-align: top;\n",
       "    }\n",
       "\n",
       "    .dataframe thead th {\n",
       "        text-align: right;\n",
       "    }\n",
       "</style>\n",
       "<table border=\"1\" class=\"dataframe\">\n",
       "  <thead>\n",
       "    <tr style=\"text-align: right;\">\n",
       "      <th></th>\n",
       "      <th>Simple-loanAmnt</th>\n",
       "      <th>Simple-annualInc</th>\n",
       "      <th>Simple-int_rate</th>\n",
       "      <th>Simple-revol_bal</th>\n",
       "      <th>Simple-revol_util</th>\n",
       "      <th>Simple-dti</th>\n",
       "      <th>Simple-emp_length</th>\n",
       "      <th>Simple-mortAcc</th>\n",
       "      <th>Simple-pub_rec_bankruptcies</th>\n",
       "      <th>Simple-term</th>\n",
       "      <th>All_numeric</th>\n",
       "      <th>All_numeric_&amp;_Grade</th>\n",
       "    </tr>\n",
       "  </thead>\n",
       "  <tbody>\n",
       "    <tr>\n",
       "      <th>0</th>\n",
       "      <td>0.431</td>\n",
       "      <td>0.681</td>\n",
       "      <td>0.723</td>\n",
       "      <td>0.549</td>\n",
       "      <td>0.566</td>\n",
       "      <td>0.569</td>\n",
       "      <td>0.499</td>\n",
       "      <td>0.636</td>\n",
       "      <td>0.499</td>\n",
       "      <td>0.597</td>\n",
       "      <td>0.767</td>\n",
       "      <td>0.764</td>\n",
       "    </tr>\n",
       "    <tr>\n",
       "      <th>1</th>\n",
       "      <td>0.624</td>\n",
       "      <td>0.434</td>\n",
       "      <td>0.797</td>\n",
       "      <td>0.566</td>\n",
       "      <td>0.522</td>\n",
       "      <td>0.541</td>\n",
       "      <td>0.649</td>\n",
       "      <td>0.454</td>\n",
       "      <td>0.482</td>\n",
       "      <td>0.646</td>\n",
       "      <td>0.749</td>\n",
       "      <td>0.747</td>\n",
       "    </tr>\n",
       "    <tr>\n",
       "      <th>2</th>\n",
       "      <td>0.442</td>\n",
       "      <td>0.697</td>\n",
       "      <td>0.611</td>\n",
       "      <td>0.583</td>\n",
       "      <td>0.510</td>\n",
       "      <td>0.498</td>\n",
       "      <td>0.442</td>\n",
       "      <td>0.566</td>\n",
       "      <td>0.532</td>\n",
       "      <td>0.547</td>\n",
       "      <td>0.648</td>\n",
       "      <td>0.646</td>\n",
       "    </tr>\n",
       "    <tr>\n",
       "      <th>3</th>\n",
       "      <td>0.563</td>\n",
       "      <td>0.631</td>\n",
       "      <td>0.651</td>\n",
       "      <td>0.575</td>\n",
       "      <td>0.422</td>\n",
       "      <td>0.645</td>\n",
       "      <td>0.520</td>\n",
       "      <td>0.489</td>\n",
       "      <td>0.567</td>\n",
       "      <td>0.597</td>\n",
       "      <td>0.687</td>\n",
       "      <td>0.703</td>\n",
       "    </tr>\n",
       "    <tr>\n",
       "      <th>4</th>\n",
       "      <td>0.440</td>\n",
       "      <td>0.552</td>\n",
       "      <td>0.522</td>\n",
       "      <td>0.484</td>\n",
       "      <td>0.474</td>\n",
       "      <td>0.531</td>\n",
       "      <td>0.562</td>\n",
       "      <td>0.506</td>\n",
       "      <td>0.520</td>\n",
       "      <td>0.514</td>\n",
       "      <td>0.540</td>\n",
       "      <td>0.550</td>\n",
       "    </tr>\n",
       "    <tr>\n",
       "      <th>5</th>\n",
       "      <td>0.523</td>\n",
       "      <td>0.450</td>\n",
       "      <td>0.746</td>\n",
       "      <td>0.593</td>\n",
       "      <td>0.507</td>\n",
       "      <td>0.527</td>\n",
       "      <td>0.533</td>\n",
       "      <td>0.509</td>\n",
       "      <td>0.488</td>\n",
       "      <td>0.507</td>\n",
       "      <td>0.681</td>\n",
       "      <td>0.707</td>\n",
       "    </tr>\n",
       "    <tr>\n",
       "      <th>6</th>\n",
       "      <td>0.524</td>\n",
       "      <td>0.640</td>\n",
       "      <td>0.766</td>\n",
       "      <td>0.595</td>\n",
       "      <td>0.651</td>\n",
       "      <td>0.564</td>\n",
       "      <td>0.540</td>\n",
       "      <td>0.578</td>\n",
       "      <td>0.507</td>\n",
       "      <td>0.637</td>\n",
       "      <td>0.753</td>\n",
       "      <td>0.756</td>\n",
       "    </tr>\n",
       "    <tr>\n",
       "      <th>7</th>\n",
       "      <td>0.630</td>\n",
       "      <td>0.483</td>\n",
       "      <td>0.762</td>\n",
       "      <td>0.438</td>\n",
       "      <td>0.556</td>\n",
       "      <td>0.523</td>\n",
       "      <td>0.431</td>\n",
       "      <td>0.465</td>\n",
       "      <td>0.519</td>\n",
       "      <td>0.742</td>\n",
       "      <td>0.666</td>\n",
       "      <td>0.681</td>\n",
       "    </tr>\n",
       "    <tr>\n",
       "      <th>8</th>\n",
       "      <td>0.461</td>\n",
       "      <td>0.622</td>\n",
       "      <td>0.608</td>\n",
       "      <td>0.521</td>\n",
       "      <td>0.594</td>\n",
       "      <td>0.604</td>\n",
       "      <td>0.562</td>\n",
       "      <td>0.543</td>\n",
       "      <td>0.555</td>\n",
       "      <td>0.581</td>\n",
       "      <td>0.692</td>\n",
       "      <td>0.729</td>\n",
       "    </tr>\n",
       "    <tr>\n",
       "      <th>9</th>\n",
       "      <td>0.486</td>\n",
       "      <td>0.526</td>\n",
       "      <td>0.441</td>\n",
       "      <td>0.532</td>\n",
       "      <td>0.387</td>\n",
       "      <td>0.589</td>\n",
       "      <td>0.599</td>\n",
       "      <td>0.466</td>\n",
       "      <td>0.470</td>\n",
       "      <td>0.529</td>\n",
       "      <td>0.516</td>\n",
       "      <td>0.519</td>\n",
       "    </tr>\n",
       "  </tbody>\n",
       "</table>\n",
       "</div>"
      ],
      "text/plain": [
       "   Simple-loanAmnt  Simple-annualInc  Simple-int_rate  Simple-revol_bal  \\\n",
       "0            0.431             0.681            0.723             0.549   \n",
       "1            0.624             0.434            0.797             0.566   \n",
       "2            0.442             0.697            0.611             0.583   \n",
       "3            0.563             0.631            0.651             0.575   \n",
       "4            0.440             0.552            0.522             0.484   \n",
       "5            0.523             0.450            0.746             0.593   \n",
       "6            0.524             0.640            0.766             0.595   \n",
       "7            0.630             0.483            0.762             0.438   \n",
       "8            0.461             0.622            0.608             0.521   \n",
       "9            0.486             0.526            0.441             0.532   \n",
       "\n",
       "   Simple-revol_util  Simple-dti  Simple-emp_length  Simple-mortAcc  \\\n",
       "0              0.566       0.569              0.499           0.636   \n",
       "1              0.522       0.541              0.649           0.454   \n",
       "2              0.510       0.498              0.442           0.566   \n",
       "3              0.422       0.645              0.520           0.489   \n",
       "4              0.474       0.531              0.562           0.506   \n",
       "5              0.507       0.527              0.533           0.509   \n",
       "6              0.651       0.564              0.540           0.578   \n",
       "7              0.556       0.523              0.431           0.465   \n",
       "8              0.594       0.604              0.562           0.543   \n",
       "9              0.387       0.589              0.599           0.466   \n",
       "\n",
       "   Simple-pub_rec_bankruptcies  Simple-term  All_numeric  All_numeric_&_Grade  \n",
       "0                        0.499        0.597        0.767                0.764  \n",
       "1                        0.482        0.646        0.749                0.747  \n",
       "2                        0.532        0.547        0.648                0.646  \n",
       "3                        0.567        0.597        0.687                0.703  \n",
       "4                        0.520        0.514        0.540                0.550  \n",
       "5                        0.488        0.507        0.681                0.707  \n",
       "6                        0.507        0.637        0.753                0.756  \n",
       "7                        0.519        0.742        0.666                0.681  \n",
       "8                        0.555        0.581        0.692                0.729  \n",
       "9                        0.470        0.529        0.516                0.519  "
      ]
     },
     "execution_count": 21,
     "metadata": {},
     "output_type": "execute_result"
    }
   ],
   "source": [
    "# Convert category into numerical values\n",
    "\n",
    "numerical_grades = df['grade'].replace(['G', 'F', 'E', 'D', 'C', 'B', 'A'], [6, 5, 4, 3, 2, 1, 0])\n",
    "\n",
    "# Add this feature to all the numeric variables\n",
    "\n",
    "data_num['Simple-grade'] = numerical_grades\n",
    "\n",
    "\n",
    "# Calculate the auc scores using cross validation\n",
    "\n",
    "X = data_num.drop('loanDefault', axis = 1)\n",
    "y = data_num['loanDefault']\n",
    "\n",
    "aucs = AUC_cross_validation(model, X, y, 10)\n",
    "\n",
    "# Include the auc scores in the AUC_models DataFrame in the column 'All_numeric_&_Grade'\n",
    "AUC_models['All_numeric_&_Grade'] = aucs \n",
    "\n",
    "AUC_models\n",
    "\n",
    "# 4 pts"
   ]
  },
  {
   "cell_type": "markdown",
   "metadata": {},
   "source": [
    "#### 5.2 Print the AUC mean and AUC standard deviation for each of the models. Which model would you choose and why?"
   ]
  },
  {
   "cell_type": "code",
   "execution_count": 22,
   "metadata": {
    "colab": {
     "base_uri": "https://localhost:8080/"
    },
    "executionInfo": {
     "elapsed": 16,
     "status": "ok",
     "timestamp": 1645217242344,
     "user": {
      "displayName": "Sherly Paola Alfonso Sanchez",
      "photoUrl": "https://lh3.googleusercontent.com/a-/AOh14GijrV5WVdbIJAyqF5INLE4mArbounb3tab5kiCFIw=s64",
      "userId": "17112094500915447092"
     },
     "user_tz": 300
    },
    "id": "C1S9ZgsOQrOi",
    "outputId": "ba395cb1-3a60-4b10-8325-6538523aead9"
   },
   "outputs": [
    {
     "data": {
      "text/html": [
       "<div>\n",
       "<style scoped>\n",
       "    .dataframe tbody tr th:only-of-type {\n",
       "        vertical-align: middle;\n",
       "    }\n",
       "\n",
       "    .dataframe tbody tr th {\n",
       "        vertical-align: top;\n",
       "    }\n",
       "\n",
       "    .dataframe thead th {\n",
       "        text-align: right;\n",
       "    }\n",
       "</style>\n",
       "<table border=\"1\" class=\"dataframe\">\n",
       "  <thead>\n",
       "    <tr style=\"text-align: right;\">\n",
       "      <th></th>\n",
       "      <th>Simple-loanAmnt</th>\n",
       "      <th>Simple-annualInc</th>\n",
       "      <th>Simple-int_rate</th>\n",
       "      <th>Simple-revol_bal</th>\n",
       "      <th>Simple-revol_util</th>\n",
       "      <th>Simple-dti</th>\n",
       "      <th>Simple-emp_length</th>\n",
       "      <th>Simple-mortAcc</th>\n",
       "      <th>Simple-pub_rec_bankruptcies</th>\n",
       "      <th>Simple-term</th>\n",
       "      <th>All_numeric</th>\n",
       "      <th>All_numeric_&amp;_Grade</th>\n",
       "    </tr>\n",
       "  </thead>\n",
       "  <tbody>\n",
       "    <tr>\n",
       "      <th>0</th>\n",
       "      <td>0.512400</td>\n",
       "      <td>0.571600</td>\n",
       "      <td>0.662700</td>\n",
       "      <td>0.543600</td>\n",
       "      <td>0.518900</td>\n",
       "      <td>0.559100</td>\n",
       "      <td>0.533700</td>\n",
       "      <td>0.521200</td>\n",
       "      <td>0.513900</td>\n",
       "      <td>0.589700</td>\n",
       "      <td>0.669900</td>\n",
       "      <td>0.680200</td>\n",
       "    </tr>\n",
       "    <tr>\n",
       "      <th>1</th>\n",
       "      <td>0.070181</td>\n",
       "      <td>0.090815</td>\n",
       "      <td>0.111307</td>\n",
       "      <td>0.048477</td>\n",
       "      <td>0.074645</td>\n",
       "      <td>0.041946</td>\n",
       "      <td>0.062887</td>\n",
       "      <td>0.055701</td>\n",
       "      <td>0.029639</td>\n",
       "      <td>0.068456</td>\n",
       "      <td>0.080342</td>\n",
       "      <td>0.080596</td>\n",
       "    </tr>\n",
       "  </tbody>\n",
       "</table>\n",
       "</div>"
      ],
      "text/plain": [
       "   Simple-loanAmnt  Simple-annualInc  Simple-int_rate  Simple-revol_bal  \\\n",
       "0         0.512400          0.571600         0.662700          0.543600   \n",
       "1         0.070181          0.090815         0.111307          0.048477   \n",
       "\n",
       "   Simple-revol_util  Simple-dti  Simple-emp_length  Simple-mortAcc  \\\n",
       "0           0.518900    0.559100           0.533700        0.521200   \n",
       "1           0.074645    0.041946           0.062887        0.055701   \n",
       "\n",
       "   Simple-pub_rec_bankruptcies  Simple-term  All_numeric  All_numeric_&_Grade  \n",
       "0                     0.513900     0.589700     0.669900             0.680200  \n",
       "1                     0.029639     0.068456     0.080342             0.080596  "
      ]
     },
     "execution_count": 22,
     "metadata": {},
     "output_type": "execute_result"
    }
   ],
   "source": [
    "stats = pd.DataFrame(columns = AUC_models.columns)\n",
    "\n",
    "for col in stats.columns:\n",
    "    mean = np.mean(AUC_models[col]) # First row is mean AUC\n",
    "    sd   = np.std(AUC_models[col]) # Second row is stddev of AUC\n",
    "    \n",
    "    stats[col] = pd.Series([mean, sd])\n",
    "\n",
    "stats\n",
    "# 6 pts"
   ]
  },
  {
   "cell_type": "markdown",
   "metadata": {},
   "source": [
    "**Written Answer** [2 pts]: "
   ]
  },
  {
   "cell_type": "markdown",
   "metadata": {
    "id": "pyW6s0nGQrOj"
   },
   "source": [
    "The model All\\_numeric\\_&\\_Grade has the highest mean AUC and a very similar standard deviation to the next best model (All_numeric), so the best model is All\\_numeric\\_&\\_Grade."
   ]
  },
  {
   "cell_type": "markdown",
   "metadata": {
    "id": "B-o4HnvCQrOk"
   },
   "source": [
    "### Question 6: /14pts\n",
    "\n",
    "Train and test the model you selected using a 80/20 train-test split of the data.\n",
    "\n",
    "- Use boostrap technique to find the 95% CI for the test AUC. \n",
    "- Plot the distribution of the boostrap AUC scores."
   ]
  },
  {
   "cell_type": "code",
   "execution_count": 23,
   "metadata": {
    "colab": {
     "base_uri": "https://localhost:8080/"
    },
    "executionInfo": {
     "elapsed": 151,
     "status": "ok",
     "timestamp": 1645217247193,
     "user": {
      "displayName": "Sherly Paola Alfonso Sanchez",
      "photoUrl": "https://lh3.googleusercontent.com/a-/AOh14GijrV5WVdbIJAyqF5INLE4mArbounb3tab5kiCFIw=s64",
      "userId": "17112094500915447092"
     },
     "user_tz": 300
    },
    "id": "B-Zb6SFDQrOk",
    "outputId": "71f53d1e-6906-4cb0-ee56-1e4c512f7e2d"
   },
   "outputs": [
    {
     "name": "stdout",
     "output_type": "stream",
     "text": [
      "AUC: 0.64\n"
     ]
    }
   ],
   "source": [
    "# Train test split\n",
    "\n",
    "X = data_num.drop(['loanDefault'], axis = 1)\n",
    "y = data_num['loanDefault']\n",
    "\n",
    "Xtrain, Xtest, ytrain, ytest = train_test_split(X, y, test_size = 0.20, random_state=0)\n",
    "\n",
    "# Create the AUC\n",
    "\n",
    "fitted = model.fit(Xtrain,ytrain)\n",
    "\n",
    "prob = model.predict_proba(Xtest)\n",
    "    \n",
    "fpr1, tpr1, _ = roc_curve(ytest, prob[:,1], pos_label=model.classes_[1]) \n",
    "\n",
    "a = auc(fpr1,tpr1).round(3)\n",
    "    \n",
    "print(f\"AUC: {a}\")\n",
    "\n",
    "# 2 pt"
   ]
  },
  {
   "cell_type": "code",
   "execution_count": 24,
   "metadata": {
    "id": "_PprUnpXQrOk"
   },
   "outputs": [],
   "source": [
    "# Boostrap\n",
    "\n",
    "AUCS = []\n",
    "\n",
    "n = len(Xtest)\n",
    "\n",
    "for i in range(500): # We take 500 bootstrap samples without refitting\n",
    "    \n",
    "    X_test_sample = Xtest.sample(n, replace=True) # Sample the test set\n",
    "    y_test_sample = ytest.sample(n, replace=True)\n",
    "                \n",
    "    probs = model.predict_proba(X_test_sample)\n",
    "    \n",
    "    fpr1, tpr1, _ = roc_curve(y_test_sample, probs[:,1], pos_label=model.classes_[1]) \n",
    "    \n",
    "    AUCS.append(auc(fpr1,tpr1).round(3))\n",
    "# 4 pts"
   ]
  },
  {
   "cell_type": "code",
   "execution_count": 25,
   "metadata": {
    "colab": {
     "base_uri": "https://localhost:8080/",
     "height": 282
    },
    "executionInfo": {
     "elapsed": 782,
     "status": "ok",
     "timestamp": 1645217252492,
     "user": {
      "displayName": "Sherly Paola Alfonso Sanchez",
      "photoUrl": "https://lh3.googleusercontent.com/a-/AOh14GijrV5WVdbIJAyqF5INLE4mArbounb3tab5kiCFIw=s64",
      "userId": "17112094500915447092"
     },
     "user_tz": 300
    },
    "id": "3R44_knBQrOk",
    "outputId": "95313780-63c5-4df5-d4e5-5c8350fb24c1",
    "scrolled": true
   },
   "outputs": [
    {
     "data": {
      "image/png": "[encoded data removed]",
      "text/plain": [
       "<Figure size 640x480 with 1 Axes>"
      ]
     },
     "metadata": {},
     "output_type": "display_data"
    }
   ],
   "source": [
    "# Plot\n",
    "\n",
    "AUCS = pd.DataFrame(AUCS, columns=['AUC'])\n",
    "\n",
    "ax = AUCS.plot(kind='hist', legend=False)\n",
    "AUCS.plot(kind='kde', ax=ax, legend=False)\n",
    "ax.set_xlabel(\"AUC\")\n",
    "plt.show()\n",
    "\n",
    "# 2 pts"
   ]
  },
  {
   "cell_type": "code",
   "execution_count": 26,
   "metadata": {
    "colab": {
     "base_uri": "https://localhost:8080/"
    },
    "executionInfo": {
     "elapsed": 5,
     "status": "ok",
     "timestamp": 1645217252492,
     "user": {
      "displayName": "Sherly Paola Alfonso Sanchez",
      "photoUrl": "https://lh3.googleusercontent.com/a-/AOh14GijrV5WVdbIJAyqF5INLE4mArbounb3tab5kiCFIw=s64",
      "userId": "17112094500915447092"
     },
     "user_tz": 300
    },
    "id": "Afxtsv6EQrOk",
    "outputId": "05e09dfa-dbba-4f0b-ca4e-c67cef547098"
   },
   "outputs": [
    {
     "name": "stdout",
     "output_type": "stream",
     "text": [
      "The CI for the AUC of the model is: (0.398, 0.594)\n"
     ]
    }
   ],
   "source": [
    "# Find the confidence interval\n",
    "\n",
    "# From assign4\n",
    "\n",
    "bm = pd.DataFrame(data=AUCS-AUCS.AUC.mean())\n",
    "\n",
    "boot_CL = 95/100 \n",
    "p_1 = (1-boot_CL)/2\n",
    "p_2 = 1-p_1\n",
    "boot_quant = np.quantile(bm, [p_1, p_2])\n",
    "\n",
    "ci_min = (AUCS.AUC.mean() - boot_quant[1]).round(3)\n",
    "ci_max = (AUCS.AUC.mean() - boot_quant[0]).round(3)\n",
    "\n",
    "print(f'The CI for the AUC of the model is: {(ci_min,ci_max) }')\n",
    "# 6 pts"
   ]
  }
 ],
 "metadata": {
  "colab": {
   "name": "Assignment_5_Solutions.ipynb",
   "provenance": []
  },
  "kernelspec": {
   "display_name": "Python 3 (ipykernel)",
   "language": "python",
   "name": "python3"
  },
  "language_info": {
   "codemirror_mode": {
    "name": "ipython",
    "version": 3
   },
   "file_extension": ".py",
   "mimetype": "text/x-python",
   "name": "python",
   "nbconvert_exporter": "python",
   "pygments_lexer": "ipython3",
   "version": "3.8.3"
  }
 },
 "nbformat": 4,
 "nbformat_minor": 1
}
