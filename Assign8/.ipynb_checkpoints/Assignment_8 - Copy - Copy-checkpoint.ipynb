{
 "cells": [
  {
   "cell_type": "markdown",
   "id": "c1130c0e",
   "metadata": {},
   "source": [
    "# Assignment 08: \n",
    "# Text Mining using Dimensionality Reduction Methods [_/100 Marks]\n",
    "\n",
    "### Follow These Instructions\n",
    "\n",
    "Once you are finished, ensure to complete the following steps.\n",
    "\n",
    "1.  Restart your kernel by clicking 'Kernel' > 'Restart & Run All'.\n",
    "\n",
    "2.  Fix any errors which result from this.\n",
    "\n",
    "3.  Repeat steps 1. and 2. until your notebook runs without errors.\n",
    "\n",
    "4.  Submit your completed notebook to OWL by the deadline.\n",
    "\n",
    "\n",
    "\n",
    "#### In this assignment, we will study apply dimensionality reduction methods to improve our understanding of text data and to predict the sentiment of a set of texts. The dataset for this assignment comes from the Amazon website and represents 1,000 reviews which were labeled (by humans) as positive or negative. This application of data science is called [sentiment analysis](https://en.wikipedia.org/wiki/Sentiment_analysis) and it is widely used across many fields to get automated feedback when text opinions are expressed.\n",
    "\n",
    "\n",
    "\n",
    "---"
   ]
  },
  {
   "cell_type": "code",
   "execution_count": 3,
   "id": "respective-contrast",
   "metadata": {
    "executionInfo": {
     "elapsed": 108,
     "status": "ok",
     "timestamp": 1647454126987,
     "user": {
      "displayName": "Cristián Bravo",
      "photoUrl": "https://lh3.googleusercontent.com/a-/AOh14Gi6QphwVhivjPBW56t4xTTzZ1QOojjow-Fo5Ib0gA=s64",
      "userId": "07563968753594904197"
     },
     "user_tz": 240
    },
    "id": "respective-contrast"
   },
   "outputs": [
    {
     "ename": "ModuleNotFoundError",
     "evalue": "No module named 'umap'",
     "output_type": "error",
     "traceback": [
      "\u001b[1;31m---------------------------------------------------------------------------\u001b[0m",
      "\u001b[1;31mModuleNotFoundError\u001b[0m                       Traceback (most recent call last)",
      "Cell \u001b[1;32mIn[3], line 3\u001b[0m\n\u001b[0;32m      1\u001b[0m \u001b[38;5;28;01mimport\u001b[39;00m \u001b[38;5;21;01mnumpy\u001b[39;00m \u001b[38;5;28;01mas\u001b[39;00m \u001b[38;5;21;01mnp\u001b[39;00m\n\u001b[0;32m      2\u001b[0m \u001b[38;5;28;01mimport\u001b[39;00m \u001b[38;5;21;01mpandas\u001b[39;00m \u001b[38;5;28;01mas\u001b[39;00m \u001b[38;5;21;01mpd\u001b[39;00m\n\u001b[1;32m----> 3\u001b[0m \u001b[38;5;28;01mimport\u001b[39;00m \u001b[38;5;21;01mumap\u001b[39;00m\n\u001b[0;32m      4\u001b[0m \u001b[38;5;28;01mfrom\u001b[39;00m \u001b[38;5;21;01msklearn\u001b[39;00m\u001b[38;5;21;01m.\u001b[39;00m\u001b[38;5;21;01mdecomposition\u001b[39;00m \u001b[38;5;28;01mimport\u001b[39;00m PCA, TruncatedSVD\n\u001b[0;32m      5\u001b[0m \u001b[38;5;28;01mimport\u001b[39;00m \u001b[38;5;21;01msklearn\u001b[39;00m\u001b[38;5;21;01m.\u001b[39;00m\u001b[38;5;21;01mfeature_extraction\u001b[39;00m\u001b[38;5;21;01m.\u001b[39;00m\u001b[38;5;21;01mtext\u001b[39;00m \u001b[38;5;28;01mas\u001b[39;00m \u001b[38;5;21;01msktext\u001b[39;00m\n",
      "\u001b[1;31mModuleNotFoundError\u001b[0m: No module named 'umap'"
     ]
    }
   ],
   "source": [
    "import numpy as np\n",
    "import pandas as pd\n",
    "import umap\n",
    "from sklearn.decomposition import PCA, TruncatedSVD\n",
    "import sklearn.feature_extraction.text as sktext\n",
    "from sklearn.linear_model import LogisticRegressionCV\n",
    "from sklearn.model_selection import train_test_split\n",
    "from sklearn.metrics import roc_curve, roc_auc_score\n",
    "from itertools import product\n",
    "\n",
    "import seaborn as sns\n",
    "import matplotlib.pyplot as plt\n",
    "seed = 0"
   ]
  },
  {
   "cell_type": "code",
   "execution_count": 2,
   "id": "3c009605",
   "metadata": {},
   "outputs": [
    {
     "name": "stdout",
     "output_type": "stream",
     "text": [
      "Collecting umap-learn\n",
      "  Using cached umap_learn-0.5.5-py3-none-any.whl\n",
      "Requirement already satisfied: numpy>=1.17 in c:\\users\\chaot\\anaconda3\\lib\\site-packages (from umap-learn) (1.20.0)\n",
      "Requirement already satisfied: scipy>=1.3.1 in c:\\users\\chaot\\appdata\\roaming\\python\\python38\\site-packages (from umap-learn) (1.10.1)\n",
      "Requirement already satisfied: scikit-learn>=0.22 in c:\\users\\chaot\\anaconda3\\lib\\site-packages (from umap-learn) (1.3.1)\n",
      "Collecting numba>=0.51.2 (from umap-learn)\n",
      "  Obtaining dependency information for numba>=0.51.2 from https://files.pythonhosted.org/packages/ce/76/9266f7bd78f134f6ae09886d87675a8ac34e8dd0a30f6007794da41d8a80/numba-0.58.1-cp38-cp38-win_amd64.whl.metadata\n",
      "  Using cached numba-0.58.1-cp38-cp38-win_amd64.whl.metadata (2.8 kB)\n",
      "Collecting pynndescent>=0.5 (from umap-learn)\n",
      "  Using cached pynndescent-0.5.10-py3-none-any.whl\n",
      "Requirement already satisfied: tqdm in c:\\users\\chaot\\anaconda3\\lib\\site-packages (from umap-learn) (4.47.0)\n",
      "Collecting llvmlite<0.42,>=0.41.0dev0 (from numba>=0.51.2->umap-learn)\n",
      "  Obtaining dependency information for llvmlite<0.42,>=0.41.0dev0 from https://files.pythonhosted.org/packages/1b/57/6da776f73951956ece7d8fda605c69d512a6724bb7b255adf9d48ef7941d/llvmlite-0.41.1-cp38-cp38-win_amd64.whl.metadata\n",
      "  Using cached llvmlite-0.41.1-cp38-cp38-win_amd64.whl.metadata (4.9 kB)\n",
      "Collecting numpy>=1.17 (from umap-learn)\n",
      "  Obtaining dependency information for numpy>=1.17 from https://files.pythonhosted.org/packages/69/65/0d47953afa0ad569d12de5f65d964321c208492064c38fe3b0b9744f8d44/numpy-1.24.4-cp38-cp38-win_amd64.whl.metadata\n",
      "  Downloading numpy-1.24.4-cp38-cp38-win_amd64.whl.metadata (5.6 kB)\n",
      "Requirement already satisfied: importlib-metadata in c:\\users\\chaot\\appdata\\roaming\\python\\python38\\site-packages (from numba>=0.51.2->umap-learn) (6.7.0)\n",
      "Requirement already satisfied: joblib>=0.11 in c:\\users\\chaot\\anaconda3\\lib\\site-packages (from pynndescent>=0.5->umap-learn) (1.3.2)\n",
      "Requirement already satisfied: threadpoolctl>=2.0.0 in c:\\users\\chaot\\anaconda3\\lib\\site-packages (from scikit-learn>=0.22->umap-learn) (2.1.0)\n",
      "Requirement already satisfied: zipp>=0.5 in c:\\users\\chaot\\appdata\\roaming\\python\\python38\\site-packages (from importlib-metadata->numba>=0.51.2->umap-learn) (3.15.0)\n",
      "Using cached numba-0.58.1-cp38-cp38-win_amd64.whl (2.6 MB)\n",
      "Downloading numpy-1.24.4-cp38-cp38-win_amd64.whl (14.9 MB)\n",
      "   ---------------------------------------- 0.0/14.9 MB ? eta -:--:--\n",
      "   ---------------------------------------- 0.1/14.9 MB 1.1 MB/s eta 0:00:14\n",
      "    --------------------------------------- 0.2/14.9 MB 1.7 MB/s eta 0:00:09\n",
      "    --------------------------------------- 0.3/14.9 MB 1.8 MB/s eta 0:00:09\n",
      "   - -------------------------------------- 0.4/14.9 MB 2.0 MB/s eta 0:00:08\n",
      "   - -------------------------------------- 0.6/14.9 MB 2.0 MB/s eta 0:00:08\n",
      "   - -------------------------------------- 0.7/14.9 MB 2.1 MB/s eta 0:00:07\n",
      "   -- ------------------------------------- 0.8/14.9 MB 2.1 MB/s eta 0:00:07\n",
      "   -- ------------------------------------- 0.9/14.9 MB 2.1 MB/s eta 0:00:07\n",
      "   -- ------------------------------------- 1.0/14.9 MB 2.2 MB/s eta 0:00:07\n",
      "   --- ------------------------------------ 1.1/14.9 MB 2.2 MB/s eta 0:00:07\n",
      "   --- ------------------------------------ 1.2/14.9 MB 2.2 MB/s eta 0:00:07\n",
      "   --- ------------------------------------ 1.3/14.9 MB 2.2 MB/s eta 0:00:07\n",
      "   --- ------------------------------------ 1.4/14.9 MB 2.2 MB/s eta 0:00:06\n",
      "   ---- ----------------------------------- 1.6/14.9 MB 2.2 MB/s eta 0:00:06\n",
      "   ---- ----------------------------------- 1.7/14.9 MB 2.3 MB/s eta 0:00:06\n",
      "   ---- ----------------------------------- 1.8/14.9 MB 2.2 MB/s eta 0:00:06\n",
      "   ----- ---------------------------------- 1.9/14.9 MB 2.3 MB/s eta 0:00:06\n",
      "   ----- ---------------------------------- 2.0/14.9 MB 2.2 MB/s eta 0:00:06\n",
      "   ----- ---------------------------------- 2.1/14.9 MB 2.2 MB/s eta 0:00:06\n",
      "   ----- ---------------------------------- 2.2/14.9 MB 2.2 MB/s eta 0:00:06\n",
      "   ------ --------------------------------- 2.3/14.9 MB 2.2 MB/s eta 0:00:06\n",
      "   ------ --------------------------------- 2.4/14.9 MB 2.2 MB/s eta 0:00:06\n",
      "   ------ --------------------------------- 2.5/14.9 MB 2.2 MB/s eta 0:00:06\n",
      "   ------- -------------------------------- 2.6/14.9 MB 2.2 MB/s eta 0:00:06\n",
      "   ------- -------------------------------- 2.7/14.9 MB 2.2 MB/s eta 0:00:06\n",
      "   ------- -------------------------------- 2.8/14.9 MB 2.2 MB/s eta 0:00:06\n",
      "   ------- -------------------------------- 2.9/14.9 MB 2.3 MB/s eta 0:00:06\n",
      "   -------- ------------------------------- 3.1/14.9 MB 2.2 MB/s eta 0:00:06\n",
      "   -------- ------------------------------- 3.2/14.9 MB 2.2 MB/s eta 0:00:06\n",
      "   -------- ------------------------------- 3.3/14.9 MB 2.2 MB/s eta 0:00:06\n",
      "   --------- ------------------------------ 3.4/14.9 MB 2.2 MB/s eta 0:00:06\n",
      "   --------- ------------------------------ 3.5/14.9 MB 2.2 MB/s eta 0:00:06\n",
      "   --------- ------------------------------ 3.6/14.9 MB 2.2 MB/s eta 0:00:06\n",
      "   --------- ------------------------------ 3.7/14.9 MB 2.2 MB/s eta 0:00:06\n",
      "   ---------- ----------------------------- 3.8/14.9 MB 2.2 MB/s eta 0:00:06\n",
      "   ---------- ----------------------------- 3.9/14.9 MB 2.2 MB/s eta 0:00:06\n",
      "   ---------- ----------------------------- 4.0/14.9 MB 2.2 MB/s eta 0:00:05\n",
      "   ----------- ---------------------------- 4.1/14.9 MB 2.2 MB/s eta 0:00:05\n",
      "   ----------- ---------------------------- 4.2/14.9 MB 2.2 MB/s eta 0:00:05\n",
      "   ----------- ---------------------------- 4.3/14.9 MB 2.2 MB/s eta 0:00:05\n",
      "   ----------- ---------------------------- 4.4/14.9 MB 2.2 MB/s eta 0:00:05\n",
      "   ----------- ---------------------------- 4.4/14.9 MB 2.1 MB/s eta 0:00:05\n",
      "   ----------- ---------------------------- 4.5/14.9 MB 2.1 MB/s eta 0:00:05\n",
      "   ------------ --------------------------- 4.6/14.9 MB 2.1 MB/s eta 0:00:05\n",
      "   ------------ --------------------------- 4.6/14.9 MB 2.1 MB/s eta 0:00:05\n",
      "   ------------ --------------------------- 4.8/14.9 MB 2.1 MB/s eta 0:00:05\n",
      "   ------------ --------------------------- 4.8/14.9 MB 2.1 MB/s eta 0:00:05\n",
      "   ------------- -------------------------- 4.9/14.9 MB 2.1 MB/s eta 0:00:05\n",
      "   ------------- -------------------------- 5.0/14.9 MB 2.1 MB/s eta 0:00:05\n",
      "   ------------- -------------------------- 5.0/14.9 MB 2.1 MB/s eta 0:00:05\n",
      "   ------------- -------------------------- 5.1/14.9 MB 2.1 MB/s eta 0:00:05\n",
      "   -------------- ------------------------- 5.2/14.9 MB 2.1 MB/s eta 0:00:05\n",
      "   -------------- ------------------------- 5.3/14.9 MB 2.1 MB/s eta 0:00:05\n",
      "   -------------- ------------------------- 5.5/14.9 MB 2.1 MB/s eta 0:00:05\n",
      "   --------------- ------------------------ 5.6/14.9 MB 2.1 MB/s eta 0:00:05\n",
      "   --------------- ------------------------ 5.7/14.9 MB 2.1 MB/s eta 0:00:05\n",
      "   --------------- ------------------------ 5.8/14.9 MB 2.1 MB/s eta 0:00:05\n",
      "   --------------- ------------------------ 5.9/14.9 MB 2.1 MB/s eta 0:00:05\n",
      "   ---------------- ----------------------- 6.0/14.9 MB 2.1 MB/s eta 0:00:05\n",
      "   ---------------- ----------------------- 6.1/14.9 MB 2.1 MB/s eta 0:00:05\n",
      "   ---------------- ----------------------- 6.2/14.9 MB 2.1 MB/s eta 0:00:05\n",
      "   ---------------- ----------------------- 6.3/14.9 MB 2.1 MB/s eta 0:00:05\n",
      "   ----------------- ---------------------- 6.4/14.9 MB 2.1 MB/s eta 0:00:05\n",
      "   ----------------- ---------------------- 6.5/14.9 MB 2.1 MB/s eta 0:00:05\n",
      "   ----------------- ---------------------- 6.6/14.9 MB 2.1 MB/s eta 0:00:04\n",
      "   ----------------- ---------------------- 6.7/14.9 MB 2.1 MB/s eta 0:00:04\n",
      "   ------------------ --------------------- 6.8/14.9 MB 2.1 MB/s eta 0:00:04\n",
      "   ------------------ --------------------- 6.9/14.9 MB 2.1 MB/s eta 0:00:04\n",
      "   ------------------ --------------------- 7.0/14.9 MB 2.1 MB/s eta 0:00:04\n",
      "   ------------------- -------------------- 7.1/14.9 MB 2.1 MB/s eta 0:00:04\n",
      "   ------------------- -------------------- 7.2/14.9 MB 2.1 MB/s eta 0:00:04\n",
      "   ------------------- -------------------- 7.3/14.9 MB 2.1 MB/s eta 0:00:04\n",
      "   ------------------- -------------------- 7.4/14.9 MB 2.1 MB/s eta 0:00:04\n",
      "   -------------------- ------------------- 7.5/14.9 MB 2.1 MB/s eta 0:00:04\n",
      "   -------------------- ------------------- 7.6/14.9 MB 2.1 MB/s eta 0:00:04\n",
      "   -------------------- ------------------- 7.7/14.9 MB 2.1 MB/s eta 0:00:04\n",
      "   -------------------- ------------------- 7.8/14.9 MB 2.1 MB/s eta 0:00:04\n",
      "   --------------------- ------------------ 7.9/14.9 MB 2.1 MB/s eta 0:00:04\n",
      "   --------------------- ------------------ 8.0/14.9 MB 2.1 MB/s eta 0:00:04\n",
      "   --------------------- ------------------ 8.1/14.9 MB 2.1 MB/s eta 0:00:04\n",
      "   ---------------------- ----------------- 8.2/14.9 MB 2.1 MB/s eta 0:00:04\n",
      "   ---------------------- ----------------- 8.3/14.9 MB 2.1 MB/s eta 0:00:04\n",
      "   ---------------------- ----------------- 8.4/14.9 MB 2.1 MB/s eta 0:00:04\n",
      "   ---------------------- ----------------- 8.5/14.9 MB 2.1 MB/s eta 0:00:04\n",
      "   ----------------------- ---------------- 8.6/14.9 MB 2.1 MB/s eta 0:00:03\n",
      "   ----------------------- ---------------- 8.7/14.9 MB 2.1 MB/s eta 0:00:03\n",
      "   ----------------------- ---------------- 8.8/14.9 MB 2.1 MB/s eta 0:00:03\n",
      "   ------------------------ --------------- 9.0/14.9 MB 2.1 MB/s eta 0:00:03\n",
      "   ------------------------ --------------- 9.1/14.9 MB 2.1 MB/s eta 0:00:03\n",
      "   ------------------------ --------------- 9.3/14.9 MB 2.1 MB/s eta 0:00:03\n",
      "   ------------------------- -------------- 9.4/14.9 MB 2.1 MB/s eta 0:00:03\n",
      "   ------------------------- -------------- 9.5/14.9 MB 2.1 MB/s eta 0:00:03\n",
      "   ------------------------- -------------- 9.6/14.9 MB 2.1 MB/s eta 0:00:03\n",
      "   -------------------------- ------------- 9.8/14.9 MB 2.1 MB/s eta 0:00:03\n",
      "   -------------------------- ------------- 9.9/14.9 MB 2.1 MB/s eta 0:00:03\n",
      "   -------------------------- ------------- 10.0/14.9 MB 2.1 MB/s eta 0:00:03\n",
      "   --------------------------- ------------ 10.1/14.9 MB 2.1 MB/s eta 0:00:03\n",
      "   --------------------------- ------------ 10.2/14.9 MB 2.1 MB/s eta 0:00:03\n",
      "   --------------------------- ------------ 10.3/14.9 MB 2.2 MB/s eta 0:00:03\n",
      "   ---------------------------- ----------- 10.5/14.9 MB 2.2 MB/s eta 0:00:03\n",
      "   ---------------------------- ----------- 10.6/14.9 MB 2.2 MB/s eta 0:00:02\n",
      "   ---------------------------- ----------- 10.7/14.9 MB 2.2 MB/s eta 0:00:02\n",
      "   ----------------------------- ---------- 10.8/14.9 MB 2.2 MB/s eta 0:00:02\n",
      "   ----------------------------- ---------- 10.9/14.9 MB 2.2 MB/s eta 0:00:02\n",
      "   ----------------------------- ---------- 11.1/14.9 MB 2.2 MB/s eta 0:00:02\n",
      "   ------------------------------ --------- 11.2/14.9 MB 2.2 MB/s eta 0:00:02\n",
      "   ------------------------------ --------- 11.3/14.9 MB 2.2 MB/s eta 0:00:02\n",
      "   ------------------------------ --------- 11.4/14.9 MB 2.2 MB/s eta 0:00:02\n",
      "   ------------------------------- -------- 11.6/14.9 MB 2.2 MB/s eta 0:00:02\n",
      "   ------------------------------- -------- 11.6/14.9 MB 2.2 MB/s eta 0:00:02\n",
      "   ------------------------------- -------- 11.8/14.9 MB 2.2 MB/s eta 0:00:02\n",
      "   -------------------------------- ------- 11.9/14.9 MB 2.2 MB/s eta 0:00:02\n",
      "   -------------------------------- ------- 12.0/14.9 MB 2.2 MB/s eta 0:00:02\n",
      "   -------------------------------- ------- 12.1/14.9 MB 2.2 MB/s eta 0:00:02\n",
      "   -------------------------------- ------- 12.2/14.9 MB 2.2 MB/s eta 0:00:02\n",
      "   --------------------------------- ------ 12.4/14.9 MB 2.2 MB/s eta 0:00:02\n",
      "   --------------------------------- ------ 12.5/14.9 MB 2.2 MB/s eta 0:00:02\n",
      "   --------------------------------- ------ 12.6/14.9 MB 2.2 MB/s eta 0:00:02\n",
      "   ---------------------------------- ----- 12.7/14.9 MB 2.2 MB/s eta 0:00:01\n",
      "   ---------------------------------- ----- 12.8/14.9 MB 2.2 MB/s eta 0:00:01\n",
      "   ---------------------------------- ----- 13.0/14.9 MB 2.2 MB/s eta 0:00:01\n",
      "   ----------------------------------- ---- 13.1/14.9 MB 2.2 MB/s eta 0:00:01\n",
      "   ----------------------------------- ---- 13.2/14.9 MB 2.2 MB/s eta 0:00:01\n",
      "   ----------------------------------- ---- 13.3/14.9 MB 2.2 MB/s eta 0:00:01\n",
      "   ------------------------------------ --- 13.4/14.9 MB 2.2 MB/s eta 0:00:01\n",
      "   ------------------------------------ --- 13.5/14.9 MB 2.2 MB/s eta 0:00:01\n",
      "   ------------------------------------ --- 13.6/14.9 MB 2.2 MB/s eta 0:00:01\n",
      "   ------------------------------------ --- 13.7/14.9 MB 2.2 MB/s eta 0:00:01\n",
      "   ------------------------------------- -- 13.8/14.9 MB 2.2 MB/s eta 0:00:01\n",
      "   ------------------------------------- -- 13.9/14.9 MB 2.2 MB/s eta 0:00:01\n",
      "   ------------------------------------- -- 14.0/14.9 MB 2.2 MB/s eta 0:00:01\n",
      "   -------------------------------------- - 14.2/14.9 MB 2.2 MB/s eta 0:00:01\n",
      "   -------------------------------------- - 14.3/14.9 MB 2.2 MB/s eta 0:00:01\n",
      "   -------------------------------------- - 14.4/14.9 MB 2.2 MB/s eta 0:00:01\n",
      "   -------------------------------------- - 14.5/14.9 MB 2.2 MB/s eta 0:00:01\n",
      "   ---------------------------------------  14.6/14.9 MB 2.2 MB/s eta 0:00:01\n",
      "   ---------------------------------------  14.7/14.9 MB 2.3 MB/s eta 0:00:01\n",
      "   ---------------------------------------  14.8/14.9 MB 2.3 MB/s eta 0:00:01\n",
      "   ---------------------------------------  14.9/14.9 MB 2.3 MB/s eta 0:00:01\n",
      "   ---------------------------------------- 14.9/14.9 MB 2.2 MB/s eta 0:00:00\n",
      "Using cached llvmlite-0.41.1-cp38-cp38-win_amd64.whl (28.1 MB)\n",
      "Installing collected packages: numpy, llvmlite, numba, pynndescent, umap-learn\n",
      "  Attempting uninstall: numpy\n",
      "    Found existing installation: numpy 1.20.0\n",
      "    Uninstalling numpy-1.20.0:\n",
      "      Successfully uninstalled numpy-1.20.0\n"
     ]
    },
    {
     "name": "stderr",
     "output_type": "stream",
     "text": [
      "WARNING: Ignoring invalid distribution -umpy (c:\\users\\chaot\\anaconda3\\lib\\site-packages)\n",
      "WARNING: Ignoring invalid distribution -umpy (c:\\users\\chaot\\anaconda3\\lib\\site-packages)\n",
      "DEPRECATION: pyodbc 4.0.0-unsupported has a non-standard version number. pip 23.3 will enforce this behaviour change. A possible replacement is to upgrade to a newer version of pyodbc or contact the author to suggest that they release a version with a conforming version number. Discussion can be found at https://github.com/pypa/pip/issues/12063\n",
      "ERROR: Could not install packages due to an OSError: [WinError 5] Access is denied: 'C:\\\\Users\\\\chaot\\\\anaconda3\\\\Lib\\\\site-packages\\\\numpy\\\\~ore\\\\_multiarray_tests.cp38-win_amd64.pyd'\n",
      "Consider using the `--user` option or check the permissions.\n",
      "\n",
      "\n",
      "[notice] A new release of pip is available: 23.2.1 -> 23.3.1\n",
      "[notice] To update, run: python.exe -m pip install --upgrade pip\n"
     ]
    }
   ],
   "source": [
    "import sys\n",
    "!{sys.executable} -m pip install umap-learn"
   ]
  },
  {
   "cell_type": "markdown",
   "id": "declared-federal",
   "metadata": {
    "id": "declared-federal"
   },
   "source": [
    "## Task 1: Decomposition of the texts [ /66 marks]\n",
    "\n",
    "### Question 1.1 [ / 14 marks]\n",
    "\n",
    "The dataset comes with the text and a binary variable which represents the sentiment, either positive or negative. Import the data and use sklearn's `TfidfVectorizer` to eliminate accents, special characters, and stopwords. In addition, make sure to eliminate words that appear in less than 5% of documents and those that appear in over 95%. You can also set `sublinear_tf` to `True`. After that, split the data into train and test with `test_size = 0.2` and `seed = seed`. Calculate the [Tf-Idf transform](https://scikit-learn.org/stable/modules/generated/sklearn.feature_extraction.text.TfidfTransformer.html) for both train and test. Note that you need to fit and transform the inputs for the train set but you only need to transform the inputs for the test set. Don't forget to turn the sparse matrices to dense ones after you apply the `Tf-Idf` transform.  "
   ]
  },
  {
   "cell_type": "code",
   "execution_count": 9,
   "id": "1f703a98",
   "metadata": {},
   "outputs": [
    {
     "data": {
      "text/html": [
       "<div>\n",
       "<style scoped>\n",
       "    .dataframe tbody tr th:only-of-type {\n",
       "        vertical-align: middle;\n",
       "    }\n",
       "\n",
       "    .dataframe tbody tr th {\n",
       "        vertical-align: top;\n",
       "    }\n",
       "\n",
       "    .dataframe thead th {\n",
       "        text-align: right;\n",
       "    }\n",
       "</style>\n",
       "<table border=\"1\" class=\"dataframe\">\n",
       "  <thead>\n",
       "    <tr style=\"text-align: right;\">\n",
       "      <th></th>\n",
       "      <th>text</th>\n",
       "      <th>label</th>\n",
       "    </tr>\n",
       "  </thead>\n",
       "  <tbody>\n",
       "    <tr>\n",
       "      <th>0</th>\n",
       "      <td>Stuning even for the non-gamer: This sound tr...</td>\n",
       "      <td>1</td>\n",
       "    </tr>\n",
       "    <tr>\n",
       "      <th>1</th>\n",
       "      <td>The best soundtrack ever to anything.: I'm re...</td>\n",
       "      <td>1</td>\n",
       "    </tr>\n",
       "    <tr>\n",
       "      <th>2</th>\n",
       "      <td>Amazing!: This soundtrack is my favorite musi...</td>\n",
       "      <td>1</td>\n",
       "    </tr>\n",
       "    <tr>\n",
       "      <th>3</th>\n",
       "      <td>Excellent Soundtrack: I truly like this sound...</td>\n",
       "      <td>1</td>\n",
       "    </tr>\n",
       "    <tr>\n",
       "      <th>4</th>\n",
       "      <td>Remember, Pull Your Jaw Off The Floor After H...</td>\n",
       "      <td>1</td>\n",
       "    </tr>\n",
       "  </tbody>\n",
       "</table>\n",
       "</div>"
      ],
      "text/plain": [
       "                                                text  label\n",
       "0   Stuning even for the non-gamer: This sound tr...      1\n",
       "1   The best soundtrack ever to anything.: I'm re...      1\n",
       "2   Amazing!: This soundtrack is my favorite musi...      1\n",
       "3   Excellent Soundtrack: I truly like this sound...      1\n",
       "4   Remember, Pull Your Jaw Off The Floor After H...      1"
      ]
     },
     "execution_count": 9,
     "metadata": {},
     "output_type": "execute_result"
    }
   ],
   "source": [
    "# Load the data [ /1 marks]\n",
    "\n",
    "df = pd.read_csv('Reviews_sample.csv')\n",
    "\n",
    "# Display the first 5 rows [ /1 marks]\n",
    "\n",
    "df.head(5)"
   ]
  },
  {
   "cell_type": "code",
   "execution_count": 10,
   "id": "clear-imperial",
   "metadata": {
    "executionInfo": {
     "elapsed": 495,
     "status": "ok",
     "timestamp": 1647450957891,
     "user": {
      "displayName": "Cristián Bravo",
      "photoUrl": "https://lh3.googleusercontent.com/a-/AOh14Gi6QphwVhivjPBW56t4xTTzZ1QOojjow-Fo5Ib0gA=s64",
      "userId": "07563968753594904197"
     },
     "user_tz": 240
    },
    "id": "clear-imperial"
   },
   "outputs": [],
   "source": [
    "# Defining the TfIDFTransformer [ /4 marks]\n",
    "\n",
    "# From Lab 8\n",
    "\n",
    "TfIDFTransformer = sktext.TfidfVectorizer(strip_accents='unicode', # Eliminate accents and special characters\n",
    "                      stop_words='english', # Eliminates stop words.\n",
    "                      min_df = 0.05, # Eliminate words that do not appear in more than 5% of texts\n",
    "                      max_df = 0.95, # Eliminate words that appear in more than 95% of texts\n",
    "                      sublinear_tf=True # Use sublinear weights (softplus), i.e., replace tf with 1 + log(tf)\n",
    "                      )\n",
    "\n",
    "X = df['text']\n",
    "y = df['label']\n",
    "\n",
    "\n",
    "# Train/test split [ /2 marks]\n",
    "x_train, x_test, y_train, y_test = train_test_split(X, y, test_size = 0.2, random_state = seed)\n",
    "\n",
    "# Calculate the Tf-Idf transform [ /4 marks]\n",
    "TfIDF_train = TfIDFTransformer.fit_transform(x_train)\n",
    "TfIDF_test  = TfIDFTransformer.transform(x_test)\n",
    "\n",
    "TfIDF_train = TfIDF_train.toarray()\n",
    "TfIDF_test  = TfIDF_test.toarray()"
   ]
  },
  {
   "cell_type": "markdown",
   "id": "bacterial-calvin",
   "metadata": {
    "id": "bacterial-calvin"
   },
   "source": [
    "From here on, you will use the variables `TfIDF_train` and `TfIDF_test` as the input for the different tasks, and the `y_train` and `y_test` labels for each dataset (if required). Print the number of indices in the ouput using [`TfIDFTransformer.get_feature_names()` method](https://scikit-learn.org/stable/modules/generated/sklearn.feature_extraction.text.TfidfTransformer.html)."
   ]
  },
  {
   "cell_type": "code",
   "execution_count": 46,
   "id": "continental-batch",
   "metadata": {
    "colab": {
     "base_uri": "https://localhost:8080/"
    },
    "executionInfo": {
     "elapsed": 247,
     "status": "ok",
     "timestamp": 1647450961573,
     "user": {
      "displayName": "Cristián Bravo",
      "photoUrl": "https://lh3.googleusercontent.com/a-/AOh14Gi6QphwVhivjPBW56t4xTTzZ1QOojjow-Fo5Ib0gA=s64",
      "userId": "07563968753594904197"
     },
     "user_tz": 240
    },
    "id": "continental-batch",
    "outputId": "472436de-7712-4629-b7c1-49b73327e980"
   },
   "outputs": [
    {
     "data": {
      "text/plain": [
       "64"
      ]
     },
     "execution_count": 46,
     "metadata": {},
     "output_type": "execute_result"
    }
   ],
   "source": [
    "# Print the number of indices [ /2 marks]\n",
    "word_index = TfIDFTransformer.get_feature_names_out()\n",
    "\n",
    "len(word_index)"
   ]
  },
  {
   "cell_type": "markdown",
   "id": "tribal-scholarship",
   "metadata": {
    "id": "tribal-scholarship"
   },
   "source": [
    "### Question 1.2 [ / 12 marks]\n",
    "Now we have the TfIDF matrix so we can start working on the data. We hope to explore what some commonly occuring concepts are in the text reviews. We can do this using PCA. A PCA transform of the TF-IDF matrix will give us a basis of the text data, each component representing a *concept* or set of words that are correlated. Correlation in text can be interpreted as a relation to a similar topic. Calculate a PCA transform of the training data using the **maximum** number of concepts possible. Make a plot of the explained variance that shows the cumulative explained variance per number of concepts/components."
   ]
  },
  {
   "cell_type": "code",
   "execution_count": 38,
   "id": "valid-uganda",
   "metadata": {
    "colab": {
     "base_uri": "https://localhost:8080/",
     "height": 354
    },
    "executionInfo": {
     "elapsed": 1012,
     "status": "ok",
     "timestamp": 1647450964800,
     "user": {
      "displayName": "Cristián Bravo",
      "photoUrl": "https://lh3.googleusercontent.com/a-/AOh14Gi6QphwVhivjPBW56t4xTTzZ1QOojjow-Fo5Ib0gA=s64",
      "userId": "07563968753594904197"
     },
     "user_tz": 240
    },
    "id": "valid-uganda",
    "outputId": "bc731e0c-ff31-478b-d921-b69e7ab4eec6"
   },
   "outputs": [
    {
     "data": {
      "image/png": "[encoded data removed]",
      "text/plain": [
       "<Figure size 640x480 with 1 Axes>"
      ]
     },
     "metadata": {},
     "output_type": "display_data"
    }
   ],
   "source": [
    "# Apply PCA on training data and get the explained variance [ / 4 marks]\n",
    "\n",
    "# From Lab 8\n",
    "\n",
    "n = len(TfIDFTransformer.get_feature_names_out())\n",
    "nPCA = PCA(n_components = n, svd_solver = 'full')\n",
    "\n",
    "nPCA.fit(TfIDF_train)\n",
    "\n",
    "variances = nPCA.explained_variance_\n",
    "\n",
    "total_vars = []\n",
    "\n",
    "for i in range(len(variances)):\n",
    "    total_vars.append(sum(variances[:i]))\n",
    "\n",
    "\n",
    "# Plotting explained variance with number of concepts [ / 4 marks]\n",
    "\n",
    "ax = sns.barplot(x = np.arange(0, n, 1), y = total_vars, width=0.8)\n",
    "ax.tick_params(axis='x', rotation=90)\n",
    "ax.set(xlabel = \"Number of Components\", ylabel = \"Explained Variance\")\n",
    "\n",
    "for index, label in enumerate(ax.get_xticklabels()):\n",
    "   if index % 2 == 0:\n",
    "      label.set_visible(True)\n",
    "   else:\n",
    "      label.set_visible(False)"
   ]
  },
  {
   "cell_type": "markdown",
   "id": "eeeaebd3",
   "metadata": {},
   "source": [
    "**Written Question:** Exactly how many concepts/components do we need to correctly explain at least 80% of the data? [ /4 marks]\n"
   ]
  },
  {
   "cell_type": "code",
   "execution_count": 42,
   "id": "fitted-rogers",
   "metadata": {
    "colab": {
     "base_uri": "https://localhost:8080/"
    },
    "executionInfo": {
     "elapsed": 195,
     "status": "ok",
     "timestamp": 1647450967325,
     "user": {
      "displayName": "Cristián Bravo",
      "photoUrl": "https://lh3.googleusercontent.com/a-/AOh14Gi6QphwVhivjPBW56t4xTTzZ1QOojjow-Fo5Ib0gA=s64",
      "userId": "07563968753594904197"
     },
     "user_tz": 240
    },
    "id": "fitted-rogers",
    "outputId": "fab5395c-1adc-4681-b8ea-3974b5f8e48a"
   },
   "outputs": [
    {
     "name": "stdout",
     "output_type": "stream",
     "text": [
      "We need 53 components to get an explained variance of at least 80%\n"
     ]
    }
   ],
   "source": [
    "# To get the exact index where the variance is above 80% [ / 4 marks]\n",
    "\n",
    "idx = 0\n",
    "\n",
    "for i in range(len(total_vars)):\n",
    "    if total_vars[i] >= 0.8:\n",
    "        idx = i+1\n",
    "        break\n",
    "        \n",
    "print(f\"We need {idx} components to get an explained variance of at least 80%\")"
   ]
  },
  {
   "cell_type": "markdown",
   "id": "224b4fd3",
   "metadata": {},
   "source": [
    "**Your Answer:** "
   ]
  },
  {
   "cell_type": "markdown",
   "id": "electronic-calgary",
   "metadata": {
    "id": "electronic-calgary"
   },
   "source": [
    "### Question 1.3 [ / 14 marks]\n",
    "\n",
    "Let's examine the first three concepts by looking how many variance they explained and showing the 10 words that are the most important in each of these three concepts (as revealed by the absolute value of the PCA weight in each concept).\n"
   ]
  },
  {
   "cell_type": "code",
   "execution_count": 45,
   "id": "lesser-prison",
   "metadata": {
    "colab": {
     "base_uri": "https://localhost:8080/"
    },
    "executionInfo": {
     "elapsed": 164,
     "status": "ok",
     "timestamp": 1647451058008,
     "user": {
      "displayName": "Cristián Bravo",
      "photoUrl": "https://lh3.googleusercontent.com/a-/AOh14Gi6QphwVhivjPBW56t4xTTzZ1QOojjow-Fo5Ib0gA=s64",
      "userId": "07563968753594904197"
     },
     "user_tz": 240
    },
    "id": "lesser-prison",
    "outputId": "554312d5-38b1-464b-ff80-f34db78ea91a"
   },
   "outputs": [
    {
     "name": "stdout",
     "output_type": "stream",
     "text": [
      "The first three components explain 14.31% of the variance.\n"
     ]
    }
   ],
   "source": [
    "# Explained variance [ / 2 marks]\n",
    "print('The first three components explain %.2f%% of the variance.' % (total_vars[4]*100))"
   ]
  },
  {
   "cell_type": "code",
   "execution_count": 88,
   "id": "based-deviation",
   "metadata": {
    "executionInfo": {
     "elapsed": 109,
     "status": "ok",
     "timestamp": 1647451060599,
     "user": {
      "displayName": "Cristián Bravo",
      "photoUrl": "https://lh3.googleusercontent.com/a-/AOh14Gi6QphwVhivjPBW56t4xTTzZ1QOojjow-Fo5Ib0gA=s64",
      "userId": "07563968753594904197"
     },
     "user_tz": 240
    },
    "id": "based-deviation"
   },
   "outputs": [],
   "source": [
    "# Get 10 most important words for each component [ / 4 marks]\n",
    "\n",
    "component1 = word_index[np.argpartition(nPCA.components_[0, :], -10)][-10:]\n",
    "component2 = word_index[np.argpartition(nPCA.components_[1, :], -10)][-10:]\n",
    "component3 = word_index[np.argpartition(nPCA.components_[2, :], -10)][-10:]"
   ]
  },
  {
   "cell_type": "code",
   "execution_count": 89,
   "id": "gorgeous-montana",
   "metadata": {
    "colab": {
     "base_uri": "https://localhost:8080/"
    },
    "executionInfo": {
     "elapsed": 105,
     "status": "ok",
     "timestamp": 1647451061365,
     "user": {
      "displayName": "Cristián Bravo",
      "photoUrl": "https://lh3.googleusercontent.com/a-/AOh14Gi6QphwVhivjPBW56t4xTTzZ1QOojjow-Fo5Ib0gA=s64",
      "userId": "07563968753594904197"
     },
     "user_tz": 240
    },
    "id": "gorgeous-montana",
    "outputId": "4d80a261-4585-4c03-e387-ab5105717fa3"
   },
   "outputs": [
    {
     "data": {
      "text/plain": [
       "array(['want', 'way', 'wear', 'work', 'worst', 'worth', 'writing',\n",
       "       'written', 'year', 'years'], dtype=object)"
      ]
     },
     "execution_count": 89,
     "metadata": {},
     "output_type": "execute_result"
    }
   ],
   "source": [
    "# Words for concept 1 [ / 2 marks]\n",
    "\n",
    "component1"
   ]
  },
  {
   "cell_type": "code",
   "execution_count": 90,
   "id": "mature-cyprus",
   "metadata": {
    "colab": {
     "base_uri": "https://localhost:8080/"
    },
    "executionInfo": {
     "elapsed": 10,
     "status": "ok",
     "timestamp": 1647451061888,
     "user": {
      "displayName": "Cristián Bravo",
      "photoUrl": "https://lh3.googleusercontent.com/a-/AOh14Gi6QphwVhivjPBW56t4xTTzZ1QOojjow-Fo5Ib0gA=s64",
      "userId": "07563968753594904197"
     },
     "user_tz": 240
    },
    "id": "mature-cyprus",
    "outputId": "07360eb6-2f39-4503-d3a9-376068ce38f2"
   },
   "outputs": [
    {
     "data": {
      "text/plain": [
       "array(['buy', 'years', 'wear', 'does', 'great', 'worth', 'love', 'book',\n",
       "       'recommend', 'product'], dtype=object)"
      ]
     },
     "execution_count": 90,
     "metadata": {},
     "output_type": "execute_result"
    }
   ],
   "source": [
    "# Words for concept 2 [ / 2 marks]\n",
    "\n",
    "component2"
   ]
  },
  {
   "cell_type": "code",
   "execution_count": 91,
   "id": "proprietary-contributor",
   "metadata": {
    "colab": {
     "base_uri": "https://localhost:8080/"
    },
    "executionInfo": {
     "elapsed": 9,
     "status": "ok",
     "timestamp": 1647451062389,
     "user": {
      "displayName": "Cristián Bravo",
      "photoUrl": "https://lh3.googleusercontent.com/a-/AOh14Gi6QphwVhivjPBW56t4xTTzZ1QOojjow-Fo5Ib0gA=s64",
      "userId": "07563968753594904197"
     },
     "user_tz": 240
    },
    "id": "proprietary-contributor",
    "outputId": "31e53ce1-e1fb-427c-9940-3fc69e5d129c"
   },
   "outputs": [
    {
     "data": {
      "text/plain": [
       "array(['bad', 'great', 'good', 'want', 'love', 'best', 'movie', 'really',\n",
       "       'better', 'little'], dtype=object)"
      ]
     },
     "execution_count": 91,
     "metadata": {},
     "output_type": "execute_result"
    }
   ],
   "source": [
    "# Words for concept 3 [ / 2 marks]\n",
    "\n",
    "component3"
   ]
  },
  {
   "cell_type": "markdown",
   "id": "ahead-evaluation",
   "metadata": {
    "id": "ahead-evaluation"
   },
   "source": [
    "\n",
    "**Written Question:** What is the cumulative variance explained by these three concepts? What would you name each of these concepts? [ / 2 marks]\n",
    "\n",
    "*Hint: If in a concept you would get the words 'dog', 'cat', 'fish' as the most important ones, you could name the concept 'animals' or 'pets'.*\n",
    "\n",
    "**Your answer:** The cumulative explained variance is 14.31%. I would say that concept 1 relates to \"writing of the movie\", concept 2 relates to \"advertisement\", and concept 3 relates to \"good movies\"."
   ]
  },
  {
   "cell_type": "markdown",
   "id": "outstanding-hepatitis",
   "metadata": {
    "id": "outstanding-hepatitis"
   },
   "source": [
    "### Question 1.4 [ / 8 marks]\n",
    "\n",
    " Apply the PCA transformation to the test dataset. Use only the first two components and make a scatter plot of the cases. Identify positive and negative cases by colouring points with different sentiments with different colours.\n"
   ]
  },
  {
   "cell_type": "code",
   "execution_count": 98,
   "id": "ruled-central",
   "metadata": {
    "colab": {
     "base_uri": "https://localhost:8080/",
     "height": 340
    },
    "executionInfo": {
     "elapsed": 1061,
     "status": "ok",
     "timestamp": 1647451080085,
     "user": {
      "displayName": "Cristián Bravo",
      "photoUrl": "https://lh3.googleusercontent.com/a-/AOh14Gi6QphwVhivjPBW56t4xTTzZ1QOojjow-Fo5Ib0gA=s64",
      "userId": "07563968753594904197"
     },
     "user_tz": 240
    },
    "id": "ruled-central",
    "outputId": "f9481b07-9363-4352-b108-755cae54e9ca"
   },
   "outputs": [
    {
     "data": {
      "image/png": "[encoded data removed]",
      "text/plain": [
       "<Figure size 640x480 with 1 Axes>"
      ]
     },
     "metadata": {},
     "output_type": "display_data"
    }
   ],
   "source": [
    "# Apply PCA to the test dataset [ / 2 marks]\n",
    "\n",
    "PCA_2 = PCA(n_components = 2, svd_solver = 'full')\n",
    "Z = PCA_2.fit_transform(TfIDF_test)\n",
    "\n",
    "# Plot the two different set of points with different markers and labels [ /4 marks]\n",
    "\n",
    "sns.scatterplot(x=Z[:, 0], y=Z[:, 1], hue=y_test)\n",
    "\n",
    "plt.xlabel(\"Component 1\")\n",
    "plt.ylabel(\"Component 2\")\n",
    "plt.title(\"PCA\")\n",
    "plt.show()"
   ]
  },
  {
   "cell_type": "markdown",
   "id": "present-sunglasses",
   "metadata": {
    "id": "present-sunglasses"
   },
   "source": [
    "**Written Question:** What can we say about where the positive and negative cases lie in our plot? Could we use these concepts to discriminate positive and negative cases? If yes, why? If no, why not? Discuss your findings. [ /2 marks]\n",
    " \n",
    "**Your answer:** The positive cases are way more scattered and they are mostly located above the negative ones. We cannot use the first two components to discriminate positive and negative cases since a large overlap can be seen for both cases where second component is between -0.2 and 0."
   ]
  },
  {
   "cell_type": "markdown",
   "id": "dt7hcc3noPEU",
   "metadata": {
    "id": "dt7hcc3noPEU"
   },
   "source": [
    "### Question  1.5 [ / 18 marks]\n",
    "\n",
    "Repeat the process above, only now using a UMAP projection with two components. Test all combinations of ```n_neighbors=[2, 10, 25]``` and ```min_dist=[0.1, 0.25, 0.5]``` over the train data and choose the projection that you think is best, and apply it over the test data. Use 1000 epochs, a cosine metric and random initialization. If you have more than 8GB of RAM (as in Colab), you may want to set ```low_memory=False``` to speed up computations.\n",
    "\n",
    "*Hint: [This link](https://stackoverflow.com/questions/16384109/iterate-over-all-combinations-of-values-in-multiple-lists-in-python) may be helpful.*\n"
   ]
  },
  {
   "cell_type": "code",
   "execution_count": 125,
   "id": "k5s0D9iuoFBT",
   "metadata": {
    "colab": {
     "base_uri": "https://localhost:8080/",
     "height": 1000
    },
    "executionInfo": {
     "elapsed": 71372,
     "status": "ok",
     "timestamp": 1647453628089,
     "user": {
      "displayName": "Cristián Bravo",
      "photoUrl": "https://lh3.googleusercontent.com/a-/AOh14Gi6QphwVhivjPBW56t4xTTzZ1QOojjow-Fo5Ib0gA=s64",
      "userId": "07563968753594904197"
     },
     "user_tz": 240
    },
    "id": "k5s0D9iuoFBT",
    "outputId": "beec454e-4b2c-43b0-da19-39918b7363a5"
   },
   "outputs": [
    {
     "ename": "SyntaxError",
     "evalue": "invalid syntax (3563829009.py, line 1)",
     "output_type": "error",
     "traceback": [
      "\u001b[1;36m  Cell \u001b[1;32mIn[125], line 1\u001b[1;36m\u001b[0m\n\u001b[1;33m    from umap-learn import UMAP\u001b[0m\n\u001b[1;37m             ^\u001b[0m\n\u001b[1;31mSyntaxError\u001b[0m\u001b[1;31m:\u001b[0m invalid syntax\n"
     ]
    }
   ],
   "source": [
    "from umap import UMAP\n",
    "\n",
    "# Set parameters\n",
    "fig, axs = plt.subplots(3, 3, figsize=(20,20))\n",
    "n_neighbors=[2, 10, 25]\n",
    "min_dist=[0.1, 0.25, 0.5]\n",
    "fig.tight_layout()\n",
    "sns.set_style('white')\n",
    "\n",
    "# Create UMAP and plots [ / 10 marks]\n",
    "\n",
    "pairs = [(n, m) for n in n_neighbors for m in min_dist]\n",
    "\n",
    "for n, m in enumerate(pairs):\n",
    "    reducer = UMAP(n_neighbors=n,           # Number of neareast neighbours to use. \n",
    "                    n_components=2,              # Number of components. UMAP is robust to larger values\n",
    "                    metric='cosine',             # Metric to use.\n",
    "                    n_epochs=1000,               # Iterations. Set to convergence. None implies either 200 or 500.\n",
    "                    min_dist=m,                  # Minimum distance embedded points. Smaller makes clumps, larger, sparseness.\n",
    "                    spread=1.0,                  # Scale to combine with min_dist\n",
    "                    low_memory=False,             # Run slower, but with less memory.\n",
    "                    n_jobs=-1,                   # Cores to use\n",
    "                    random_state=seed,           # Random seed\n",
    "                    verbose=False                # Verbosity\n",
    "                   )\n",
    "    UMAP_embedding = reducer.fit_transform(TfIDF_train)\n",
    "    umap.plot.points(reducer, labels=y_train)"
   ]
  },
  {
   "cell_type": "markdown",
   "id": "KyMYOAMf4l_E",
   "metadata": {
    "id": "KyMYOAMf4l_E"
   },
   "source": [
    "**Written Question:** Which paramter would you choose? [ / 2 makrs]\n",
    "\n",
    "**Your Answer:** "
   ]
  },
  {
   "cell_type": "code",
   "execution_count": null,
   "id": "-21cSLBty9gh",
   "metadata": {
    "colab": {
     "base_uri": "https://localhost:8080/",
     "height": 265
    },
    "executionInfo": {
     "elapsed": 34556,
     "status": "ok",
     "timestamp": 1647453944814,
     "user": {
      "displayName": "Cristián Bravo",
      "photoUrl": "https://lh3.googleusercontent.com/a-/AOh14Gi6QphwVhivjPBW56t4xTTzZ1QOojjow-Fo5Ib0gA=s64",
      "userId": "07563968753594904197"
     },
     "user_tz": 240
    },
    "id": "-21cSLBty9gh",
    "outputId": "8257709e-2e37-4fc0-d64f-f2c71481a449"
   },
   "outputs": [],
   "source": [
    "# Choose the paramters that you think are best and apply to test set [ / 4 marks]\n",
    "\n",
    "\n",
    "# Create plot [ /2 marks]\n"
   ]
  },
  {
   "cell_type": "markdown",
   "id": "A40NKn9Y5tM9",
   "metadata": {
    "id": "A40NKn9Y5tM9"
   },
   "source": [
    "\n",
    "**Written Question:** How does the plot compare to the PCA one? [ /2 marks]\n",
    "\n",
    "**Your answer:** "
   ]
  },
  {
   "cell_type": "markdown",
   "id": "nuclear-landing",
   "metadata": {
    "id": "nuclear-landing"
   },
   "source": [
    "## Task 2: Benchmarking predictive capabilities of the compressed data [ / 34 marks]\n",
    "\n",
    "For this task, we will benchmark the predictive capabilities of the compressed data against the original one. \n"
   ]
  },
  {
   "cell_type": "markdown",
   "id": "4137a1ce",
   "metadata": {},
   "source": [
    "\n",
    "### Question 2.1 [ /8 marks]\n",
    "Train a regularized logistic regression over the original TfIDF train set (with no compression) using l2 regularization. Calculate the AUC score and plot the ROC curve for the original test set."
   ]
  },
  {
   "cell_type": "code",
   "execution_count": null,
   "id": "frank-madison",
   "metadata": {
    "colab": {
     "base_uri": "https://localhost:8080/",
     "height": 265
    },
    "executionInfo": {
     "elapsed": 2272,
     "status": "ok",
     "timestamp": 1647454057484,
     "user": {
      "displayName": "Cristián Bravo",
      "photoUrl": "https://lh3.googleusercontent.com/a-/AOh14Gi6QphwVhivjPBW56t4xTTzZ1QOojjow-Fo5Ib0gA=s64",
      "userId": "07563968753594904197"
     },
     "user_tz": 240
    },
    "id": "frank-madison",
    "outputId": "73a40232-b7a0-49a6-ba9c-70d71aaf4c2b"
   },
   "outputs": [],
   "source": [
    "# Train and test using model LogisticRegressionCV [ /4 marks]\n",
    "\n",
    "\n",
    "\n",
    "\n",
    "\n",
    "# Plot ROC curve and compute AUC score [ /4 marks]\n",
    "\n",
    "\n",
    "# Create and show the plot\n"
   ]
  },
  {
   "cell_type": "markdown",
   "id": "8d2f05ad",
   "metadata": {},
   "source": [
    "### Question 2.2 [ /12 marks]\n",
    "Train a regularized logistic regression over an SVD-reduced dataset (with 10 components) using l2 regularization. Calculate the AUC score and plot the ROC curve for the SVD-transformed test set."
   ]
  },
  {
   "cell_type": "code",
   "execution_count": null,
   "id": "descending-picking",
   "metadata": {
    "colab": {
     "base_uri": "https://localhost:8080/",
     "height": 265
    },
    "executionInfo": {
     "elapsed": 1143,
     "status": "ok",
     "timestamp": 1647454163137,
     "user": {
      "displayName": "Cristián Bravo",
      "photoUrl": "https://lh3.googleusercontent.com/a-/AOh14Gi6QphwVhivjPBW56t4xTTzZ1QOojjow-Fo5Ib0gA=s64",
      "userId": "07563968753594904197"
     },
     "user_tz": 240
    },
    "id": "descending-picking",
    "outputId": "a609e4eb-574d-400c-8f58-2edb49283ebe"
   },
   "outputs": [],
   "source": [
    "# Apply SVD first [ / 4 marks]\n",
    "\n",
    "\n",
    "#Train and test using model LogisticRegressionCV [ /4 marks]\n",
    "\n",
    "\n",
    "\n",
    "# Plot ROC curve and compute AUC score [ /4 marks]\n",
    "\n",
    "\n",
    "# Create and show the plot\n",
    "\n"
   ]
  },
  {
   "cell_type": "markdown",
   "id": "814b2fc4",
   "metadata": {},
   "source": [
    "### Question 2.3 [ /12 marks]\n",
    "Train a regularized logistic regression over the UMAP-reduced dataset (with 10 components using the same parameters as Task 1.5) using l2 regularization. Calculate the AUC score and plot the ROC curve for the UMAP-transformed test set."
   ]
  },
  {
   "cell_type": "code",
   "execution_count": null,
   "id": "unnecessary-geology",
   "metadata": {
    "colab": {
     "base_uri": "https://localhost:8080/",
     "height": 265
    },
    "executionInfo": {
     "elapsed": 30177,
     "status": "ok",
     "timestamp": 1647454229011,
     "user": {
      "displayName": "Cristián Bravo",
      "photoUrl": "https://lh3.googleusercontent.com/a-/AOh14Gi6QphwVhivjPBW56t4xTTzZ1QOojjow-Fo5Ib0gA=s64",
      "userId": "07563968753594904197"
     },
     "user_tz": 240
    },
    "id": "unnecessary-geology",
    "outputId": "8825abfc-2a2f-4879-9028-22576bbf0f7b"
   },
   "outputs": [],
   "source": [
    "# Apply UMAP first [ / 4 marks]\n",
    "\n",
    "\n",
    "#Train and test using model LogisticRegressionCV [ /4 marks]\n",
    "\n",
    "\n",
    "\n",
    "\n",
    "# Plot ROC curve and compute AUC score [ /4 marks]\n",
    "\n",
    "\n",
    "# Create and show the plot\n"
   ]
  },
  {
   "cell_type": "markdown",
   "id": "damaged-peace",
   "metadata": {
    "id": "damaged-peace"
   },
   "source": [
    "### Question 2.4 [ /8 marks]\n",
    "**Written Question:** Compare the performance of the three models. Which one is the best. [ / 2 marks] \n",
    "\n",
    "**Your Answer:** "
   ]
  }
 ],
 "metadata": {
  "colab": {
   "name": "Assignment_7_Solutions.ipynb",
   "provenance": []
  },
  "kernelspec": {
   "display_name": "Python 3 (ipykernel)",
   "language": "python",
   "name": "python3"
  },
  "language_info": {
   "codemirror_mode": {
    "name": "ipython",
    "version": 3
   },
   "file_extension": ".py",
   "mimetype": "text/x-python",
   "name": "python",
   "nbconvert_exporter": "python",
   "pygments_lexer": "ipython3",
   "version": "3.8.3"
  },
  "latex_envs": {
   "LaTeX_envs_menu_present": true,
   "autoclose": false,
   "autocomplete": true,
   "bibliofile": "biblio.bib",
   "cite_by": "apalike",
   "current_citInitial": 1,
   "eqLabelWithNumbers": true,
   "eqNumInitial": 1,
   "hotkeys": {
    "equation": "Ctrl-E",
    "itemize": "Ctrl-I"
   },
   "labels_anchors": false,
   "latex_user_defs": false,
   "report_style_numbering": false,
   "user_envs_cfg": false
  },
  "toc": {
   "base_numbering": 1,
   "nav_menu": {},
   "number_sections": true,
   "sideBar": true,
   "skip_h1_title": false,
   "title_cell": "Table of Contents",
   "title_sidebar": "Contents",
   "toc_cell": false,
   "toc_position": {},
   "toc_section_display": true,
   "toc_window_display": false
  },
  "varInspector": {
   "cols": {
    "lenName": 16,
    "lenType": 16,
    "lenVar": 40
   },
   "kernels_config": {
    "python": {
     "delete_cmd_postfix": "",
     "delete_cmd_prefix": "del ",
     "library": "var_list.py",
     "varRefreshCmd": "print(var_dic_list())"
    },
    "r": {
     "delete_cmd_postfix": ") ",
     "delete_cmd_prefix": "rm(",
     "library": "var_list.r",
     "varRefreshCmd": "cat(var_dic_list()) "
    }
   },
   "types_to_exclude": [
    "module",
    "function",
    "builtin_function_or_method",
    "instance",
    "_Feature"
   ],
   "window_display": false
  },
  "vscode": {
   "interpreter": {
    "hash": "3420a8792bbc8a921cecec9f5e200567f9d5b83365a03086ee32a665b051d9eb"
   }
  }
 },
 "nbformat": 4,
 "nbformat_minor": 5
}
