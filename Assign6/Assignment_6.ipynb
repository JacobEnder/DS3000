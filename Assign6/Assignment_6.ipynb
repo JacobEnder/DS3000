{
 "cells": [
  {
   "cell_type": "markdown",
   "id": "f5a4bd37",
   "metadata": {},
   "source": [
    "# Assignment 6: Feature selection and regularization\n",
    "\n",
    "# Total: /100\n",
    "\n",
    "## Instructions\n",
    "\n",
    "* Complete the assignment\n",
    "\n",
    "* Once the notebook is complete, **restart** your kernel and **rerun** your cells\n",
    "\n",
    "* Submit your completed notebook to owl by the deadline\n",
    "\n",
    "* You may use any python library functions you wish to complete the assignment"
   ]
  },
  {
   "cell_type": "code",
   "execution_count": 1,
   "id": "d2d5c58f",
   "metadata": {},
   "outputs": [],
   "source": [
    "# You may need these\n",
    "import pandas as pd\n",
    "import numpy as np\n",
    "import seaborn as sns\n",
    "import sklearn as sk\n",
    "import sklearn.linear_model as skl\n",
    "from sklearn import preprocessing\n",
    "from sklearn import metrics\n",
    "from sklearn.preprocessing import PolynomialFeatures\n",
    "from sklearn.preprocessing import StandardScaler \n",
    "from sklearn.model_selection import train_test_split, cross_val_score\n",
    "from sklearn.feature_selection import SelectFromModel\n",
    "import matplotlib.pyplot as plt\n",
    "from IPython.display import display\n",
    "\n",
    "# To get geo info of IP addresses:\n",
    "#!pip install maxminddb-geolite2\n",
    "from geolite2 import geolite2\n",
    "\n",
    "seed = 2023\n",
    "np.random.seed(seed)"
   ]
  },
  {
   "cell_type": "markdown",
   "id": "824fc0a9",
   "metadata": {},
   "source": [
    "## Question 1: /20 pts\n",
    "\n",
    "The dataset `customer_data.csv` lists certain attributes providing valuable insights into customer behavior and demographics:\n",
    "\n",
    "- **full.name**: Customer's full name\n",
    "- **ip.address**: Customer's IP address\n",
    "- **region**: Customer's geographical region\n",
    "- **age**: Customer's age\n",
    "- **items**: Number of items purchased by the customer\n",
    "- **amount**: The total amount spent by the customer\n",
    "\n",
    "Businesses can leverage this dataset to make data-driven decisions, understand customer preferences, and tailor their strategies to meet customer needs and interests.\n"
   ]
  },
  {
   "cell_type": "markdown",
   "id": "d89159c2",
   "metadata": {},
   "source": [
    "### 1.1 Load the dataset and display the first 5 rows."
   ]
  },
  {
   "cell_type": "code",
   "execution_count": 2,
   "id": "8d464a7c",
   "metadata": {},
   "outputs": [
    {
     "data": {
      "text/html": [
       "<div>\n",
       "<style scoped>\n",
       "    .dataframe tbody tr th:only-of-type {\n",
       "        vertical-align: middle;\n",
       "    }\n",
       "\n",
       "    .dataframe tbody tr th {\n",
       "        vertical-align: top;\n",
       "    }\n",
       "\n",
       "    .dataframe thead th {\n",
       "        text-align: right;\n",
       "    }\n",
       "</style>\n",
       "<table border=\"1\" class=\"dataframe\">\n",
       "  <thead>\n",
       "    <tr style=\"text-align: right;\">\n",
       "      <th></th>\n",
       "      <th>full.name</th>\n",
       "      <th>ip.address</th>\n",
       "      <th>region</th>\n",
       "      <th>in.store</th>\n",
       "      <th>age</th>\n",
       "      <th>items</th>\n",
       "      <th>amount</th>\n",
       "    </tr>\n",
       "  </thead>\n",
       "  <tbody>\n",
       "    <tr>\n",
       "      <th>0</th>\n",
       "      <td>Carter Stokes</td>\n",
       "      <td>NaN</td>\n",
       "      <td>2</td>\n",
       "      <td>0</td>\n",
       "      <td>37</td>\n",
       "      <td>4</td>\n",
       "      <td>281.03</td>\n",
       "    </tr>\n",
       "    <tr>\n",
       "      <th>1</th>\n",
       "      <td>Jacob Jerde</td>\n",
       "      <td>NaN</td>\n",
       "      <td>2</td>\n",
       "      <td>0</td>\n",
       "      <td>35</td>\n",
       "      <td>2</td>\n",
       "      <td>219.51</td>\n",
       "    </tr>\n",
       "    <tr>\n",
       "      <th>2</th>\n",
       "      <td>Tressa Ratke</td>\n",
       "      <td>192.90.208.202</td>\n",
       "      <td>4</td>\n",
       "      <td>1</td>\n",
       "      <td>45</td>\n",
       "      <td>3</td>\n",
       "      <td>1525.70</td>\n",
       "    </tr>\n",
       "    <tr>\n",
       "      <th>3</th>\n",
       "      <td>Rudolf Abshire</td>\n",
       "      <td>251.55.128.164</td>\n",
       "      <td>3</td>\n",
       "      <td>1</td>\n",
       "      <td>46</td>\n",
       "      <td>3</td>\n",
       "      <td>715.25</td>\n",
       "    </tr>\n",
       "    <tr>\n",
       "      <th>4</th>\n",
       "      <td>Theresa Davis</td>\n",
       "      <td>182.19.192.186</td>\n",
       "      <td>1</td>\n",
       "      <td>1</td>\n",
       "      <td>33</td>\n",
       "      <td>4</td>\n",
       "      <td>1937.50</td>\n",
       "    </tr>\n",
       "  </tbody>\n",
       "</table>\n",
       "</div>"
      ],
      "text/plain": [
       "        full.name      ip.address  region  in.store  age  items   amount\n",
       "0   Carter Stokes             NaN       2         0   37      4   281.03\n",
       "1     Jacob Jerde             NaN       2         0   35      2   219.51\n",
       "2    Tressa Ratke  192.90.208.202       4         1   45      3  1525.70\n",
       "3  Rudolf Abshire  251.55.128.164       3         1   46      3   715.25\n",
       "4   Theresa Davis  182.19.192.186       1         1   33      4  1937.50"
      ]
     },
     "execution_count": 2,
     "metadata": {},
     "output_type": "execute_result"
    }
   ],
   "source": [
    "#your code here\n",
    "\n",
    "df = pd.read_csv('customer_data.csv')\n",
    "\n",
    "df.head(5)"
   ]
  },
  {
   "cell_type": "markdown",
   "id": "230d3aac",
   "metadata": {},
   "source": [
    "### 1.2 First, remove any rows where the entry of \"Age\" column is below 18 or above 80, and then extract two new features from `ip.address`: one called `latitude` and the other `longitude`. Use the package `geolite2` for the conversion of the IP addresses to latitude and longitude. Use [pandas.DataFrame.apply](https://pandas.pydata.org/docs/reference/api/pandas.DataFrame.apply.html) to do the conversion (in a vectorized way) in one go for each new feature. Avoid using `for` loops. At the end, drop the column `ip.address` as well as any rows with a missing value. Display the first 5 rows of the new dataframe and report its shape."
   ]
  },
  {
   "cell_type": "code",
   "execution_count": 3,
   "id": "cc0b8076",
   "metadata": {},
   "outputs": [
    {
     "name": "stdout",
     "output_type": "stream",
     "text": [
      "(34303, 8)\n"
     ]
    },
    {
     "data": {
      "text/html": [
       "<div>\n",
       "<style scoped>\n",
       "    .dataframe tbody tr th:only-of-type {\n",
       "        vertical-align: middle;\n",
       "    }\n",
       "\n",
       "    .dataframe tbody tr th {\n",
       "        vertical-align: top;\n",
       "    }\n",
       "\n",
       "    .dataframe thead th {\n",
       "        text-align: right;\n",
       "    }\n",
       "</style>\n",
       "<table border=\"1\" class=\"dataframe\">\n",
       "  <thead>\n",
       "    <tr style=\"text-align: right;\">\n",
       "      <th></th>\n",
       "      <th>full.name</th>\n",
       "      <th>region</th>\n",
       "      <th>in.store</th>\n",
       "      <th>age</th>\n",
       "      <th>items</th>\n",
       "      <th>amount</th>\n",
       "      <th>longitude</th>\n",
       "      <th>latitude</th>\n",
       "    </tr>\n",
       "  </thead>\n",
       "  <tbody>\n",
       "    <tr>\n",
       "      <th>2</th>\n",
       "      <td>Tressa Ratke</td>\n",
       "      <td>4</td>\n",
       "      <td>1</td>\n",
       "      <td>45</td>\n",
       "      <td>3</td>\n",
       "      <td>1525.70</td>\n",
       "      <td>-71.3498</td>\n",
       "      <td>42.5879</td>\n",
       "    </tr>\n",
       "    <tr>\n",
       "      <th>4</th>\n",
       "      <td>Theresa Davis</td>\n",
       "      <td>1</td>\n",
       "      <td>1</td>\n",
       "      <td>33</td>\n",
       "      <td>4</td>\n",
       "      <td>1937.50</td>\n",
       "      <td>103.8558</td>\n",
       "      <td>1.2931</td>\n",
       "    </tr>\n",
       "    <tr>\n",
       "      <th>7</th>\n",
       "      <td>Keitha Mosciski</td>\n",
       "      <td>3</td>\n",
       "      <td>1</td>\n",
       "      <td>66</td>\n",
       "      <td>5</td>\n",
       "      <td>819.98</td>\n",
       "      <td>-82.9378</td>\n",
       "      <td>40.0842</td>\n",
       "    </tr>\n",
       "    <tr>\n",
       "      <th>8</th>\n",
       "      <td>Hortense Streich</td>\n",
       "      <td>1</td>\n",
       "      <td>1</td>\n",
       "      <td>51</td>\n",
       "      <td>5</td>\n",
       "      <td>908.31</td>\n",
       "      <td>-97.8220</td>\n",
       "      <td>37.7510</td>\n",
       "    </tr>\n",
       "    <tr>\n",
       "      <th>9</th>\n",
       "      <td>Carl Price</td>\n",
       "      <td>1</td>\n",
       "      <td>1</td>\n",
       "      <td>47</td>\n",
       "      <td>3</td>\n",
       "      <td>767.54</td>\n",
       "      <td>-87.3274</td>\n",
       "      <td>41.3969</td>\n",
       "    </tr>\n",
       "  </tbody>\n",
       "</table>\n",
       "</div>"
      ],
      "text/plain": [
       "          full.name  region  in.store  age  items   amount  longitude  \\\n",
       "2      Tressa Ratke       4         1   45      3  1525.70   -71.3498   \n",
       "4     Theresa Davis       1         1   33      4  1937.50   103.8558   \n",
       "7   Keitha Mosciski       3         1   66      5   819.98   -82.9378   \n",
       "8  Hortense Streich       1         1   51      5   908.31   -97.8220   \n",
       "9        Carl Price       1         1   47      3   767.54   -87.3274   \n",
       "\n",
       "   latitude  \n",
       "2   42.5879  \n",
       "4    1.2931  \n",
       "7   40.0842  \n",
       "8   37.7510  \n",
       "9   41.3969  "
      ]
     },
     "execution_count": 3,
     "metadata": {},
     "output_type": "execute_result"
    }
   ],
   "source": [
    "#your code here\n",
    "\n",
    "df = df[(df['age'] >= 18) | (df['age'] <= 80)]\n",
    "\n",
    "def get_lat(address):\n",
    "    reader = geolite2.reader()\n",
    "    \n",
    "    try:\n",
    "        if str(address) != \"nan\":\n",
    "            response = reader.get(str(address))\n",
    "        else:\n",
    "            return None\n",
    "        if response and response['location']:\n",
    "            return response['location']['latitude']\n",
    "    except Exception as e:\n",
    "        return None\n",
    "    return None\n",
    "\n",
    "    reader.close()\n",
    "    \n",
    "def get_long(address):\n",
    "    reader = geolite2.reader()\n",
    "    \n",
    "    try:\n",
    "        if str(address) != \"nan\":\n",
    "            response = reader.get(str(address))\n",
    "        else:\n",
    "            return None\n",
    "        if response and response['location']:\n",
    "            return response['location']['longitude']\n",
    "    except Exception as e:\n",
    "        return None\n",
    "    return None\n",
    "\n",
    "    reader.close()\n",
    "    \n",
    "\n",
    "df['longitude'] = df['ip.address'].apply(get_long)\n",
    "df['latitude'] = df['ip.address'].apply(get_lat)\n",
    "\n",
    "df = df.drop(['ip.address'], axis=1)\n",
    "\n",
    "df = df.dropna(axis=0)\n",
    "\n",
    "print(df.shape)\n",
    "\n",
    "df.head(5)"
   ]
  },
  {
   "cell_type": "markdown",
   "id": "d08a7f1d",
   "metadata": {},
   "source": [
    "### 1.3 Perform one-hot encoding on the `region` column using pd.get_dummies(). Display the first 5 rows of the encoded dataframe."
   ]
  },
  {
   "cell_type": "code",
   "execution_count": 4,
   "id": "f7cae6d0",
   "metadata": {},
   "outputs": [
    {
     "data": {
      "text/html": [
       "<div>\n",
       "<style scoped>\n",
       "    .dataframe tbody tr th:only-of-type {\n",
       "        vertical-align: middle;\n",
       "    }\n",
       "\n",
       "    .dataframe tbody tr th {\n",
       "        vertical-align: top;\n",
       "    }\n",
       "\n",
       "    .dataframe thead th {\n",
       "        text-align: right;\n",
       "    }\n",
       "</style>\n",
       "<table border=\"1\" class=\"dataframe\">\n",
       "  <thead>\n",
       "    <tr style=\"text-align: right;\">\n",
       "      <th></th>\n",
       "      <th>full.name</th>\n",
       "      <th>in.store</th>\n",
       "      <th>age</th>\n",
       "      <th>items</th>\n",
       "      <th>amount</th>\n",
       "      <th>longitude</th>\n",
       "      <th>latitude</th>\n",
       "      <th>region_1</th>\n",
       "      <th>region_3</th>\n",
       "      <th>region_4</th>\n",
       "    </tr>\n",
       "  </thead>\n",
       "  <tbody>\n",
       "    <tr>\n",
       "      <th>2</th>\n",
       "      <td>Tressa Ratke</td>\n",
       "      <td>1</td>\n",
       "      <td>45</td>\n",
       "      <td>3</td>\n",
       "      <td>1525.70</td>\n",
       "      <td>-71.3498</td>\n",
       "      <td>42.5879</td>\n",
       "      <td>0.0</td>\n",
       "      <td>0.0</td>\n",
       "      <td>1.0</td>\n",
       "    </tr>\n",
       "    <tr>\n",
       "      <th>4</th>\n",
       "      <td>Theresa Davis</td>\n",
       "      <td>1</td>\n",
       "      <td>33</td>\n",
       "      <td>4</td>\n",
       "      <td>1937.50</td>\n",
       "      <td>103.8558</td>\n",
       "      <td>1.2931</td>\n",
       "      <td>1.0</td>\n",
       "      <td>0.0</td>\n",
       "      <td>0.0</td>\n",
       "    </tr>\n",
       "    <tr>\n",
       "      <th>7</th>\n",
       "      <td>Keitha Mosciski</td>\n",
       "      <td>1</td>\n",
       "      <td>66</td>\n",
       "      <td>5</td>\n",
       "      <td>819.98</td>\n",
       "      <td>-82.9378</td>\n",
       "      <td>40.0842</td>\n",
       "      <td>0.0</td>\n",
       "      <td>1.0</td>\n",
       "      <td>0.0</td>\n",
       "    </tr>\n",
       "    <tr>\n",
       "      <th>8</th>\n",
       "      <td>Hortense Streich</td>\n",
       "      <td>1</td>\n",
       "      <td>51</td>\n",
       "      <td>5</td>\n",
       "      <td>908.31</td>\n",
       "      <td>-97.8220</td>\n",
       "      <td>37.7510</td>\n",
       "      <td>1.0</td>\n",
       "      <td>0.0</td>\n",
       "      <td>0.0</td>\n",
       "    </tr>\n",
       "    <tr>\n",
       "      <th>9</th>\n",
       "      <td>Carl Price</td>\n",
       "      <td>1</td>\n",
       "      <td>47</td>\n",
       "      <td>3</td>\n",
       "      <td>767.54</td>\n",
       "      <td>-87.3274</td>\n",
       "      <td>41.3969</td>\n",
       "      <td>1.0</td>\n",
       "      <td>0.0</td>\n",
       "      <td>0.0</td>\n",
       "    </tr>\n",
       "  </tbody>\n",
       "</table>\n",
       "</div>"
      ],
      "text/plain": [
       "          full.name  in.store  age  items   amount  longitude  latitude  \\\n",
       "2      Tressa Ratke         1   45      3  1525.70   -71.3498   42.5879   \n",
       "4     Theresa Davis         1   33      4  1937.50   103.8558    1.2931   \n",
       "7   Keitha Mosciski         1   66      5   819.98   -82.9378   40.0842   \n",
       "8  Hortense Streich         1   51      5   908.31   -97.8220   37.7510   \n",
       "9        Carl Price         1   47      3   767.54   -87.3274   41.3969   \n",
       "\n",
       "   region_1  region_3  region_4  \n",
       "2       0.0       0.0       1.0  \n",
       "4       1.0       0.0       0.0  \n",
       "7       0.0       1.0       0.0  \n",
       "8       1.0       0.0       0.0  \n",
       "9       1.0       0.0       0.0  "
      ]
     },
     "execution_count": 4,
     "metadata": {},
     "output_type": "execute_result"
    }
   ],
   "source": [
    "#your code here\n",
    "\n",
    "one_hot = pd.get_dummies(df['region'], prefix=\"region\", dtype=float)\n",
    "\n",
    "df = df.drop(['region'], axis=1)\n",
    "\n",
    "df = pd.concat([df, one_hot], axis=1)\n",
    "\n",
    "df.head(5)"
   ]
  },
  {
   "cell_type": "markdown",
   "id": "e161881e",
   "metadata": {},
   "source": [
    "### 1.4 Calculate the natural logarithm of the column reporting clients' total amount spent and store it as a new column `log_amount`. Create your design matrix `X` and target vector `y` with `log_amount` as target (No training/test splitting yet).\n",
    "\n"
   ]
  },
  {
   "cell_type": "code",
   "execution_count": 5,
   "id": "a06992d0",
   "metadata": {},
   "outputs": [],
   "source": [
    "#your code here\n",
    "\n",
    "y = np.log(df['amount'])\n",
    "\n",
    "X = np.c_[np.ones(len(df['amount'])), df.iloc[:,-8:].drop(['amount'], axis=1)] # Prepend column of ones"
   ]
  },
  {
   "cell_type": "markdown",
   "id": "c8ba9bf0",
   "metadata": {},
   "source": [
    "### 1.5 Build a new design matrix by applying polynomial expansion using `PolynomialFeatures()` on `X` with degree=2. Do not include the column with power 0 (*i.e.*, the column with all elements being 1) and make sure to not set the argument `interaction_only` to `True`.\n"
   ]
  },
  {
   "cell_type": "code",
   "execution_count": 6,
   "id": "cc1b1e18",
   "metadata": {},
   "outputs": [],
   "source": [
    "#your code here\n",
    "\n",
    "poly = PolynomialFeatures(2, include_bias=False)\n",
    "\n",
    "X = poly.fit_transform(X[:, 1:])"
   ]
  },
  {
   "cell_type": "markdown",
   "id": "489a1499",
   "metadata": {},
   "source": [
    "\n",
    "### 1.6 Standardize your design matrix from Question 1.5 using `StandardScaler()`, and store the result as a Pandas dataframe."
   ]
  },
  {
   "cell_type": "code",
   "execution_count": 7,
   "id": "0838eebc",
   "metadata": {},
   "outputs": [
    {
     "data": {
      "text/html": [
       "<div>\n",
       "<style scoped>\n",
       "    .dataframe tbody tr th:only-of-type {\n",
       "        vertical-align: middle;\n",
       "    }\n",
       "\n",
       "    .dataframe tbody tr th {\n",
       "        vertical-align: top;\n",
       "    }\n",
       "\n",
       "    .dataframe thead th {\n",
       "        text-align: right;\n",
       "    }\n",
       "</style>\n",
       "<table border=\"1\" class=\"dataframe\">\n",
       "  <thead>\n",
       "    <tr style=\"text-align: right;\">\n",
       "      <th></th>\n",
       "      <th>0</th>\n",
       "      <th>1</th>\n",
       "      <th>2</th>\n",
       "      <th>3</th>\n",
       "      <th>4</th>\n",
       "      <th>5</th>\n",
       "      <th>6</th>\n",
       "      <th>7</th>\n",
       "      <th>8</th>\n",
       "      <th>9</th>\n",
       "      <th>...</th>\n",
       "      <th>25</th>\n",
       "      <th>26</th>\n",
       "      <th>27</th>\n",
       "      <th>28</th>\n",
       "      <th>29</th>\n",
       "      <th>30</th>\n",
       "      <th>31</th>\n",
       "      <th>32</th>\n",
       "      <th>33</th>\n",
       "      <th>34</th>\n",
       "    </tr>\n",
       "  </thead>\n",
       "  <tbody>\n",
       "    <tr>\n",
       "      <th>0</th>\n",
       "      <td>0.145816</td>\n",
       "      <td>-0.725372</td>\n",
       "      <td>-0.647114</td>\n",
       "      <td>0.444623</td>\n",
       "      <td>-0.813663</td>\n",
       "      <td>-0.617623</td>\n",
       "      <td>1.439381</td>\n",
       "      <td>-0.011433</td>\n",
       "      <td>-0.518434</td>\n",
       "      <td>-0.649334</td>\n",
       "      <td>...</td>\n",
       "      <td>0.405456</td>\n",
       "      <td>-0.664950</td>\n",
       "      <td>-0.525188</td>\n",
       "      <td>1.630553</td>\n",
       "      <td>-0.813663</td>\n",
       "      <td>0.0</td>\n",
       "      <td>0.0</td>\n",
       "      <td>-0.617623</td>\n",
       "      <td>0.0</td>\n",
       "      <td>1.439381</td>\n",
       "    </tr>\n",
       "    <tr>\n",
       "      <th>1</th>\n",
       "      <td>-0.718845</td>\n",
       "      <td>-0.240069</td>\n",
       "      <td>1.307583</td>\n",
       "      <td>-1.770476</td>\n",
       "      <td>1.229010</td>\n",
       "      <td>-0.617623</td>\n",
       "      <td>-0.694743</td>\n",
       "      <td>-0.745849</td>\n",
       "      <td>-0.545209</td>\n",
       "      <td>0.985281</td>\n",
       "      <td>...</td>\n",
       "      <td>-2.130086</td>\n",
       "      <td>-0.601876</td>\n",
       "      <td>-0.525188</td>\n",
       "      <td>-0.576082</td>\n",
       "      <td>1.229010</td>\n",
       "      <td>0.0</td>\n",
       "      <td>0.0</td>\n",
       "      <td>-0.617623</td>\n",
       "      <td>0.0</td>\n",
       "      <td>-0.694743</td>\n",
       "    </tr>\n",
       "    <tr>\n",
       "      <th>2</th>\n",
       "      <td>1.658972</td>\n",
       "      <td>0.245233</td>\n",
       "      <td>-0.776396</td>\n",
       "      <td>0.310322</td>\n",
       "      <td>-0.813663</td>\n",
       "      <td>1.619110</td>\n",
       "      <td>-0.694743</td>\n",
       "      <td>1.817545</td>\n",
       "      <td>1.221924</td>\n",
       "      <td>-1.206640</td>\n",
       "      <td>...</td>\n",
       "      <td>0.115829</td>\n",
       "      <td>-0.664950</td>\n",
       "      <td>1.679576</td>\n",
       "      <td>-0.576082</td>\n",
       "      <td>-0.813663</td>\n",
       "      <td>0.0</td>\n",
       "      <td>0.0</td>\n",
       "      <td>1.619110</td>\n",
       "      <td>0.0</td>\n",
       "      <td>-0.694743</td>\n",
       "    </tr>\n",
       "    <tr>\n",
       "      <th>3</th>\n",
       "      <td>0.578146</td>\n",
       "      <td>0.245233</td>\n",
       "      <td>-0.942453</td>\n",
       "      <td>0.185166</td>\n",
       "      <td>1.229010</td>\n",
       "      <td>-0.617623</td>\n",
       "      <td>-0.694743</td>\n",
       "      <td>0.440515</td>\n",
       "      <td>0.552555</td>\n",
       "      <td>-1.087215</td>\n",
       "      <td>...</td>\n",
       "      <td>-0.138285</td>\n",
       "      <td>1.176434</td>\n",
       "      <td>-0.525188</td>\n",
       "      <td>-0.576082</td>\n",
       "      <td>1.229010</td>\n",
       "      <td>0.0</td>\n",
       "      <td>0.0</td>\n",
       "      <td>-0.617623</td>\n",
       "      <td>0.0</td>\n",
       "      <td>-0.694743</td>\n",
       "    </tr>\n",
       "    <tr>\n",
       "      <th>4</th>\n",
       "      <td>0.289926</td>\n",
       "      <td>-0.725372</td>\n",
       "      <td>-0.825369</td>\n",
       "      <td>0.380736</td>\n",
       "      <td>1.229010</td>\n",
       "      <td>-0.617623</td>\n",
       "      <td>-0.694743</td>\n",
       "      <td>0.132939</td>\n",
       "      <td>-0.464884</td>\n",
       "      <td>-0.869397</td>\n",
       "      <td>...</td>\n",
       "      <td>0.265494</td>\n",
       "      <td>1.354271</td>\n",
       "      <td>-0.525188</td>\n",
       "      <td>-0.576082</td>\n",
       "      <td>1.229010</td>\n",
       "      <td>0.0</td>\n",
       "      <td>0.0</td>\n",
       "      <td>-0.617623</td>\n",
       "      <td>0.0</td>\n",
       "      <td>-0.694743</td>\n",
       "    </tr>\n",
       "    <tr>\n",
       "      <th>...</th>\n",
       "      <td>...</td>\n",
       "      <td>...</td>\n",
       "      <td>...</td>\n",
       "      <td>...</td>\n",
       "      <td>...</td>\n",
       "      <td>...</td>\n",
       "      <td>...</td>\n",
       "      <td>...</td>\n",
       "      <td>...</td>\n",
       "      <td>...</td>\n",
       "      <td>...</td>\n",
       "      <td>...</td>\n",
       "      <td>...</td>\n",
       "      <td>...</td>\n",
       "      <td>...</td>\n",
       "      <td>...</td>\n",
       "      <td>...</td>\n",
       "      <td>...</td>\n",
       "      <td>...</td>\n",
       "      <td>...</td>\n",
       "      <td>...</td>\n",
       "    </tr>\n",
       "    <tr>\n",
       "      <th>34298</th>\n",
       "      <td>0.001706</td>\n",
       "      <td>1.701141</td>\n",
       "      <td>-0.774250</td>\n",
       "      <td>-0.337422</td>\n",
       "      <td>-0.813663</td>\n",
       "      <td>-0.617623</td>\n",
       "      <td>1.439381</td>\n",
       "      <td>-0.149528</td>\n",
       "      <td>1.346872</td>\n",
       "      <td>-0.734860</td>\n",
       "      <td>...</td>\n",
       "      <td>-1.034723</td>\n",
       "      <td>-0.664950</td>\n",
       "      <td>-0.525188</td>\n",
       "      <td>0.875151</td>\n",
       "      <td>-0.813663</td>\n",
       "      <td>0.0</td>\n",
       "      <td>0.0</td>\n",
       "      <td>-0.617623</td>\n",
       "      <td>0.0</td>\n",
       "      <td>1.439381</td>\n",
       "    </tr>\n",
       "    <tr>\n",
       "      <th>34299</th>\n",
       "      <td>0.289926</td>\n",
       "      <td>-0.725372</td>\n",
       "      <td>0.331503</td>\n",
       "      <td>0.745662</td>\n",
       "      <td>-0.813663</td>\n",
       "      <td>1.619110</td>\n",
       "      <td>-0.694743</td>\n",
       "      <td>0.132939</td>\n",
       "      <td>-0.464884</td>\n",
       "      <td>0.330742</td>\n",
       "      <td>...</td>\n",
       "      <td>1.118395</td>\n",
       "      <td>-0.664950</td>\n",
       "      <td>2.125972</td>\n",
       "      <td>-0.576082</td>\n",
       "      <td>-0.813663</td>\n",
       "      <td>0.0</td>\n",
       "      <td>0.0</td>\n",
       "      <td>1.619110</td>\n",
       "      <td>0.0</td>\n",
       "      <td>-0.694743</td>\n",
       "    </tr>\n",
       "    <tr>\n",
       "      <th>34300</th>\n",
       "      <td>2.019248</td>\n",
       "      <td>-0.725372</td>\n",
       "      <td>-1.213252</td>\n",
       "      <td>0.161199</td>\n",
       "      <td>1.229010</td>\n",
       "      <td>-0.617623</td>\n",
       "      <td>-0.694743</td>\n",
       "      <td>2.355019</td>\n",
       "      <td>0.177709</td>\n",
       "      <td>-1.993371</td>\n",
       "      <td>...</td>\n",
       "      <td>-0.185208</td>\n",
       "      <td>1.154641</td>\n",
       "      <td>-0.525188</td>\n",
       "      <td>-0.576082</td>\n",
       "      <td>1.229010</td>\n",
       "      <td>0.0</td>\n",
       "      <td>0.0</td>\n",
       "      <td>-0.617623</td>\n",
       "      <td>0.0</td>\n",
       "      <td>-0.694743</td>\n",
       "    </tr>\n",
       "    <tr>\n",
       "      <th>34301</th>\n",
       "      <td>0.434036</td>\n",
       "      <td>-0.240069</td>\n",
       "      <td>-0.694278</td>\n",
       "      <td>0.593043</td>\n",
       "      <td>1.229010</td>\n",
       "      <td>-0.617623</td>\n",
       "      <td>-0.694743</td>\n",
       "      <td>0.283589</td>\n",
       "      <td>0.025986</td>\n",
       "      <td>-0.770625</td>\n",
       "      <td>...</td>\n",
       "      <td>0.745937</td>\n",
       "      <td>1.547326</td>\n",
       "      <td>-0.525188</td>\n",
       "      <td>-0.576082</td>\n",
       "      <td>1.229010</td>\n",
       "      <td>0.0</td>\n",
       "      <td>0.0</td>\n",
       "      <td>-0.617623</td>\n",
       "      <td>0.0</td>\n",
       "      <td>-0.694743</td>\n",
       "    </tr>\n",
       "    <tr>\n",
       "      <th>34302</th>\n",
       "      <td>-0.935010</td>\n",
       "      <td>-1.695977</td>\n",
       "      <td>1.096931</td>\n",
       "      <td>1.190760</td>\n",
       "      <td>-0.813663</td>\n",
       "      <td>1.619110</td>\n",
       "      <td>-0.694743</td>\n",
       "      <td>-0.894145</td>\n",
       "      <td>-1.455550</td>\n",
       "      <td>0.769070</td>\n",
       "      <td>...</td>\n",
       "      <td>2.334004</td>\n",
       "      <td>-0.664950</td>\n",
       "      <td>2.582373</td>\n",
       "      <td>-0.576082</td>\n",
       "      <td>-0.813663</td>\n",
       "      <td>0.0</td>\n",
       "      <td>0.0</td>\n",
       "      <td>1.619110</td>\n",
       "      <td>0.0</td>\n",
       "      <td>-0.694743</td>\n",
       "    </tr>\n",
       "  </tbody>\n",
       "</table>\n",
       "<p>34303 rows × 35 columns</p>\n",
       "</div>"
      ],
      "text/plain": [
       "             0         1         2         3         4         5         6   \\\n",
       "0      0.145816 -0.725372 -0.647114  0.444623 -0.813663 -0.617623  1.439381   \n",
       "1     -0.718845 -0.240069  1.307583 -1.770476  1.229010 -0.617623 -0.694743   \n",
       "2      1.658972  0.245233 -0.776396  0.310322 -0.813663  1.619110 -0.694743   \n",
       "3      0.578146  0.245233 -0.942453  0.185166  1.229010 -0.617623 -0.694743   \n",
       "4      0.289926 -0.725372 -0.825369  0.380736  1.229010 -0.617623 -0.694743   \n",
       "...         ...       ...       ...       ...       ...       ...       ...   \n",
       "34298  0.001706  1.701141 -0.774250 -0.337422 -0.813663 -0.617623  1.439381   \n",
       "34299  0.289926 -0.725372  0.331503  0.745662 -0.813663  1.619110 -0.694743   \n",
       "34300  2.019248 -0.725372 -1.213252  0.161199  1.229010 -0.617623 -0.694743   \n",
       "34301  0.434036 -0.240069 -0.694278  0.593043  1.229010 -0.617623 -0.694743   \n",
       "34302 -0.935010 -1.695977  1.096931  1.190760 -0.813663  1.619110 -0.694743   \n",
       "\n",
       "             7         8         9   ...        25        26        27  \\\n",
       "0     -0.011433 -0.518434 -0.649334  ...  0.405456 -0.664950 -0.525188   \n",
       "1     -0.745849 -0.545209  0.985281  ... -2.130086 -0.601876 -0.525188   \n",
       "2      1.817545  1.221924 -1.206640  ...  0.115829 -0.664950  1.679576   \n",
       "3      0.440515  0.552555 -1.087215  ... -0.138285  1.176434 -0.525188   \n",
       "4      0.132939 -0.464884 -0.869397  ...  0.265494  1.354271 -0.525188   \n",
       "...         ...       ...       ...  ...       ...       ...       ...   \n",
       "34298 -0.149528  1.346872 -0.734860  ... -1.034723 -0.664950 -0.525188   \n",
       "34299  0.132939 -0.464884  0.330742  ...  1.118395 -0.664950  2.125972   \n",
       "34300  2.355019  0.177709 -1.993371  ... -0.185208  1.154641 -0.525188   \n",
       "34301  0.283589  0.025986 -0.770625  ...  0.745937  1.547326 -0.525188   \n",
       "34302 -0.894145 -1.455550  0.769070  ...  2.334004 -0.664950  2.582373   \n",
       "\n",
       "             28        29   30   31        32   33        34  \n",
       "0      1.630553 -0.813663  0.0  0.0 -0.617623  0.0  1.439381  \n",
       "1     -0.576082  1.229010  0.0  0.0 -0.617623  0.0 -0.694743  \n",
       "2     -0.576082 -0.813663  0.0  0.0  1.619110  0.0 -0.694743  \n",
       "3     -0.576082  1.229010  0.0  0.0 -0.617623  0.0 -0.694743  \n",
       "4     -0.576082  1.229010  0.0  0.0 -0.617623  0.0 -0.694743  \n",
       "...         ...       ...  ...  ...       ...  ...       ...  \n",
       "34298  0.875151 -0.813663  0.0  0.0 -0.617623  0.0  1.439381  \n",
       "34299 -0.576082 -0.813663  0.0  0.0  1.619110  0.0 -0.694743  \n",
       "34300 -0.576082  1.229010  0.0  0.0 -0.617623  0.0 -0.694743  \n",
       "34301 -0.576082  1.229010  0.0  0.0 -0.617623  0.0 -0.694743  \n",
       "34302 -0.576082 -0.813663  0.0  0.0  1.619110  0.0 -0.694743  \n",
       "\n",
       "[34303 rows x 35 columns]"
      ]
     },
     "execution_count": 7,
     "metadata": {},
     "output_type": "execute_result"
    }
   ],
   "source": [
    "#your code here\n",
    "\n",
    "scaler = StandardScaler()\n",
    "\n",
    "scaler.fit(X)\n",
    "\n",
    "X = scaler.transform(X)\n",
    "\n",
    "X = pd.DataFrame(X)\n",
    "\n",
    "X"
   ]
  },
  {
   "cell_type": "markdown",
   "id": "2821829e",
   "metadata": {},
   "source": [
    "## Question 2: /7 pts\n",
    "\n"
   ]
  },
  {
   "cell_type": "markdown",
   "id": "065a772c",
   "metadata": {},
   "source": [
    "### 2.1 Split the data into training and test sets. Hold out 30% of observations as the test set. How many observations are in your training dataset? What is the average value of the target variable in the training dataset (rounded to 2 decimal places)?"
   ]
  },
  {
   "cell_type": "code",
   "execution_count": 8,
   "id": "dfe16088",
   "metadata": {},
   "outputs": [
    {
     "name": "stdout",
     "output_type": "stream",
     "text": [
      "The average value of y in the training set is 6.38\n"
     ]
    }
   ],
   "source": [
    "#your code here\n",
    "\n",
    "Xtrain, Xtest, ytrain, ytest = train_test_split(X, y, test_size = 0.30, random_state=seed)\n",
    "\n",
    "print(f\"The average value of y in the training set is {np.round(np.mean(ytrain), 2)}\")"
   ]
  },
  {
   "cell_type": "markdown",
   "id": "16e97106",
   "metadata": {},
   "source": [
    "## Question 3: /23 pts\n",
    "\n"
   ]
  },
  {
   "cell_type": "markdown",
   "id": "84e1e843",
   "metadata": {},
   "source": [
    "### 3.1 Create a SciKit Learn `Ridge` regression object. Train it on the training data using an `alpha` of $4.0$ and do fit the intercept."
   ]
  },
  {
   "cell_type": "code",
   "execution_count": 9,
   "id": "b7aa3cad",
   "metadata": {},
   "outputs": [
    {
     "data": {
      "text/plain": [
       "array([ 0.04853065,  0.00350148, -0.00271102,  0.01591546,  0.05507312,\n",
       "       -0.10897176,  0.04643398, -0.09620482, -0.01567528,  0.0022004 ,\n",
       "       -0.01652883, -0.12747245,  0.11080109,  0.05806019,  0.01030294,\n",
       "        0.008433  , -0.00719024, -0.00218787, -0.00229849,  0.00749   ,\n",
       "       -0.00437234,  0.01012148,  0.00118396,  0.00013818, -0.00616092,\n",
       "        0.00143915,  0.01557357, -0.00164825,  0.00038283,  0.05507312,\n",
       "        0.        ,  0.        , -0.10897176,  0.        ,  0.04643398])"
      ]
     },
     "execution_count": 9,
     "metadata": {},
     "output_type": "execute_result"
    }
   ],
   "source": [
    "#your code here\n",
    "\n",
    "ridge_reg_1 = skl.Ridge(alpha=4.0)\n",
    "\n",
    "ridge_reg_1.fit(Xtrain, ytrain)\n",
    "\n",
    "ridge_reg_1.coef_"
   ]
  },
  {
   "cell_type": "markdown",
   "id": "afc897ff",
   "metadata": {},
   "source": [
    "### 3.2 Now use `RidgeCV` to find the best `alpha` for the penalty term through a 5-fold cross-validation. As input for `alpha`, your code must try integer values from 30 to 50 inclusive. Report the `alpha` that yields the smallest loss."
   ]
  },
  {
   "cell_type": "code",
   "execution_count": 10,
   "id": "83c84bc3",
   "metadata": {},
   "outputs": [
    {
     "data": {
      "text/plain": [
       "50"
      ]
     },
     "execution_count": 10,
     "metadata": {},
     "output_type": "execute_result"
    }
   ],
   "source": [
    "#your code here\n",
    "\n",
    "fitted = skl.RidgeCV(alphas=np.arange(30,51, step=1), cv=5).fit(Xtrain,ytrain)\n",
    "\n",
    "alpha_best = fitted.alpha_\n",
    "\n",
    "alpha_best"
   ]
  },
  {
   "cell_type": "markdown",
   "id": "c0a89b5d",
   "metadata": {},
   "source": [
    "### 3.3 Fit a `Ridge` regression on the training data with the best `alpha` found in the previous question."
   ]
  },
  {
   "cell_type": "code",
   "execution_count": 11,
   "id": "16da9e9f",
   "metadata": {},
   "outputs": [
    {
     "data": {
      "text/plain": [
       "array([ 0.03469063,  0.00259596, -0.00264884,  0.0146075 ,  0.05381461,\n",
       "       -0.10566668,  0.04459537, -0.08225474, -0.0141505 ,  0.00226942,\n",
       "       -0.01475192, -0.12815087,  0.10252368,  0.05888827,  0.01000445,\n",
       "        0.00831051, -0.00690754, -0.00210799, -0.0034289 ,  0.00769826,\n",
       "       -0.00437187,  0.01001524,  0.00121814,  0.00014201, -0.00609399,\n",
       "        0.00143636,  0.01530784, -0.00277498,  0.0004631 ,  0.05381461,\n",
       "        0.        ,  0.        , -0.10566668,  0.        ,  0.04459537])"
      ]
     },
     "execution_count": 11,
     "metadata": {},
     "output_type": "execute_result"
    }
   ],
   "source": [
    "#your code here\n",
    "\n",
    "ridge_reg_2 = skl.Ridge(alpha=alpha_best)\n",
    "\n",
    "ridge_reg_2.fit(Xtrain, ytrain)\n",
    "\n",
    "ridge_reg_2.coef_"
   ]
  },
  {
   "cell_type": "markdown",
   "id": "c9db12d9",
   "metadata": {},
   "source": [
    "### 3.4 Fit a simple `LinearRegression` without any penalty using the training data (again, `fit_intercept=True`). Compare the regression coefficients obtained in questions 3.1, 3.3 and 3.4. How do they compare?"
   ]
  },
  {
   "cell_type": "code",
   "execution_count": 12,
   "id": "b37a30c3",
   "metadata": {},
   "outputs": [
    {
     "data": {
      "text/plain": [
       "array([ 1.03661438e+10,  1.32101601e+12, -2.18891068e+12,  1.24049537e+12,\n",
       "        6.12154786e+10,  1.25506466e+12, -1.78011613e+12, -9.85112059e-02,\n",
       "       -1.80342614e-02, -1.55506334e-03, -1.80879530e-02, -1.73115103e+10,\n",
       "       -1.72831101e+10, -1.36897406e+10,  9.99417305e-03,  9.44146215e-03,\n",
       "       -6.42068995e-03, -1.64284203e+12, -1.45896618e+12, -1.54516065e+12,\n",
       "       -4.80427448e-03,  1.02070072e-02,  1.39143220e+12,  1.16014133e+12,\n",
       "        1.25661361e+12,  9.47082278e-04, -1.36419679e+12, -1.20977368e+12,\n",
       "       -1.28424750e+12,  1.96858740e+12,  0.00000000e+00,  0.00000000e+00,\n",
       "        5.98631551e+11,  0.00000000e+00,  3.72293811e+12])"
      ]
     },
     "execution_count": 12,
     "metadata": {},
     "output_type": "execute_result"
    }
   ],
   "source": [
    "#your code here\n",
    "\n",
    "lin_reg = skl.LinearRegression(fit_intercept=True)\n",
    "\n",
    "lin_reg.fit(Xtrain,ytrain)\n",
    "\n",
    "lin_reg.coef_"
   ]
  },
  {
   "cell_type": "markdown",
   "id": "47c04c40",
   "metadata": {},
   "source": [
    "#### YOUR ANSWER HERE\n",
    "\n",
    "The coefficients from 3.1 and 3.3 are similar, but the higher value of $\\alpha$ for 3.3 results in coefficients of smaller magnitude. We expect this, since in ridge regression, higher $\\alpha$ yields smaller coefficient magnitudes. For 3.4, the linear regression coefficients are vastly different than 3.1 or 3.3. This is expected - ridge regression is very different."
   ]
  },
  {
   "cell_type": "markdown",
   "id": "600cf777",
   "metadata": {},
   "source": [
    "\n",
    "### 3.5 Use your trained linear regression models in Q3.3 and Q3.4 to predict over the test set and print the median of their perdictions."
   ]
  },
  {
   "cell_type": "code",
   "execution_count": 13,
   "id": "538d0546",
   "metadata": {},
   "outputs": [
    {
     "name": "stdout",
     "output_type": "stream",
     "text": [
      "Median for model in 3.3 is 6.388276043078835\n",
      "Median for model in 3.4 is 6.385960634391146\n"
     ]
    }
   ],
   "source": [
    "#your code here\n",
    "\n",
    "pred_1 = ridge_reg_1.predict(Xtest)\n",
    "\n",
    "pred_2 = ridge_reg_2.predict(Xtest)\n",
    "\n",
    "print(f\"Median for model in 3.3 is {np.median(pred_1)}\")\n",
    "print(f\"Median for model in 3.4 is {np.median(pred_2)}\")"
   ]
  },
  {
   "cell_type": "markdown",
   "id": "58a650cb",
   "metadata": {},
   "source": [
    "## Question 4: /25 pts\n",
    "\n"
   ]
  },
  {
   "cell_type": "markdown",
   "id": "4e235cb4",
   "metadata": {},
   "source": [
    "### 4.1 Fit a Lasso regression to the train dataset using lasso_path(). Show the full path of the first 20 coefficients of the Lasso regression. Include eps=8e-3 and n_alphas=50. Describe the trends you see in the figure."
   ]
  },
  {
   "cell_type": "code",
   "execution_count": 21,
   "id": "4bd44ee6",
   "metadata": {},
   "outputs": [
    {
     "data": {
      "image/png": "[encoded data removed]",
      "text/plain": [
       "<Figure size 640x480 with 1 Axes>"
      ]
     },
     "metadata": {},
     "output_type": "display_data"
    }
   ],
   "source": [
    "#your code here\n",
    "\n",
    "eps = 8e-3\n",
    "\n",
    "lambda_lasso, coefs_lasso, _ = skl.lasso_path(Xtrain, ytrain, eps=eps, n_alphas=50, alphas= None)\n",
    "\n",
    "# From lab 6\n",
    "\n",
    "neg_log_lambda = -np.log(lambda_lasso)\n",
    "for i in range(20):\n",
    "    l1 = plt.plot(neg_log_lambda, coefs_lasso[i,])\n",
    "\n",
    "plt.xlabel('Neg. Log. Lambda')\n",
    "plt.ylabel('Coef.')\n",
    "\n",
    "plt.show()"
   ]
  },
  {
   "cell_type": "markdown",
   "id": "7c76235e",
   "metadata": {},
   "source": [
    "**Trends:** I notice that most of the 20 coefficients are centered around zero. Six of them, however, deviate from 0 in what appears to be a logarithmic pattern as the negative log of lambda increases. At extreme values of lambda, most of the coefficients begin to deviate from 0."
   ]
  },
  {
   "cell_type": "markdown",
   "id": "d6f68d84",
   "metadata": {},
   "source": [
    "### 4.2 Use Scikit Learn's cross-validated LASSO to automatically search for the best alpha of the LASSO regression on the training set with intercept. Include arguments `eps=8e-3`, `n_alphas=30`, `tol=0.001`, `cv=5`, and `random_state=seed`. Report the best tuning parameters and the number of coefficients that the model shrinks to zero."
   ]
  },
  {
   "cell_type": "code",
   "execution_count": 15,
   "id": "d96736cc",
   "metadata": {},
   "outputs": [
    {
     "name": "stdout",
     "output_type": "stream",
     "text": [
      "Alpha = 0.0021198085001853544\n",
      "Number of zero coefficients: 18\n"
     ]
    }
   ],
   "source": [
    "#your code here\n",
    "\n",
    "eps = 8e-3 \n",
    "\n",
    "lasso = skl.LassoCV(eps=eps, n_alphas=30, tol=0.001, cv=5, random_state=seed)\n",
    "\n",
    "lasso.fit(Xtrain, ytrain)\n",
    "\n",
    "print(f\"Alpha = {lasso.alpha_}\")\n",
    "\n",
    "\n",
    "print(f\"Number of zero coefficients: {(lasso.coef_ == 0).sum()}\")"
   ]
  },
  {
   "cell_type": "markdown",
   "id": "97093359",
   "metadata": {},
   "source": [
    "\n",
    "### 4.3 Use Scikit Learn's cross-validated ElasticNet to automatically search for the best tuning parameters of the ElasticNet regression (with intercept) on the training set. Include the same arguments as in question 4.2 as well as `l1_ratio=[0.7, 0.9, 0.95, 0.99, 1]`. Report the best tuning parameters. Is the ElasticNet regression model equivalent to the Lasso regression? Briefly describe how they defer and under what circumstances they become the same."
   ]
  },
  {
   "cell_type": "code",
   "execution_count": 16,
   "id": "e8a8d72a",
   "metadata": {},
   "outputs": [
    {
     "name": "stdout",
     "output_type": "stream",
     "text": [
      "Alpha: 0.0021198085001853544\n"
     ]
    }
   ],
   "source": [
    "#your code here\n",
    "\n",
    "ElasticNet = skl.ElasticNetCV(eps=eps, n_alphas=30, \n",
    "                              l1_ratio=[0.7, 0.9, 0.95, 0.99, 1],\n",
    "                              fit_intercept=True, \n",
    "                              tol=0.001, cv=5, \n",
    "                              random_state=seed)\n",
    "\n",
    "fitted_elastic = ElasticNet.fit(Xtrain, ytrain)\n",
    "\n",
    "print(f\"Alpha: {fitted_elastic.alpha_}\")"
   ]
  },
  {
   "cell_type": "markdown",
   "id": "a7fdd82a",
   "metadata": {},
   "source": [
    "#### YOUR ANSWER HERE\n",
    "\n",
    "ElasticNet is not equivalent to regression, as their regularization terms are different. Elastic net is a combination of ridge and lasso regression. The regularization term for lasso is\n",
    "$$\n",
    "\\alpha \\sum_i |\\theta_i|\n",
    "$$\n",
    "whereas for elastic net, it is\n",
    "$$\n",
    "r\\alpha \\sum_i |\\theta_i| + \\frac{1-r}{2} \\alpha \\sum_i \\theta_i^2\n",
    "$$\n",
    "where $r$ is some constant that we can tune. Notice how if $r = 1$, the second summand vanishes, and we are left with lasso regularization. So, the two methods are equivalent when $r = 1$. In this case, we get the same alpha, which is what happened above."
   ]
  },
  {
   "cell_type": "markdown",
   "id": "1cf52d72",
   "metadata": {},
   "source": [
    "## Question 5 : /16 pts\n",
    "\n"
   ]
  },
  {
   "cell_type": "markdown",
   "id": "9ff07cf4",
   "metadata": {},
   "source": [
    "### 5.1 Use `SequentialFeatureSelector()` to conduct forward selection for the features of the Ridge model tuned in Q 3.3. Include the argument `n_features_to_select=20`. Report the indices of the selected features."
   ]
  },
  {
   "cell_type": "code",
   "execution_count": 17,
   "id": "18a57650",
   "metadata": {},
   "outputs": [
    {
     "data": {
      "text/plain": [
       "array([ 0,  4,  5,  6,  7, 11, 12, 13, 18, 21, 22, 23, 26, 28, 29, 30, 31,\n",
       "       32, 33, 34], dtype=int64)"
      ]
     },
     "execution_count": 17,
     "metadata": {},
     "output_type": "execute_result"
    }
   ],
   "source": [
    "#your code here\n",
    "\n",
    "import sklearn.feature_selection as skf\n",
    "\n",
    "selector = skf.SequentialFeatureSelector(ridge_reg_2, n_features_to_select=20)\n",
    "\n",
    "selector.fit(Xtrain, ytrain)\n",
    "\n",
    "features = selector.get_support(indices=True)\n",
    "\n",
    "features"
   ]
  },
  {
   "cell_type": "markdown",
   "id": "dfac786b",
   "metadata": {},
   "source": [
    "### 5.2 Fit a regular `LinearRegression` (with `fit_intercept=True`) on the training set using the selected features from the previous question. Print the first 3 coefficients of your model."
   ]
  },
  {
   "cell_type": "code",
   "execution_count": 23,
   "id": "3dd0af24",
   "metadata": {},
   "outputs": [
    {
     "data": {
      "text/plain": [
       "array([ 1.91134626e+09, -7.12459266e+11,  1.89585484e+12])"
      ]
     },
     "execution_count": 23,
     "metadata": {},
     "output_type": "execute_result"
    }
   ],
   "source": [
    "#your code here\n",
    "\n",
    "lin_model = skl.LinearRegression(fit_intercept=True)\n",
    "\n",
    "X_features = Xtrain.iloc[:, features]\n",
    "\n",
    "fitted_linear = lin_model.fit(X_features, ytrain)\n",
    "\n",
    "fitted_linear.coef_[0:3]"
   ]
  },
  {
   "cell_type": "markdown",
   "id": "c49f2f7c",
   "metadata": {},
   "source": [
    "## Question 6: /9 pts\n",
    "\n"
   ]
  },
  {
   "cell_type": "markdown",
   "id": "a675e822",
   "metadata": {},
   "source": [
    "### 6.1 Make predictions on the test set using models from questions 3.3, 4.2, 4.3, and 5.2, respectively. Create a DataFrame with  predicted values obtained from the different models. Name the columns of the dataframe consistent with the names used for the models, or their question number. Display the first 5 rows of this dataframe."
   ]
  },
  {
   "cell_type": "code",
   "execution_count": 19,
   "id": "e45d5aec",
   "metadata": {},
   "outputs": [
    {
     "data": {
      "text/html": [
       "<div>\n",
       "<style scoped>\n",
       "    .dataframe tbody tr th:only-of-type {\n",
       "        vertical-align: middle;\n",
       "    }\n",
       "\n",
       "    .dataframe tbody tr th {\n",
       "        vertical-align: top;\n",
       "    }\n",
       "\n",
       "    .dataframe thead th {\n",
       "        text-align: right;\n",
       "    }\n",
       "</style>\n",
       "<table border=\"1\" class=\"dataframe\">\n",
       "  <thead>\n",
       "    <tr style=\"text-align: right;\">\n",
       "      <th></th>\n",
       "      <th>Q3.3</th>\n",
       "      <th>Q4.2</th>\n",
       "      <th>Q4.3</th>\n",
       "      <th>Q5.2</th>\n",
       "    </tr>\n",
       "  </thead>\n",
       "  <tbody>\n",
       "    <tr>\n",
       "      <th>0</th>\n",
       "      <td>6.047970</td>\n",
       "      <td>6.042602</td>\n",
       "      <td>6.042602</td>\n",
       "      <td>6.058193</td>\n",
       "    </tr>\n",
       "    <tr>\n",
       "      <th>1</th>\n",
       "      <td>5.984667</td>\n",
       "      <td>6.053623</td>\n",
       "      <td>6.053623</td>\n",
       "      <td>5.999722</td>\n",
       "    </tr>\n",
       "    <tr>\n",
       "      <th>2</th>\n",
       "      <td>6.041308</td>\n",
       "      <td>6.027860</td>\n",
       "      <td>6.027860</td>\n",
       "      <td>6.023525</td>\n",
       "    </tr>\n",
       "    <tr>\n",
       "      <th>3</th>\n",
       "      <td>6.067524</td>\n",
       "      <td>6.053719</td>\n",
       "      <td>6.053719</td>\n",
       "      <td>6.070889</td>\n",
       "    </tr>\n",
       "    <tr>\n",
       "      <th>4</th>\n",
       "      <td>6.346219</td>\n",
       "      <td>6.314045</td>\n",
       "      <td>6.314045</td>\n",
       "      <td>6.330410</td>\n",
       "    </tr>\n",
       "  </tbody>\n",
       "</table>\n",
       "</div>"
      ],
      "text/plain": [
       "       Q3.3      Q4.2      Q4.3      Q5.2\n",
       "0  6.047970  6.042602  6.042602  6.058193\n",
       "1  5.984667  6.053623  6.053623  5.999722\n",
       "2  6.041308  6.027860  6.027860  6.023525\n",
       "3  6.067524  6.053719  6.053719  6.070889\n",
       "4  6.346219  6.314045  6.314045  6.330410"
      ]
     },
     "execution_count": 19,
     "metadata": {},
     "output_type": "execute_result"
    }
   ],
   "source": [
    "#your code here\n",
    "\n",
    "pred_33 = ridge_reg_2.predict(Xtest)\n",
    "\n",
    "pred_42 = lasso.predict(Xtest)\n",
    "\n",
    "pred_43 = ElasticNet.predict(Xtest)\n",
    "\n",
    "pred_52 = fitted_linear.predict(Xtest.iloc[:, features])\n",
    "\n",
    "preds = pd.DataFrame({'Q3.3' : pred_33, 'Q4.2': pred_42, 'Q4.3': pred_43, 'Q5.2': pred_52})\n",
    "\n",
    "preds.head(5)"
   ]
  },
  {
   "cell_type": "markdown",
   "id": "a1e175b5",
   "metadata": {},
   "source": [
    "### 6.2 Use `mean_squared_error` as your scorer to assess the performance of the different models (those reported in the previous question) based on all the predicted values over test set. Based on this scorer which model is the best?"
   ]
  },
  {
   "cell_type": "code",
   "execution_count": 20,
   "id": "ce2a5e08",
   "metadata": {},
   "outputs": [
    {
     "name": "stdout",
     "output_type": "stream",
     "text": [
      "MSE for Q3.3: 0.6026156560875494\n",
      "MSE for Q4.2: 0.6023192899959823\n",
      "MSE for Q4.3: 0.6023192899959823\n",
      "MSE for Q5.2: 0.6025319126201951\n"
     ]
    }
   ],
   "source": [
    "#your code here\n",
    "\n",
    "print(f\"MSE for Q3.3: {sk.metrics.mean_squared_error(ytest, pred_33)}\")\n",
    "print(f\"MSE for Q4.2: {sk.metrics.mean_squared_error(ytest, pred_42)}\")\n",
    "print(f\"MSE for Q4.3: {sk.metrics.mean_squared_error(ytest, pred_43)}\")\n",
    "print(f\"MSE for Q5.2: {sk.metrics.mean_squared_error(ytest, pred_52)}\")"
   ]
  },
  {
   "cell_type": "markdown",
   "id": "18fb8c15",
   "metadata": {},
   "source": [
    "#### YOUR ANSWER HERE\n",
    "\n",
    "The smallest MSE is given by the models in Q4.2 and Q4.3."
   ]
  }
 ],
 "metadata": {
  "kernelspec": {
   "display_name": "Python 3 (ipykernel)",
   "language": "python",
   "name": "python3"
  },
  "language_info": {
   "codemirror_mode": {
    "name": "ipython",
    "version": 3
   },
   "file_extension": ".py",
   "mimetype": "text/x-python",
   "name": "python",
   "nbconvert_exporter": "python",
   "pygments_lexer": "ipython3",
   "version": "3.8.3"
  }
 },
 "nbformat": 4,
 "nbformat_minor": 5
}
