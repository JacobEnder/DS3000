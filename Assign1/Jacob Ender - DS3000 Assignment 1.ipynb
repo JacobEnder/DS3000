{
 "cells": [
  {
   "cell_type": "markdown",
   "metadata": {
    "id": "_RBaavJWOuPN"
   },
   "source": [
    "# Grade: /100 points\n",
    "\n",
    "# Assignment 01: Supervised learning, Linear models, and Loss functions\n",
    "\n",
    "In this assignment, you're going to write your own methods to fit a linear model using OLS and LAD cost functions.  \n",
    "\n",
    "## Data set\n",
    "\n",
    "For this assignment, we will examine some data representing possums in Australia and New Guinea. The data frame contains 46 observations on the following 6 variables:\n",
    "\n",
    "* sex: Sex, either m (male) or f (female).\n",
    "* age: Age in years.\n",
    "* headL: Head length, in mm.\n",
    "* skullW: Skull width, in mm.\n",
    "* totalL: Total length, in cm.\n",
    "* tailL: Tail length, in cm.\n",
    "\n",
    "## Follow These Steps Before Submitting\n",
    "Once you are finished, ensure to complete the following steps.\n",
    "\n",
    "1.  Restart your kernel by clicking 'Kernel' > 'Restart & Run All'.\n",
    "\n",
    "2.  Fix any errors which result from this.\n",
    "\n",
    "3.  Repeat steps 1. and 2. until your notebook runs without errors.\n",
    "\n",
    "4.  Submit your completed notebook to OWL by the deadline.\n",
    "\n",
    "\n"
   ]
  },
  {
   "cell_type": "markdown",
   "metadata": {
    "id": "FgvLxyyrOuPX"
   },
   "source": [
    "#### Before you start recall that\n",
    "\n",
    "L1 loss function (sum of magnitudes, used for LAD model):\n",
    "\n",
    "$$L_1(\\theta) = \\sum_{i=1}^{n} \\lvert {y_i-\\hat{y_i}} \\rvert$$\n",
    "\n",
    "L2 loss function (RSS, residual sum of squares, used for OLS model):\n",
    "\n",
    "$$L_2(\\theta) = \\sum_{i=1}^{n} ({y_i-\\hat{y_i}})^2$$"
   ]
  },
  {
   "cell_type": "markdown",
   "metadata": {
    "id": "QbAFX5GkOuPZ"
   },
   "source": [
    "## Global Toolbox"
   ]
  },
  {
   "cell_type": "code",
   "execution_count": null,
   "metadata": {
    "id": "F87Z7T6MOuPa"
   },
   "outputs": [],
   "source": [
    "import matplotlib.pyplot as plt\n",
    "import numpy as np\n",
    "import pandas as pd\n",
    "import scipy.stats as ss\n",
    "import scipy.optimize as so\n",
    "%matplotlib inline"
   ]
  },
  {
   "cell_type": "markdown",
   "metadata": {
    "id": "a5WObhdyOuPd"
   },
   "source": [
    "## Part 1: OLS Regression\n",
    "### Question 1.1:  /10 points\n",
    "\n",
    "\n",
    "Read in the `possum.csv` file as a `pandas.DataFrame`.  Investigate the relationship between the possum's age and its tail length by plotting a scatter plot of the `age` and `tailL` columns. Add an `alpha` (transparency of the plotted dots) in case some data are overlapping."
   ]
  },
  {
   "cell_type": "code",
   "execution_count": null,
   "metadata": {
    "colab": {
     "base_uri": "https://localhost:8080/",
     "height": 449
    },
    "id": "CBmUdzyFOuPe",
    "outputId": "8b4a1ea5-8d8b-45fa-ec12-f6e900d5b5bb"
   },
   "outputs": [
    {
     "data": {
      "image/png": "[encoded data removed]",
      "text/plain": [
       "<Figure size 640x480 with 1 Axes>"
      ]
     },
     "metadata": {},
     "output_type": "display_data"
    }
   ],
   "source": [
    "# Read in the data with pandas\n",
    "possum_data = pd.read_csv('possum.csv')\n",
    "\n",
    "# Make the scatter plot (don't forget the axis labels)\n",
    "\n",
    "plt.scatter(possum_data['age'], possum_data['tailL'], alpha=0.4)\n",
    "\n",
    "plt.xlabel('Possum Age (years)')\n",
    "plt.ylabel('Possum Tail Length (cm)')\n",
    "\n",
    "plt.show()"
   ]
  },
  {
   "cell_type": "markdown",
   "metadata": {
    "id": "rMgEWI6WOuPg"
   },
   "source": [
    "### Question 1.2: /5 point\n",
    "\n",
    "Recall that the linear model, we obtain predictions by computing\n",
    "\n",
    "$$ \\hat{\\mathbf{y}} = \\mathbf{X} \\hat{\\beta} $$\n",
    "\n",
    "Here, $\\mathbf{X}$ is a design matrix which includes a column of ones, $\\hat{\\beta}$ are coefficients, and $\\hat{\\mathbf{y}}$ are outcomes.  Write a function `linearModelPredict` to compute linear model predictions given data and a coefficient vector.  The function should take as it's arguments a 1d-array of coefficients `b` and the design matrix `X` as a 2d-array and return linear model predictions `yp`.\n",
    "\n",
    "Test the function by setting\n",
    "\n",
    "```\n",
    "X = np.array([[1,0],[1,-1],[1,2]])\n",
    "b = np.array([0.1,0.3])\n",
    "```\n",
    "and call your function with these values!\n",
    "\n",
    "Report $\\hat{\\mathbf{y}}$.\n",
    "What is the dimensionality of the numpy-array that you get back?\n",
    "\n",
    "Hint:  Read the documentation for `np.dot` or the `@` operator in `numpy`."
   ]
  },
  {
   "cell_type": "code",
   "execution_count": null,
   "metadata": {
    "colab": {
     "base_uri": "https://localhost:8080/"
    },
    "id": "K0vjY3hmOuPh",
    "outputId": "d491ac4b-8ad0-4cce-89ab-ff774792ed20"
   },
   "outputs": [
    {
     "name": "stdout",
     "output_type": "stream",
     "text": [
      "[ 0.1 -0.2  0.7]\n",
      "[[ 0.1  0.3]\n",
      " [-0.1 -0.1]\n",
      " [ 0.5  1.1]]\n"
     ]
    }
   ],
   "source": [
    "def linearModelPredict(b,X):\n",
    "    yp = np.dot(X, b)\n",
    "    return yp\n",
    "\n",
    "# Always important: Test the new function you have written!\n",
    "\n",
    "X = np.array([[1,0],[1,-1],[1,2]])\n",
    "b = np.array([0.1,0.3])\n",
    "\n",
    "yp = linearModelPredict(b, X)\n",
    "\n",
    "print(yp) #Vector of predictions\n",
    "\n",
    "# One sees that the dimensonality of the array is 1 - this is just a vector.\n",
    "\n",
    "# By the way: What happens when b is a 2d-array?\n",
    "\n",
    "b = np.array([[0.1,0.3], [0.2,0.4]])\n",
    "\n",
    "yp = linearModelPredict(b, X)\n",
    "\n",
    "print(yp) #Matrix of predictions\n",
    "\n",
    "# When b is a 2D array, we get a 3x2 matrix. So, the number of rows is equal to the number of rows in X, and the number of columns is equal\n",
    "# to the number of columns in b, i.e. it is just the usual matrix product."
   ]
  },
  {
   "cell_type": "markdown",
   "metadata": {
    "id": "FD0OtLL3OuPj"
   },
   "source": [
    "### Question 1.3: /15 points\n",
    "\n",
    "Write a function `linearModelLossRSS` which computes and returns the loss function for an OLS model parameterized by $\\beta$, as well as the gradient of the loss.  The function should take as its first argument a 1d-array `beta` of coefficients for the linear model, as its second argument the design matrix `X` as a 2d-array, and as its third argument a 1d-array `y` of observed outcomes.\n",
    "\n",
    "Test the function with the values\n",
    "\n",
    "```\n",
    "X = np.array([[1,0],[1,-1],[1,2]])\n",
    "b = np.array([0.1,0.3])\n",
    "y = np.array([0,0.4,2])\n",
    "```\n",
    "\n",
    "Report the loss and the gradient.\n",
    "\n",
    "**Written answer**: To minimize the cost do you need increase or decrease the value of the parameters?"
   ]
  },
  {
   "cell_type": "code",
   "execution_count": null,
   "metadata": {
    "colab": {
     "base_uri": "https://localhost:8080/"
    },
    "id": "euZUpvP6OuPl",
    "outputId": "ffa1e868-87f8-4742-b350-d75562fb8c85"
   },
   "outputs": [
    {
     "name": "stdout",
     "output_type": "stream",
     "text": [
      "(2.06, array([-3.6, -4. ]))\n"
     ]
    }
   ],
   "source": [
    "def linearModelLossRSS(b,X,y):\n",
    "    pred = linearModelPredict(b,X) #Get our vector of predictions\n",
    "\n",
    "    res = [y[i] - pred[i] for i in range(len(y))] #Residuals are y_i - \\hat{y_i} for 1 <= i <= n\n",
    "\n",
    "    residual_sum_of_squares = sum(k*k for k in res) #RSS = Sum of squared residuals\n",
    "\n",
    "    gradient = -2 * (np.dot(X.transpose(), res)) #From the slides, grad = -2(X^T@r), where r = res.\n",
    "\n",
    "    return (residual_sum_of_squares, gradient)\n",
    "\n",
    "X = np.array([[1,0],[1,-1],[1,2]])\n",
    "b = np.array([0.1,0.3])\n",
    "y = np.array([0,0.4,2])\n",
    "\n",
    "print(linearModelLossRSS(b,X,y)) #The results are reported below - the first element is the RSS, the second is the gradient in B_0 and B_1.\n"
   ]
  },
  {
   "cell_type": "markdown",
   "metadata": {
    "id": "dpJWhnwReZKi"
   },
   "source": [
    "# Written Answer.\n",
    "\n",
    "Note that both partial derivatives are negative. So, to minimize cost, we need to increase the value of the parameters, as the cost surface is currently sloping down. Recall that we want the minimum loss, so we want to follow this downward slope."
   ]
  },
  {
   "cell_type": "markdown",
   "metadata": {
    "id": "FmpObbnDOuPm"
   },
   "source": [
    "### Question 1.4:  /15 points.\n",
    "\n",
    "Now that you've implemented a loss function in question 1.3, it is now time to minimize it!\n",
    "\n",
    "Write a function `linearModelFit` to fit a linear model.  The function should take as its first argument the design matrix `X` as a 2d-array, as its second argument a 1d-array `y` of outcomes, and as its third argument a function  `lossfcn` which returns as a tuple the value of the loss, as well as the gradient of the loss. As a result, it should return the estimated betas and the R2.\n",
    "\n",
    "**Hint**: Using `scipy.optimize.minimize` to minimize the customized loss function\n",
    "\n",
    "\n",
    "Test the function with the values:\n",
    "```\n",
    "X = np.array([[1,0],[1,-1],[1,2]])\n",
    "y = np.array([0,0.4,2])\n",
    "```\n",
    "\n",
    "Report best parameters and the fitted R2\n"
   ]
  },
  {
   "cell_type": "code",
   "execution_count": null,
   "metadata": {
    "colab": {
     "base_uri": "https://localhost:8080/"
    },
    "id": "coAfK7SzOuPm",
    "outputId": "d1669a93-819b-44a6-e053-c306ef658e74"
   },
   "outputs": [
    {
     "name": "stdout",
     "output_type": "stream",
     "text": [
      "(array([0.6, 0.6]), 0.75)\n"
     ]
    }
   ],
   "source": [
    "def linearModelFit(X,y,lossfcn = linearModelLossRSS):\n",
    "\n",
    "    bstart = [0,0]\n",
    "\n",
    "    result = so.minimize(lossfcn, bstart, args=(X,y), jac=True) # Minimize the loss function (from slides)\n",
    "\n",
    "    estimated_betas = result.x # The array [\\hat{B_0}, \\hat{B_1}] is given by the x attribute of result.\n",
    "\n",
    "    mean_deviations = [(y[i] - np.mean(y)) for i in range(len(y))] # TSS = sum[(y_i - \\bar{y})^2]\n",
    "\n",
    "    TSS = sum(k*k for k in mean_deviations) # Summing the squares\n",
    "    RSS = (lossfcn(estimated_betas, X, y))[0] # RSS computed from above method\n",
    "\n",
    "    R2 = 1 - RSS/TSS\n",
    "\n",
    "    return (estimated_betas,R2)\n",
    "\n",
    "X = np.array([[1,0],[1,-1],[1,2]])\n",
    "y = np.array([0,0.4,2])\n",
    "\n",
    "print(linearModelFit(X,y))"
   ]
  },
  {
   "cell_type": "markdown",
   "metadata": {
    "id": "JZymY6cXjfJJ"
   },
   "source": [
    "One sees above that $\\hat{\\beta_0} = \\hat{\\beta_1} = 0.6$, and $R^2 = 0.75$, which is relatively high."
   ]
  },
  {
   "cell_type": "markdown",
   "metadata": {
    "id": "kNkPyHTPOuPn"
   },
   "source": [
    "### Question 1.5: /15 points\n",
    "\n",
    "Use the above functions to fit your model to the possum data. Then use your model and the fitted parameters to make predictions along a grid of equally spaced possum ages.  \n",
    "\n",
    "**Hint** : Don't forget to include a column of ones in your design matrix to allow bias\n",
    "\n",
    "Plot the data and add a line for the predicted values. You can get these by generating a new X-matrix with equally space ages (using for example np.linspace). Also report the R2 value for the fit. You can do this by either printing out the R2 of the fit or putting it on your plot via the `annotate` function in matplotlib.\n"
   ]
  },
  {
   "cell_type": "code",
   "execution_count": null,
   "metadata": {
    "colab": {
     "base_uri": "https://localhost:8080/",
     "height": 466
    },
    "id": "EEwsiDtGOuPn",
    "outputId": "38f4bc30-9480-49cc-d3e9-973ba4fcabc9"
   },
   "outputs": [
    {
     "data": {
      "image/png": "[encoded data removed]",
      "text/plain": [
       "<Figure size 640x480 with 1 Axes>"
      ]
     },
     "metadata": {},
     "output_type": "display_data"
    },
    {
     "name": "stdout",
     "output_type": "stream",
     "text": [
      "R^2 = 0.22286587947604097\n"
     ]
    }
   ],
   "source": [
    "# Make the design matrix using np.c_\n",
    "\n",
    "y = possum_data['tailL']\n",
    "X =  np.c_[np.ones(len(possum_data['age'])), np.array(possum_data['age'])]\n",
    "\n",
    "# Call your fitting function\n",
    "\n",
    "fitted = linearModelFit(X,y) #fitted = ([\\hat{B_0}, \\hat{B_1}], R^2)\n",
    "b = fitted[0]\n",
    "\n",
    "# Create the scatter plot (see question 1.1)\n",
    "\n",
    "plt.scatter(possum_data['age'], possum_data['tailL'], alpha=0.4)\n",
    "\n",
    "plt.xlabel('Possum Age (years)')\n",
    "plt.ylabel('Possum Tail Length (cm)')\n",
    "\n",
    "# Create a new X matrix with equally space data\n",
    "\n",
    "x_grid = np.linspace(X.min(), X.max(),10)\n",
    "\n",
    "# Add the line to the graph\n",
    "\n",
    "#fitted[0][1] = \\hat{B_1}, fitted[0][0] = \\hat{B_0}\n",
    "plt.plot(x_grid, b[0] + x_grid*b[1], color = 'red')\n",
    "\n",
    "plt.show()\n",
    "\n",
    "# Report R2\n",
    "\n",
    "print(\"R^2 = \" + str(fitted[1]))"
   ]
  },
  {
   "cell_type": "markdown",
   "metadata": {
    "id": "1MfAfnhSOuPn"
   },
   "source": [
    "## Part 2: LAD Regression\n",
    "\n",
    "### Question 2.1:  /13 points\n",
    "\n",
    "In the previous section, we worked with the squared loss.  Now, we'll implement a linear model with least absolute deviation loss.\n",
    "\n",
    "Write a function `linearModelLossLAD` which computes the least absolute deviation loss function for a linear model  parameterized by $\\beta$, as well as the gradient of the loss.  The function should take as its first argument a 1d-array `beta` of coefficients for the linear model, as its second argument the design matrix `X` as a 2d-array, and as its third argument a 1d-array `y` of observed outcomes.\n",
    "\n",
    "Test the function with the values\n",
    "\n",
    "```\n",
    "X = np.array([[1,0],[1,-1],[1,2]])\n",
    "b = np.array([0.1,0.3])\n",
    "y = np.array([0,0.4,2])\n",
    "```\n",
    "\n",
    "Report the loss and the gradient."
   ]
  },
  {
   "cell_type": "code",
   "execution_count": null,
   "metadata": {
    "colab": {
     "base_uri": "https://localhost:8080/"
    },
    "id": "Qf07ouZ-OuPo",
    "outputId": "8535e542-c8d9-41dc-e420-57551e6242c7"
   },
   "outputs": [
    {
     "name": "stdout",
     "output_type": "stream",
     "text": [
      "(2.0, [-1.0, -1.0])\n"
     ]
    }
   ],
   "source": [
    "def linearModelLossLAD(b,X,y):\n",
    "\n",
    "    yp = linearModelPredict(b, X)\n",
    "\n",
    "    # Compute residuals\n",
    "    res = [y[i] - yp[i] for i in range(len(y))]\n",
    "\n",
    "    # Sum up the magnitude of the residuals\n",
    "    sum_abs_dev = sum([abs(res[i]) for i in range(len(res))])\n",
    "\n",
    "    grad = [0,0]\n",
    "\n",
    "    # One-liner formulas for each gradient component - the gradient components for LAD are given in the slides.\n",
    "    grad[0] = -sum([np.sign(res[i]) for i in range(len(res))]) # -sum(sgn(r_i))\n",
    "    grad[1] = -sum([np.sign(res[i]) * X[i][1] for i in range(len(res))]) # -sum(sgn(r_i) * x_i)\n",
    "\n",
    "    return (sum_abs_dev,grad)\n",
    "\n",
    "X = np.array([[1,0],[1,-1],[1,2]])\n",
    "b = np.array([0.1,0.3])\n",
    "y = np.array([0,0.4,2])\n",
    "\n",
    "print(linearModelLossLAD(b,X,y)) # Results reported below\n",
    "\n"
   ]
  },
  {
   "cell_type": "markdown",
   "metadata": {
    "id": "ws7Su1k8OuPo"
   },
   "source": [
    "### Question 2.2: /8 points\n",
    "\n",
    "\n",
    "Use the above functions to fit your LAD model. Use your model to make predictions along a grid of equally spaced possum ages.  Once fit, add the fitted line to the scatter plot as in question 1.5.  Also report the R2-value.\n",
    "\n",
    "**Written answer**: What is the difference in the fit obtained with an L1 as compared to the L2 cost function? Which one has a higher R2 value? Why?  \n",
    "\n",
    "Note: If you recieve an error from the optimizer, it may be because the loss function for the LAD model is not differentiable at its minimum.  This will lead to some gradient based optimizers to fail to converge.  If this happens to you then pass `method=\"Powell\"` to `scipy.optimize.minimize`.\n",
    "\n"
   ]
  },
  {
   "cell_type": "code",
   "execution_count": null,
   "metadata": {
    "colab": {
     "base_uri": "https://localhost:8080/",
     "height": 466
    },
    "id": "kO74gDSpOuPo",
    "outputId": "b961168f-6b5c-4a23-b981-5175a30c91d9"
   },
   "outputs": [
    {
     "data": {
      "image/png": "[encoded data removed]",
      "text/plain": [
       "<Figure size 640x480 with 1 Axes>"
      ]
     },
     "metadata": {},
     "output_type": "display_data"
    },
    {
     "name": "stdout",
     "output_type": "stream",
     "text": [
      "R^2 = 0.8518891715225404\n"
     ]
    }
   ],
   "source": [
    "# Make the design matrix using np.c_\n",
    "\n",
    "y = possum_data['tailL']\n",
    "X =  np.c_[np.ones(len(possum_data['age'])), np.array(possum_data['age'])]\n",
    "\n",
    "# Call your fitting function\n",
    "\n",
    "fitted = linearModelFit(X,y, lossfcn=linearModelLossLAD) #fitted = ([\\hat{B_0}, \\hat{B_1}], R^2)\n",
    "b = fitted[0]\n",
    "\n",
    "# Create the scatter plot (see question 1.1)\n",
    "\n",
    "plt.scatter(possum_data['age'], possum_data['tailL'], alpha=0.4)\n",
    "\n",
    "plt.xlabel('Possum Age (years)')\n",
    "plt.ylabel('Possum Tail Length (cm)')\n",
    "\n",
    "# Create a new X matrix with equally space data\n",
    "\n",
    "x_grid = np.linspace(X.min(), X.max(),10)\n",
    "\n",
    "# Add the line to the graph\n",
    "\n",
    "#fitted[0][1] = \\hat{B_1}, fitted[0][0] = \\hat{B_0}\n",
    "plt.plot(x_grid, b[0] + x_grid*b[1], color = 'red')\n",
    "\n",
    "plt.show()\n",
    "\n",
    "# Report R2\n",
    "\n",
    "print(\"R^2 = \" + str(fitted[1]))"
   ]
  },
  {
   "cell_type": "markdown",
   "metadata": {
    "id": "_hKXeqsSOuPo"
   },
   "source": [
    "## Written Answer\n",
    "\n",
    "The LAD model weights the outliers (e.g. at (9, 55)) much less heavily than the OLS model, which decreases the slope of the fitted regression line. This results in a higher $R^2$, as median regression (i.e. $L_1$ loss) is more robust."
   ]
  },
  {
   "cell_type": "markdown",
   "metadata": {
    "id": "CUkrQIlwOuPp"
   },
   "source": [
    "## Part 3: OLS Regression using Sklearn\n",
    "### Question 3.1: /7 points\n",
    "\n",
    "Fit an OLS model to the possum data with the `linear_model` module from the `sklearn` package by using the `LinearRegression` class.  In no more than two sentences, comment on the rsquared values from `sklearn` and the rsquared values from your models. Are they similar?"
   ]
  },
  {
   "cell_type": "code",
   "execution_count": null,
   "metadata": {
    "colab": {
     "base_uri": "https://localhost:8080/"
    },
    "id": "IsPPdG-POuPp",
    "outputId": "c4910b94-d5fc-467e-fb7f-f6fb09d0de8f"
   },
   "outputs": [
    {
     "data": {
      "text/plain": [
       "0.22286587947604108"
      ]
     },
     "execution_count": 9,
     "metadata": {},
     "output_type": "execute_result"
    }
   ],
   "source": [
    "from sklearn.linear_model import LinearRegression\n",
    "\n",
    "# Declare the same X and y matrices\n",
    "X =  np.c_[np.ones(len(possum_data['age'])), np.array(possum_data['age'])]\n",
    "y = np.array(possum_data['tailL'])\n",
    "\n",
    "# Fit the model\n",
    "regression = LinearRegression().fit(X, y)\n",
    "\n",
    "# We aren't asked to plot anything, just to report the R^2.\n",
    "regression.score(X,y)\n"
   ]
  },
  {
   "cell_type": "markdown",
   "metadata": {
    "id": "9UMZ-Pq_vBy0"
   },
   "source": [
    "## Written Answer\n",
    "\n",
    "The $R^2$ from my OLS model is 0.22286587947604097, which is very, very slightly less than the sklearn $R^2$ of 0.22286587947604108. I'm not sure why this occurs, as the implementation should be very similar."
   ]
  },
  {
   "cell_type": "markdown",
   "metadata": {
    "id": "zcJce5e6OuPp"
   },
   "source": [
    "## Part 4: A new loss function\n",
    "### Question 4.1: /4 points\n",
    "\n",
    "Assume that the following function has been proposed to you to use as a new loss function for regression:\n",
    "\n",
    "$$L_3(\\hat{\\beta}) = \\sum_{i=1}^{n} ({y_i-\\hat{y_i}})^3$$\n",
    "\n",
    "What do you think about this new loss function, would you accept it? Please, explain."
   ]
  },
  {
   "cell_type": "markdown",
   "metadata": {
    "id": "iIToMKX-OuPp"
   },
   "source": [
    "We will evaluate the robustness of this loss function. If $\\hat{y_i} = b_0 + b_1x_i$, then letting $L = L_3(\\hat{\\beta})$, we have\n",
    "$$\n",
    "\\frac{\\partial L}{\\partial b_0} = -3\\sum_{i=1}^n (y_i-b_0-b_1x_i)^2.\n",
    "$$\n",
    "So, this partial derivative is very sensitive to outliers, since it depends on summing the squared $y$-values. Thus, outliers in our dataset will significantly skew the loss function, leading to a poor fit. Also, this function will be hard to optimize, given that its partial derivatives are relatively complicated. For these reasons, I would not accept this loss function for most applications.\n",
    "\n"
   ]
  },
  {
   "cell_type": "markdown",
   "metadata": {
    "id": "Dr-mR-QiOuPp"
   },
   "source": [
    "### Question 4.2: /8 points\n",
    "\n",
    "Regardless of your answer to Question 4.1, taking $\\: \\hat{\\mathbf{y}} = \\mathbf{X^2} \\hat{\\beta}\\:$ as your functional form for regression, use your knowledge of calculus to calculate the gradient of $\\: L_3(\\hat{\\beta}).$ Type your answer (including the intermediate steps) in the cell below in Latex format. Note that $\\hat{\\beta}=[\\beta_0, \\beta_1]^T$, and $\\mathbf{X}$ is an $n$-by-$2$ matrix."
   ]
  },
  {
   "cell_type": "markdown",
   "metadata": {
    "id": "ZZpQJFbwOuPp"
   },
   "source": [
    "First, observe that if\n",
    "$$\n",
    "\\textbf{X} = \\begin{bmatrix}\n",
    "1 & x_1 \\\\\n",
    "1 & x_2 \\\\\n",
    "\\vdots & \\vdots \\\\\n",
    "1 & x_n\n",
    "\\end{bmatrix}\n",
    "$$\n",
    "is our design matrix and $\\hat{\\beta} = [\\beta_0, \\beta_1]$, then\n",
    "$$\n",
    "\\hat{\\textbf{y}} = \\textbf{X}^2 \\hat{\\beta} = \\begin{bmatrix}\n",
    "1 & x_1^2 \\\\\n",
    "1 & x_2^2 \\\\\n",
    "\\vdots & \\vdots \\\\\n",
    "1 & x_n^2\n",
    "\\end{bmatrix} [\\beta_0, \\beta_1] = [\\beta_0 + \\beta_1x_1^2, \\beta_0 + \\beta_1x_2^2, \\dots, \\beta_0 + \\beta_1 x_n^2].\n",
    "$$\n",
    "So, for $1 \\leq i \\leq n$, we have $\\hat{y_i} = \\beta_0 + \\beta_1x_i^2$. Then, for each $i$, we calculate the residual\n",
    "\\begin{align*}\n",
    "r_i &= y_i - \\hat{y_i} \\\\\n",
    "    &= y_i - (\\beta_0 + \\beta_1x_i^2)\\\\\n",
    "    &= y_i - \\beta_0 - \\beta_1 x_i^2.\n",
    "\\end{align*}\n",
    "We now proceed with our calculation of the gradient. First, note that\n",
    "$$\n",
    "L_3(\\hat{\\beta}) = \\sum_{i = 1}^n (y_i - \\hat{y_i})^3 = \\sum_{i = 1}^n (y_i - \\beta_0 - \\beta_1 x_i^2)^3\n",
    "$$\n",
    "by our last calculation. Now, we compute\n",
    "\\begin{align*}\n",
    "\\frac{\\partial L}{\\partial \\beta_0} &= \\sum_{i = 1}^n [3(y_i - \\beta_0 - \\beta_1 x_i^2)^2 \\cdot -1] \\text{ by the chain rule} \\\\\n",
    "                                    &= -3 \\sum_{i = 1}^n (y_i - \\beta_0 - \\beta_1 x_i^2)^2 \\\\\n",
    "                                    &= -3 \\sum_{i = 1}^n r_i^2.\n",
    "\\end{align*}\n",
    "For $\\beta_1$, we see that\n",
    "\\begin{align*}\n",
    "\\frac{\\partial L}{\\partial \\beta_1} &= \\sum_{i = 1}^n [3(y_i - \\beta_0 - \\beta_1 x_i^2)^2 \\cdot (-x_i^2)] \\text{ by the chain rule} \\\\\n",
    "                                    &= -3 \\sum_{i = 1}^n (y_i - \\beta_0 - \\beta_1 x_i^2)^2 \\cdot x_i^2 \\\\\n",
    "                                    &= -3 \\sum_{i = 1}^n r_i^2x_i^2.\n",
    "\\end{align*}\n",
    "So, the gradient is\n",
    "$$\n",
    "\\nabla_{\\hat{\\beta}}L = \\begin{bmatrix} \\frac{\\partial L}{\\partial \\beta_0} \\\\ \\frac{\\partial L}{\\partial \\beta_1} \\end{bmatrix} = \\begin{bmatrix} -3 \\sum_{i = 1}^n r_i^2 \\\\ -3 \\sum_{i = 1}^n r_i^2x_i^2 \\end{bmatrix}.\n",
    "$$"
   ]
  }
 ],
 "metadata": {
  "colab": {
   "provenance": []
  },
  "kernelspec": {
   "display_name": "Python 3 (ipykernel)",
   "language": "python",
   "name": "python3"
  },
  "language_info": {
   "codemirror_mode": {
    "name": "ipython",
    "version": 3
   },
   "file_extension": ".py",
   "mimetype": "text/x-python",
   "name": "python",
   "nbconvert_exporter": "python",
   "pygments_lexer": "ipython3",
   "version": "3.8.3"
  },
  "vscode": {
   "interpreter": {
    "hash": "c1bb765f2992f8c3473d947572f750144adb783c35189567846adef00c3476ed"
   }
  }
 },
 "nbformat": 4,
 "nbformat_minor": 1
}
